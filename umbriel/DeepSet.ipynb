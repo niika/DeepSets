{
 "cells": [
  {
   "cell_type": "code",
   "execution_count": 1,
   "metadata": {},
   "outputs": [],
   "source": [
    "from __future__ import print_function, division\n",
    "import os\n",
    "import torch\n",
    "import pandas as pd\n",
    "from skimage import io\n",
    "import numpy as np\n",
    "import matplotlib.pyplot as plt\n",
    "from torch.utils.data import Dataset, DataLoader\n",
    "from torchvision import transforms, utils,models\n",
    "import cv2\n",
    "import torch.nn as nn\n",
    "import torch.nn.functional as F\n",
    "from scipy.stats import multivariate_normal\n",
    "from scipy import random, linalg\n",
    "from sklearn.model_selection import train_test_split\n",
    "import torch.optim as optim\n",
    "import re\n",
    "import json\n",
    "import time\n",
    "from tqdm.notebook import tqdm\n",
    "\n",
    "import sys\n",
    "from utils import *"
   ]
  },
  {
   "cell_type": "code",
   "execution_count": 2,
   "metadata": {},
   "outputs": [],
   "source": [
    "from torch.utils.data import Dataset, DataLoader\n",
    "from torchvision import transforms, utils\n",
    "\n",
    "class CGData(Dataset):\n",
    "    \"\"\"Dataset containing all sequences with artifacts\n",
    "    \n",
    "    Generates three distorted images as input data.\n",
    "    \n",
    "    \"\"\"\n",
    "    \n",
    "    def __init__(self, root_dir, indices, sample_size, resize=True):\n",
    "        self.root_dir = root_dir\n",
    "        self.ToPIL = transforms.ToPILImage()\n",
    "        self.ToTensor = transforms.ToTensor()\n",
    "        self.indices = indices\n",
    "        self.resize=resize\n",
    "        self.sample_size = sample_size\n",
    "        \n",
    "        files = os.listdir(root_dir)\n",
    "        match = lambda x: len(re.findall(\"img_\\d+_\\d.jpg\", x))== 1\n",
    "        cut_string = lambda x: eval(re.sub(\"_.*\",\"\",re.sub(\"img_\",\"\",x)))\n",
    "\n",
    "        files = list(filter(match,files))\n",
    "        files = list(map(cut_string,files))\n",
    "\n",
    "\n",
    "        first,last = min(files),max(files)\n",
    "        self.offset = first\n",
    "        self.last = last\n",
    "    \n",
    "    def __len__(self):\n",
    "        return len(self.indices)\n",
    "    \n",
    "    def __getitem__(self, idx):        \n",
    "        \n",
    "        idx = self.indices[idx]\n",
    "        count = 0\n",
    "        img_files = None\n",
    "        imgs = None\n",
    "        label = None\n",
    "        while True:\n",
    "            \n",
    "            n = self.sample_size\n",
    "            nrs = np.random.choice(range(1,10), size=n, replace=False).tolist()\n",
    "            img_files = [self.root_dir +  \"img_\" +str(idx)+ \"_\" + str(nr) + \".jpg\" for nr in nrs]\n",
    "            exists = all([os.path.isfile(img_file) for img_file in img_files])\n",
    "            count+=1\n",
    "            try:\n",
    "                imgs = [cv2.imread(file) for file in img_files]\n",
    "                imgs = [img[...,::-1]- np.zeros_like(img) for img in imgs]\n",
    "\n",
    "                label_file = self.root_dir + \"books/img \" + \"(\"+str(idx - 1)+\").jpg\"\n",
    "                label = cv2.imread(label_file)\n",
    "                label = label[...,::-1]- np.zeros_like(label)\n",
    "                break\n",
    "\n",
    "            except:\n",
    "                idx = np.random.randint(len(self.indices))\n",
    "                idx = self.indices[idx]\n",
    "\n",
    "        \n",
    "        \n",
    "        if self.resize:\n",
    "            label = cv2.resize(label, dsize=(256,256))\n",
    "            imgs = [ cv2.resize(img, dsize=(256,256)) for img in imgs]\n",
    "        \n",
    "\n",
    "        H,W,C = imgs[0].shape\n",
    "        if H<W:\n",
    "            label = np.rot90(label)\n",
    "            label -= np.zeros_like(label)\n",
    "            imgs = [np.rot90(img) for img in imgs]- np.zeros_like(label)\n",
    "        \n",
    "        flip = np.random.randint(-1,3)\n",
    "        if flip < 2:\n",
    "            label = cv2.flip(label,flip)- np.zeros_like(label)\n",
    "            imgs = [cv2.flip(img,flip) for img in imgs]- np.zeros_like(label)\n",
    "\n",
    "        \n",
    "        imgs = [self.ToTensor(img) for img in imgs]\n",
    "        #data = torch.unsqueeze(data,0)\n",
    "        imgs = torch.stack(imgs)\n",
    "        \n",
    "        label = label.astype(np.uint8)\n",
    "        label = self.ToTensor(label)\n",
    "        #label = torch.unsqueeze(label,0)\n",
    "        return imgs, label"
   ]
  },
  {
   "cell_type": "markdown",
   "metadata": {},
   "source": [
    "# Architecture"
   ]
  },
  {
   "cell_type": "code",
   "execution_count": 3,
   "metadata": {},
   "outputs": [],
   "source": [
    "class ResidualBlock(nn.Module):\n",
    "    def __init__(self, in_planes, out_planes):\n",
    "        super(ResidualBlock, self).__init__()\n",
    "        self.conv1 = nn.Conv2d(in_planes, out_planes, kernel_size=3, stride=1, padding=1, bias=True)\n",
    "        self.conv2 = nn.Conv2d(out_planes, out_planes, kernel_size=3, stride=1, padding=1, bias=True)\n",
    "\n",
    "    def forward(self, x):\n",
    "        out = F.relu(self.conv1(x))\n",
    "        out = self.conv2(out)\n",
    "        out += x\n",
    "        return out\n",
    "    \n",
    "class DilatedResidualBlock(nn.Module):\n",
    "    def __init__(self, in_planes, out_planes, dilation):\n",
    "        super(DilatedResidualBlock, self).__init__()\n",
    "        self.conv1 = nn.Conv2d(in_planes, out_planes, kernel_size=3, stride=1, dilation=dilation, padding=dilation, bias=True)\n",
    "        self.conv2 = nn.Conv2d(out_planes, out_planes, kernel_size=3, stride=1, dilation=dilation,padding=dilation, bias=True)\n",
    "\n",
    "    def forward(self, x):\n",
    "        out = F.relu(self.conv1(x))\n",
    "        out = self.conv2(out)\n",
    "        out += x\n",
    "        return out\n",
    "        \n",
    "class DeepSetNet(nn.Module):\n",
    "    \"\"\" Deep Set Residual Neural Network \"\"\"\n",
    "    def __init__(self, encoder_num_blocks=10, decoder_num_blocks=10, smooth_num_blocks=6, planes=32,block=ResidualBlock ):\n",
    "        super(DeepSetNet, self).__init__()\n",
    "        self.planes = planes\n",
    "        self.input = nn.Conv2d(3, self.planes, kernel_size=3, stride=1, padding=1, bias=True)\n",
    "        self.output= nn.Conv2d(self.planes, 3, kernel_size=3, stride=1, padding=1, bias=True)\n",
    "        \n",
    "        \n",
    "        # Create a down-/up-sampling architecture\n",
    "        self.downsample = []\n",
    "        self.upsample = []\n",
    "        n = planes\n",
    "        for i in range(2):\n",
    "            self.downsample.append( nn.Conv2d(in_channels = n, out_channels=n*2, kernel_size=3, stride=2, padding=1 ) )\n",
    "            self.downsample.append(nn.ReLU(inplace=True))\n",
    "\n",
    "            \n",
    "            self.upsample = [nn.ReLU(inplace=True)] + self.upsample\n",
    "            self.upsample = [nn.ConvTranspose2d(in_channels=n*2, out_channels=n, kernel_size=3, stride=2, padding=1, output_padding=1)] + self.upsample\n",
    "            n *= 2\n",
    "\n",
    "        self.downsample = nn.Sequential(*self.downsample)\n",
    "        self.upsample = nn.Sequential(*self.upsample)\n",
    "        \n",
    "        \n",
    "        # Embedding of downsampled features\n",
    "        self.encoder = self._make_layer(block, n, encoder_num_blocks)\n",
    "        self.decoder = self._make_layer(block, n, decoder_num_blocks)\n",
    "        self.smooth  = self._make_smooth_layer(planes, smooth_num_blocks)\n",
    "        \n",
    "    def _make_layer(self, block, planes, num_blocks):\n",
    "        layers = []\n",
    "        for i in range(num_blocks):\n",
    "            layers.append(DilatedResidualBlock(planes, planes,2))\n",
    "        return nn.Sequential(*layers)\n",
    "    \n",
    "    def _make_smooth_layer(self, planes, num_blocks):\n",
    "        layers = []\n",
    "        dilation = 1\n",
    "        for i in range(num_blocks):\n",
    "            layers.append(DilatedResidualBlock(planes,planes,dilation))\n",
    "            if i%2 == 0:\n",
    "                dilation *= 2\n",
    "        layers.append( nn.Conv2d(in_channels = planes, out_channels=planes, kernel_size=3, stride=1, padding=1 ) )\n",
    "        layers.append(nn.ReLU(inplace=True))\n",
    "        layers.append( nn.Conv2d(in_channels = planes, out_channels=planes, kernel_size=3, stride=1, padding=1 ) )\n",
    "        return nn.Sequential(*layers)\n",
    "            \n",
    "        \n",
    "\n",
    "    def forward(self, x):\n",
    "        \"\"\"Forward pass of our DeepSet Network \n",
    "        \n",
    "        x: of tensor of size (B, S, C, H, W)\n",
    "        \"\"\"\n",
    "\n",
    "        xs = torch.split(x,1,dim = 1)\n",
    "        xs = [torch.squeeze(x,dim=1) for x in xs]\n",
    "        embedding = [self.encoder(self.downsample(self.input(x))) for x in xs]\n",
    "        embedding = torch.stack(embedding).mean(0)\n",
    "        out = self.output(self.smooth(self.upsample(self.decoder(embedding))))\n",
    "\n",
    "        \n",
    "        return out"
   ]
  },
  {
   "cell_type": "code",
   "execution_count": 4,
   "metadata": {},
   "outputs": [
    {
     "name": "stdout",
     "output_type": "stream",
     "text": [
      "The following directory will be used in all further steps:  ./models/\n",
      "6462 60848\n"
     ]
    }
   ],
   "source": [
    "model_dir = \"./models/\"\n",
    "if not os.path.isdir(model_dir):\n",
    "    os.mkdir(model_dir)\n",
    "\n",
    "print(\"The following directory will be used in all further steps:  \" + model_dir)\n",
    "\n",
    "\n",
    "# Create Dataset and split it into Training and test set\n",
    "minibatch_size = 10\n",
    "data_dir = \"../250x250/\"\n",
    "files = os.listdir(data_dir)\n",
    "match = lambda x: len(re.findall(\"img_\\d+_\\d.jpg\", x))== 1\n",
    "cut_string = lambda x: eval(re.sub(\"_.*\",\"\",re.sub(\"img_\",\"\",x)))\n",
    "\n",
    "files = list(filter(match,files))\n",
    "files = list(map(cut_string,files))\n",
    "\n",
    "\n",
    "first, last = min(files),max(files)\n",
    "print(first, last)\n",
    "\n",
    "n = last - first + 1\n",
    "train, test = train_test_split(list(range(first, last+1)))\n",
    "#train, test = train_test_split(range(first, first+100))\n",
    "\n",
    "if os.path.isfile(model_dir + \"/trainingIdx.txt\"):\n",
    "    f1 = open(model_dir + \"/trainingIdx.txt\", \"r\")\n",
    "    f2 = open(model_dir + \"/testIdx.txt\", \"r\")\n",
    "    train = eval(f1.read())\n",
    "    test = eval(f2.read())\n",
    "    f1.close()\n",
    "    f2.close()\n",
    "else:\n",
    "    write(model_dir + \"/trainingIdx.txt\",train)\n",
    "    write(model_dir + \"/testIdx.txt\",test)\n",
    "\n",
    "    \n",
    "if os.path.isfile(model_dir + \"/params.json\"):\n",
    "    f = open(model_dir + \"/params.json\", \"r\")\n",
    "    params = json.loads(f.read())\n",
    "    f.close()\n",
    "else:\n",
    "    params = {\n",
    "        \"epoch\": 0,\n",
    "        \"time\": 0,\n",
    "    }\n",
    "    f = open(model_dir + \"/params.json\", \"w\")\n",
    "    f.write(json.dumps(params))\n",
    "    f.close()\n",
    "\n",
    "\n",
    "device = torch.device(\"cuda:0\")\n",
    "\n",
    "# Initialize Neural Network\n",
    "net = DeepSetNet(encoder_num_blocks=10, decoder_num_blocks=5, planes=18)\n",
    "\n",
    "if  os.path.isfile(model_dir + \"/nn.pt\"):\n",
    "    net.load_state_dict(torch.load(model_dir + \"/nn.pt\"))\n",
    "\n",
    "net = net.to(device)\n",
    "\n",
    "criterion = nn.MSELoss()\n",
    "epochs = 10000"
   ]
  },
  {
   "cell_type": "code",
   "execution_count": null,
   "metadata": {},
   "outputs": [
    {
     "data": {
      "application/vnd.jupyter.widget-view+json": {
       "model_id": "a5e7aa1f88cb422eae5aebb6ed3a3bdd",
       "version_major": 2,
       "version_minor": 0
      },
      "text/plain": [
       "HBox(children=(IntProgress(value=0, description='Sample size 1', max=4079, style=ProgressStyle(description_wid…"
      ]
     },
     "metadata": {},
     "output_type": "display_data"
    },
    {
     "name": "stdout",
     "output_type": "stream",
     "text": [
      "\n",
      "Sample size : 1 \t Training Error 0.013183\n"
     ]
    },
    {
     "data": {
      "application/vnd.jupyter.widget-view+json": {
       "model_id": "5a5d807a64014bf7bca3953d1ca59819",
       "version_major": 2,
       "version_minor": 0
      },
      "text/plain": [
       "HBox(children=(IntProgress(value=0, description='Sample size 2', max=4079, style=ProgressStyle(description_wid…"
      ]
     },
     "metadata": {},
     "output_type": "display_data"
    },
    {
     "name": "stdout",
     "output_type": "stream",
     "text": [
      "\n",
      "Sample size : 2 \t Training Error 0.005487\n"
     ]
    },
    {
     "data": {
      "application/vnd.jupyter.widget-view+json": {
       "model_id": "1647e1ea324e413d90e4c6b01c45eecb",
       "version_major": 2,
       "version_minor": 0
      },
      "text/plain": [
       "HBox(children=(IntProgress(value=0, description='Sample size 3', max=4079, style=ProgressStyle(description_wid…"
      ]
     },
     "metadata": {},
     "output_type": "display_data"
    },
    {
     "name": "stdout",
     "output_type": "stream",
     "text": [
      "\n",
      "Sample size : 3 \t Training Error 0.003858\n"
     ]
    },
    {
     "data": {
      "application/vnd.jupyter.widget-view+json": {
       "model_id": "8aefdbda6f784f31bad2d1c080818fee",
       "version_major": 2,
       "version_minor": 0
      },
      "text/plain": [
       "HBox(children=(IntProgress(value=0, description='Sample size 4', max=4079, style=ProgressStyle(description_wid…"
      ]
     },
     "metadata": {},
     "output_type": "display_data"
    },
    {
     "name": "stdout",
     "output_type": "stream",
     "text": [
      "\n",
      "Sample size : 4 \t Training Error 0.003215\n"
     ]
    },
    {
     "data": {
      "application/vnd.jupyter.widget-view+json": {
       "model_id": "c5b14288a3954b629357989045ea3ad6",
       "version_major": 2,
       "version_minor": 0
      },
      "text/plain": [
       "HBox(children=(IntProgress(value=0, description='Sample size 5', max=4079, style=ProgressStyle(description_wid…"
      ]
     },
     "metadata": {},
     "output_type": "display_data"
    },
    {
     "name": "stdout",
     "output_type": "stream",
     "text": [
      "\n",
      "Sample size : 5 \t Training Error 0.002810\n"
     ]
    },
    {
     "data": {
      "application/vnd.jupyter.widget-view+json": {
       "model_id": "c2fcb57620e143f48989dbfbc2d02112",
       "version_major": 2,
       "version_minor": 0
      },
      "text/plain": [
       "HBox(children=(IntProgress(value=0, description='Sample size 6', max=4079, style=ProgressStyle(description_wid…"
      ]
     },
     "metadata": {},
     "output_type": "display_data"
    },
    {
     "name": "stdout",
     "output_type": "stream",
     "text": [
      "\n",
      "Sample size : 6 \t Training Error 0.002531\n"
     ]
    },
    {
     "data": {
      "application/vnd.jupyter.widget-view+json": {
       "model_id": "56ed82346cac4e2fa0a2bf51e958dedf",
       "version_major": 2,
       "version_minor": 0
      },
      "text/plain": [
       "HBox(children=(IntProgress(value=0, description='Sample size 7', max=4079, style=ProgressStyle(description_wid…"
      ]
     },
     "metadata": {},
     "output_type": "display_data"
    },
    {
     "name": "stdout",
     "output_type": "stream",
     "text": [
      "\n",
      "Sample size : 7 \t Training Error 0.002349\n"
     ]
    },
    {
     "data": {
      "application/vnd.jupyter.widget-view+json": {
       "model_id": "eb793153736042dbaa33ce672cb77186",
       "version_major": 2,
       "version_minor": 0
      },
      "text/plain": [
       "HBox(children=(IntProgress(value=0, description='Sample size 8', max=4079, style=ProgressStyle(description_wid…"
      ]
     },
     "metadata": {},
     "output_type": "display_data"
    },
    {
     "name": "stdout",
     "output_type": "stream",
     "text": [
      "\n",
      "Sample size : 8 \t Training Error 0.002173\n"
     ]
    },
    {
     "data": {
      "application/vnd.jupyter.widget-view+json": {
       "model_id": "4779c812e48f40e3b830bc73de6417f9",
       "version_major": 2,
       "version_minor": 0
      },
      "text/plain": [
       "HBox(children=(IntProgress(value=0, description='Sample size 9', max=4079, style=ProgressStyle(description_wid…"
      ]
     },
     "metadata": {},
     "output_type": "display_data"
    },
    {
     "name": "stdout",
     "output_type": "stream",
     "text": [
      "\n",
      "Sample size : 9 \t Training Error 0.002054\n"
     ]
    },
    {
     "data": {
      "application/vnd.jupyter.widget-view+json": {
       "model_id": "0a6a58b709f048f2a355999525d42134",
       "version_major": 2,
       "version_minor": 0
      },
      "text/plain": [
       "HBox(children=(IntProgress(value=0, description='Sample size1', max=1360, style=ProgressStyle(description_widt…"
      ]
     },
     "metadata": {},
     "output_type": "display_data"
    },
    {
     "name": "stdout",
     "output_type": "stream",
     "text": [
      "\n",
      "Sample size : 1 \t Test Error 0.033161\n"
     ]
    },
    {
     "data": {
      "application/vnd.jupyter.widget-view+json": {
       "model_id": "67550f545e2f4cb3b4ff02ff2798483a",
       "version_major": 2,
       "version_minor": 0
      },
      "text/plain": [
       "HBox(children=(IntProgress(value=0, description='Sample size2', max=1360, style=ProgressStyle(description_widt…"
      ]
     },
     "metadata": {},
     "output_type": "display_data"
    },
    {
     "name": "stdout",
     "output_type": "stream",
     "text": [
      "\n",
      "Sample size : 2 \t Test Error 0.009156\n"
     ]
    },
    {
     "data": {
      "application/vnd.jupyter.widget-view+json": {
       "model_id": "96a2d103781d4973837b5fec57da74a5",
       "version_major": 2,
       "version_minor": 0
      },
      "text/plain": [
       "HBox(children=(IntProgress(value=0, description='Sample size3', max=1360, style=ProgressStyle(description_widt…"
      ]
     },
     "metadata": {},
     "output_type": "display_data"
    },
    {
     "name": "stdout",
     "output_type": "stream",
     "text": [
      "\n",
      "Sample size : 3 \t Test Error 0.004544\n"
     ]
    },
    {
     "data": {
      "application/vnd.jupyter.widget-view+json": {
       "model_id": "68f906b0f3794580a31870bd267ab459",
       "version_major": 2,
       "version_minor": 0
      },
      "text/plain": [
       "HBox(children=(IntProgress(value=0, description='Sample size4', max=1360, style=ProgressStyle(description_widt…"
      ]
     },
     "metadata": {},
     "output_type": "display_data"
    },
    {
     "name": "stdout",
     "output_type": "stream",
     "text": [
      "\n",
      "Sample size : 4 \t Test Error 0.003360\n"
     ]
    },
    {
     "data": {
      "application/vnd.jupyter.widget-view+json": {
       "model_id": "51395b8f75684d218596d9d799bf6eb7",
       "version_major": 2,
       "version_minor": 0
      },
      "text/plain": [
       "HBox(children=(IntProgress(value=0, description='Sample size5', max=1360, style=ProgressStyle(description_widt…"
      ]
     },
     "metadata": {},
     "output_type": "display_data"
    },
    {
     "name": "stdout",
     "output_type": "stream",
     "text": [
      "\n",
      "Sample size : 5 \t Test Error 0.002896\n"
     ]
    },
    {
     "data": {
      "application/vnd.jupyter.widget-view+json": {
       "model_id": "01ea83ba978f44358b533947e89bf803",
       "version_major": 2,
       "version_minor": 0
      },
      "text/plain": [
       "HBox(children=(IntProgress(value=0, description='Sample size6', max=1360, style=ProgressStyle(description_widt…"
      ]
     },
     "metadata": {},
     "output_type": "display_data"
    },
    {
     "name": "stdout",
     "output_type": "stream",
     "text": [
      "\n",
      "Sample size : 6 \t Test Error 0.002700\n"
     ]
    },
    {
     "data": {
      "application/vnd.jupyter.widget-view+json": {
       "model_id": "5f80267fbd44483ba2120772b1e5f892",
       "version_major": 2,
       "version_minor": 0
      },
      "text/plain": [
       "HBox(children=(IntProgress(value=0, description='Sample size7', max=1360, style=ProgressStyle(description_widt…"
      ]
     },
     "metadata": {},
     "output_type": "display_data"
    },
    {
     "name": "stdout",
     "output_type": "stream",
     "text": [
      "\n",
      "Sample size : 7 \t Test Error 0.002566\n"
     ]
    },
    {
     "data": {
      "application/vnd.jupyter.widget-view+json": {
       "model_id": "96c8ffba80b843b2adf6cd4cd8a6b741",
       "version_major": 2,
       "version_minor": 0
      },
      "text/plain": [
       "HBox(children=(IntProgress(value=0, description='Sample size8', max=1360, style=ProgressStyle(description_widt…"
      ]
     },
     "metadata": {},
     "output_type": "display_data"
    },
    {
     "name": "stdout",
     "output_type": "stream",
     "text": [
      "\n",
      "Sample size : 8 \t Test Error 0.002496\n"
     ]
    },
    {
     "data": {
      "application/vnd.jupyter.widget-view+json": {
       "model_id": "9eb225d77ea64f509633abe70b72f6e5",
       "version_major": 2,
       "version_minor": 0
      },
      "text/plain": [
       "HBox(children=(IntProgress(value=0, description='Sample size9', max=1360, style=ProgressStyle(description_widt…"
      ]
     },
     "metadata": {},
     "output_type": "display_data"
    },
    {
     "name": "stdout",
     "output_type": "stream",
     "text": [
      "\n",
      "Sample size : 9 \t Test Error 0.002441\n"
     ]
    },
    {
     "data": {
      "application/vnd.jupyter.widget-view+json": {
       "model_id": "f66b70a54a4c4698abd482f6765e3b90",
       "version_major": 2,
       "version_minor": 0
      },
      "text/plain": [
       "HBox(children=(IntProgress(value=0, description='Sample size 1', max=4079, style=ProgressStyle(description_wid…"
      ]
     },
     "metadata": {},
     "output_type": "display_data"
    },
    {
     "name": "stdout",
     "output_type": "stream",
     "text": [
      "\n",
      "Sample size : 1 \t Training Error 0.011688\n"
     ]
    },
    {
     "data": {
      "application/vnd.jupyter.widget-view+json": {
       "model_id": "173af250df174bce927358629f3c48c3",
       "version_major": 2,
       "version_minor": 0
      },
      "text/plain": [
       "HBox(children=(IntProgress(value=0, description='Sample size 2', max=4079, style=ProgressStyle(description_wid…"
      ]
     },
     "metadata": {},
     "output_type": "display_data"
    },
    {
     "name": "stdout",
     "output_type": "stream",
     "text": [
      "\n",
      "Sample size : 2 \t Training Error 0.004726\n"
     ]
    },
    {
     "data": {
      "application/vnd.jupyter.widget-view+json": {
       "model_id": "40b0170a86034dc787125b2ad37ce0d4",
       "version_major": 2,
       "version_minor": 0
      },
      "text/plain": [
       "HBox(children=(IntProgress(value=0, description='Sample size 3', max=4079, style=ProgressStyle(description_wid…"
      ]
     },
     "metadata": {},
     "output_type": "display_data"
    },
    {
     "name": "stdout",
     "output_type": "stream",
     "text": [
      "\n",
      "Sample size : 3 \t Training Error 0.003267\n"
     ]
    },
    {
     "data": {
      "application/vnd.jupyter.widget-view+json": {
       "model_id": "dbed180d73e941a28f81f3ffc9ffefd9",
       "version_major": 2,
       "version_minor": 0
      },
      "text/plain": [
       "HBox(children=(IntProgress(value=0, description='Sample size 4', max=4079, style=ProgressStyle(description_wid…"
      ]
     },
     "metadata": {},
     "output_type": "display_data"
    },
    {
     "name": "stdout",
     "output_type": "stream",
     "text": [
      "\n",
      "Sample size : 4 \t Training Error 0.002723\n"
     ]
    },
    {
     "data": {
      "application/vnd.jupyter.widget-view+json": {
       "model_id": "f02d83a25cf140f5bca7f5e34e3b3c0b",
       "version_major": 2,
       "version_minor": 0
      },
      "text/plain": [
       "HBox(children=(IntProgress(value=0, description='Sample size 5', max=4079, style=ProgressStyle(description_wid…"
      ]
     },
     "metadata": {},
     "output_type": "display_data"
    },
    {
     "name": "stdout",
     "output_type": "stream",
     "text": [
      "\n",
      "Sample size : 5 \t Training Error 0.002400\n"
     ]
    },
    {
     "data": {
      "application/vnd.jupyter.widget-view+json": {
       "model_id": "67e2d3bc83f94fcc81b852a539503cca",
       "version_major": 2,
       "version_minor": 0
      },
      "text/plain": [
       "HBox(children=(IntProgress(value=0, description='Sample size 6', max=4079, style=ProgressStyle(description_wid…"
      ]
     },
     "metadata": {},
     "output_type": "display_data"
    },
    {
     "name": "stdout",
     "output_type": "stream",
     "text": [
      "\n",
      "Sample size : 6 \t Training Error 0.002198\n"
     ]
    },
    {
     "data": {
      "application/vnd.jupyter.widget-view+json": {
       "model_id": "49a26d22d3d14170854eb0ce68c67e1c",
       "version_major": 2,
       "version_minor": 0
      },
      "text/plain": [
       "HBox(children=(IntProgress(value=0, description='Sample size 7', max=4079, style=ProgressStyle(description_wid…"
      ]
     },
     "metadata": {},
     "output_type": "display_data"
    },
    {
     "name": "stdout",
     "output_type": "stream",
     "text": [
      "\n",
      "Sample size : 7 \t Training Error 0.002034\n"
     ]
    },
    {
     "data": {
      "application/vnd.jupyter.widget-view+json": {
       "model_id": "c33515d416934de790a4a5d6ff2e4d55",
       "version_major": 2,
       "version_minor": 0
      },
      "text/plain": [
       "HBox(children=(IntProgress(value=0, description='Sample size 8', max=4079, style=ProgressStyle(description_wid…"
      ]
     },
     "metadata": {},
     "output_type": "display_data"
    },
    {
     "name": "stdout",
     "output_type": "stream",
     "text": [
      "\n",
      "Sample size : 8 \t Training Error 0.001894\n"
     ]
    },
    {
     "data": {
      "application/vnd.jupyter.widget-view+json": {
       "model_id": "6ecbdcd0a4b74637aa70b8d0150e42a0",
       "version_major": 2,
       "version_minor": 0
      },
      "text/plain": [
       "HBox(children=(IntProgress(value=0, description='Sample size 9', max=4079, style=ProgressStyle(description_wid…"
      ]
     },
     "metadata": {},
     "output_type": "display_data"
    },
    {
     "name": "stdout",
     "output_type": "stream",
     "text": [
      "\n",
      "Sample size : 9 \t Training Error 0.001781\n"
     ]
    },
    {
     "data": {
      "application/vnd.jupyter.widget-view+json": {
       "model_id": "3e1ffd182d3f4a4089b93aa6e237ba1a",
       "version_major": 2,
       "version_minor": 0
      },
      "text/plain": [
       "HBox(children=(IntProgress(value=0, description='Sample size1', max=1360, style=ProgressStyle(description_widt…"
      ]
     },
     "metadata": {},
     "output_type": "display_data"
    },
    {
     "name": "stdout",
     "output_type": "stream",
     "text": [
      "\n",
      "Sample size : 1 \t Test Error 0.036254\n"
     ]
    },
    {
     "data": {
      "application/vnd.jupyter.widget-view+json": {
       "model_id": "a368ddc2038c48fba70255d22669115a",
       "version_major": 2,
       "version_minor": 0
      },
      "text/plain": [
       "HBox(children=(IntProgress(value=0, description='Sample size2', max=1360, style=ProgressStyle(description_widt…"
      ]
     },
     "metadata": {},
     "output_type": "display_data"
    },
    {
     "name": "stdout",
     "output_type": "stream",
     "text": [
      "\n",
      "Sample size : 2 \t Test Error 0.009734\n"
     ]
    },
    {
     "data": {
      "application/vnd.jupyter.widget-view+json": {
       "model_id": "22af856dd6d54ec88b835e1450bd5098",
       "version_major": 2,
       "version_minor": 0
      },
      "text/plain": [
       "HBox(children=(IntProgress(value=0, description='Sample size3', max=1360, style=ProgressStyle(description_widt…"
      ]
     },
     "metadata": {},
     "output_type": "display_data"
    },
    {
     "name": "stdout",
     "output_type": "stream",
     "text": [
      "\n",
      "Sample size : 3 \t Test Error 0.004437\n"
     ]
    },
    {
     "data": {
      "application/vnd.jupyter.widget-view+json": {
       "model_id": "030838de5e844a5cbdfe507b2f8e7b59",
       "version_major": 2,
       "version_minor": 0
      },
      "text/plain": [
       "HBox(children=(IntProgress(value=0, description='Sample size4', max=1360, style=ProgressStyle(description_widt…"
      ]
     },
     "metadata": {},
     "output_type": "display_data"
    },
    {
     "name": "stdout",
     "output_type": "stream",
     "text": [
      "\n",
      "Sample size : 4 \t Test Error 0.002996\n"
     ]
    },
    {
     "data": {
      "application/vnd.jupyter.widget-view+json": {
       "model_id": "76e960e1cd644fb7a476f147c4364d0a",
       "version_major": 2,
       "version_minor": 0
      },
      "text/plain": [
       "HBox(children=(IntProgress(value=0, description='Sample size5', max=1360, style=ProgressStyle(description_widt…"
      ]
     },
     "metadata": {},
     "output_type": "display_data"
    },
    {
     "name": "stdout",
     "output_type": "stream",
     "text": [
      "\n",
      "Sample size : 5 \t Test Error 0.002464\n"
     ]
    },
    {
     "data": {
      "application/vnd.jupyter.widget-view+json": {
       "model_id": "a53b38a70dd44aa492be281e68a80132",
       "version_major": 2,
       "version_minor": 0
      },
      "text/plain": [
       "HBox(children=(IntProgress(value=0, description='Sample size6', max=1360, style=ProgressStyle(description_widt…"
      ]
     },
     "metadata": {},
     "output_type": "display_data"
    },
    {
     "name": "stdout",
     "output_type": "stream",
     "text": [
      "\n",
      "Sample size : 6 \t Test Error 0.002199\n"
     ]
    },
    {
     "data": {
      "application/vnd.jupyter.widget-view+json": {
       "model_id": "877477eeba664a67bf9d433e5b4b59dc",
       "version_major": 2,
       "version_minor": 0
      },
      "text/plain": [
       "HBox(children=(IntProgress(value=0, description='Sample size7', max=1360, style=ProgressStyle(description_widt…"
      ]
     },
     "metadata": {},
     "output_type": "display_data"
    },
    {
     "name": "stdout",
     "output_type": "stream",
     "text": [
      "\n",
      "Sample size : 7 \t Test Error 0.002056\n"
     ]
    },
    {
     "data": {
      "application/vnd.jupyter.widget-view+json": {
       "model_id": "3852c16afc4946adb487a382d3b8f571",
       "version_major": 2,
       "version_minor": 0
      },
      "text/plain": [
       "HBox(children=(IntProgress(value=0, description='Sample size8', max=1360, style=ProgressStyle(description_widt…"
      ]
     },
     "metadata": {},
     "output_type": "display_data"
    },
    {
     "name": "stdout",
     "output_type": "stream",
     "text": [
      "\n",
      "Sample size : 8 \t Test Error 0.001948\n"
     ]
    },
    {
     "data": {
      "application/vnd.jupyter.widget-view+json": {
       "model_id": "7a2b8013dc7f4af68e24e48974e4814b",
       "version_major": 2,
       "version_minor": 0
      },
      "text/plain": [
       "HBox(children=(IntProgress(value=0, description='Sample size9', max=1360, style=ProgressStyle(description_widt…"
      ]
     },
     "metadata": {},
     "output_type": "display_data"
    },
    {
     "name": "stdout",
     "output_type": "stream",
     "text": [
      "\n",
      "Sample size : 9 \t Test Error 0.001872\n"
     ]
    },
    {
     "data": {
      "application/vnd.jupyter.widget-view+json": {
       "model_id": "04fa8203a93449719033a2d48e65becc",
       "version_major": 2,
       "version_minor": 0
      },
      "text/plain": [
       "HBox(children=(IntProgress(value=0, description='Sample size 1', max=4079, style=ProgressStyle(description_wid…"
      ]
     },
     "metadata": {},
     "output_type": "display_data"
    },
    {
     "name": "stdout",
     "output_type": "stream",
     "text": [
      "\n",
      "Sample size : 1 \t Training Error 0.010760\n"
     ]
    },
    {
     "data": {
      "application/vnd.jupyter.widget-view+json": {
       "model_id": "1072e882a99048b38f757936f61d966f",
       "version_major": 2,
       "version_minor": 0
      },
      "text/plain": [
       "HBox(children=(IntProgress(value=0, description='Sample size 2', max=4079, style=ProgressStyle(description_wid…"
      ]
     },
     "metadata": {},
     "output_type": "display_data"
    },
    {
     "name": "stdout",
     "output_type": "stream",
     "text": [
      "\n",
      "Sample size : 2 \t Training Error 0.004279\n"
     ]
    },
    {
     "data": {
      "application/vnd.jupyter.widget-view+json": {
       "model_id": "32cc7b676e1943f4b43d312327d799cc",
       "version_major": 2,
       "version_minor": 0
      },
      "text/plain": [
       "HBox(children=(IntProgress(value=0, description='Sample size 3', max=4079, style=ProgressStyle(description_wid…"
      ]
     },
     "metadata": {},
     "output_type": "display_data"
    },
    {
     "name": "stdout",
     "output_type": "stream",
     "text": [
      "\n",
      "Sample size : 3 \t Training Error 0.002957\n"
     ]
    },
    {
     "data": {
      "application/vnd.jupyter.widget-view+json": {
       "model_id": "ff191716776f44958380cc59c101a674",
       "version_major": 2,
       "version_minor": 0
      },
      "text/plain": [
       "HBox(children=(IntProgress(value=0, description='Sample size 4', max=4079, style=ProgressStyle(description_wid…"
      ]
     },
     "metadata": {},
     "output_type": "display_data"
    },
    {
     "name": "stdout",
     "output_type": "stream",
     "text": [
      "\n",
      "Sample size : 4 \t Training Error 0.002467\n"
     ]
    },
    {
     "data": {
      "application/vnd.jupyter.widget-view+json": {
       "model_id": "465eb23fd0d5402da3e96fa49e598325",
       "version_major": 2,
       "version_minor": 0
      },
      "text/plain": [
       "HBox(children=(IntProgress(value=0, description='Sample size 5', max=4079, style=ProgressStyle(description_wid…"
      ]
     },
     "metadata": {},
     "output_type": "display_data"
    },
    {
     "name": "stdout",
     "output_type": "stream",
     "text": [
      "\n",
      "Sample size : 5 \t Training Error 0.002169\n"
     ]
    },
    {
     "data": {
      "application/vnd.jupyter.widget-view+json": {
       "model_id": "fe7965c910fe4c40813a8b3f791570e2",
       "version_major": 2,
       "version_minor": 0
      },
      "text/plain": [
       "HBox(children=(IntProgress(value=0, description='Sample size 6', max=4079, style=ProgressStyle(description_wid…"
      ]
     },
     "metadata": {},
     "output_type": "display_data"
    },
    {
     "name": "stdout",
     "output_type": "stream",
     "text": [
      "\n",
      "Sample size : 6 \t Training Error 0.001966\n"
     ]
    },
    {
     "data": {
      "application/vnd.jupyter.widget-view+json": {
       "model_id": "1c923dfcd9924eb2b02a46e6587cb9e6",
       "version_major": 2,
       "version_minor": 0
      },
      "text/plain": [
       "HBox(children=(IntProgress(value=0, description='Sample size 7', max=4079, style=ProgressStyle(description_wid…"
      ]
     },
     "metadata": {},
     "output_type": "display_data"
    },
    {
     "name": "stdout",
     "output_type": "stream",
     "text": [
      "\n",
      "Sample size : 7 \t Training Error 0.001823\n"
     ]
    },
    {
     "data": {
      "application/vnd.jupyter.widget-view+json": {
       "model_id": "630801f997814c889517ea81cdd40acc",
       "version_major": 2,
       "version_minor": 0
      },
      "text/plain": [
       "HBox(children=(IntProgress(value=0, description='Sample size 8', max=4079, style=ProgressStyle(description_wid…"
      ]
     },
     "metadata": {},
     "output_type": "display_data"
    },
    {
     "name": "stdout",
     "output_type": "stream",
     "text": [
      "\n",
      "Sample size : 8 \t Training Error 0.001716\n"
     ]
    },
    {
     "data": {
      "application/vnd.jupyter.widget-view+json": {
       "model_id": "697f7426735c411488abb9a0c6b722c8",
       "version_major": 2,
       "version_minor": 0
      },
      "text/plain": [
       "HBox(children=(IntProgress(value=0, description='Sample size 9', max=4079, style=ProgressStyle(description_wid…"
      ]
     },
     "metadata": {},
     "output_type": "display_data"
    },
    {
     "name": "stdout",
     "output_type": "stream",
     "text": [
      "\n",
      "Sample size : 9 \t Training Error 0.001617\n"
     ]
    },
    {
     "data": {
      "application/vnd.jupyter.widget-view+json": {
       "model_id": "0e1a1206f4eb46b7a3d0332059608cd8",
       "version_major": 2,
       "version_minor": 0
      },
      "text/plain": [
       "HBox(children=(IntProgress(value=0, description='Sample size1', max=1360, style=ProgressStyle(description_widt…"
      ]
     },
     "metadata": {},
     "output_type": "display_data"
    },
    {
     "name": "stdout",
     "output_type": "stream",
     "text": [
      "\n",
      "Sample size : 1 \t Test Error 0.032638\n"
     ]
    },
    {
     "data": {
      "application/vnd.jupyter.widget-view+json": {
       "model_id": "7c0d443ec8e04ecd8dc20e32c3782519",
       "version_major": 2,
       "version_minor": 0
      },
      "text/plain": [
       "HBox(children=(IntProgress(value=0, description='Sample size2', max=1360, style=ProgressStyle(description_widt…"
      ]
     },
     "metadata": {},
     "output_type": "display_data"
    },
    {
     "name": "stdout",
     "output_type": "stream",
     "text": [
      "\n",
      "Sample size : 2 \t Test Error 0.007859\n"
     ]
    },
    {
     "data": {
      "application/vnd.jupyter.widget-view+json": {
       "model_id": "89b8c04fce8b40acbbedcfeb7f8aedb5",
       "version_major": 2,
       "version_minor": 0
      },
      "text/plain": [
       "HBox(children=(IntProgress(value=0, description='Sample size3', max=1360, style=ProgressStyle(description_widt…"
      ]
     },
     "metadata": {},
     "output_type": "display_data"
    },
    {
     "name": "stdout",
     "output_type": "stream",
     "text": [
      "\n",
      "Sample size : 3 \t Test Error 0.003498\n"
     ]
    },
    {
     "data": {
      "application/vnd.jupyter.widget-view+json": {
       "model_id": "8892b072967c41e88e86922332952b05",
       "version_major": 2,
       "version_minor": 0
      },
      "text/plain": [
       "HBox(children=(IntProgress(value=0, description='Sample size4', max=1360, style=ProgressStyle(description_widt…"
      ]
     },
     "metadata": {},
     "output_type": "display_data"
    },
    {
     "name": "stdout",
     "output_type": "stream",
     "text": [
      "\n",
      "Sample size : 4 \t Test Error 0.002457\n"
     ]
    },
    {
     "data": {
      "application/vnd.jupyter.widget-view+json": {
       "model_id": "a0c12607769f478db9b1b4371144dcf6",
       "version_major": 2,
       "version_minor": 0
      },
      "text/plain": [
       "HBox(children=(IntProgress(value=0, description='Sample size5', max=1360, style=ProgressStyle(description_widt…"
      ]
     },
     "metadata": {},
     "output_type": "display_data"
    },
    {
     "name": "stdout",
     "output_type": "stream",
     "text": [
      "\n",
      "Sample size : 5 \t Test Error 0.002109\n"
     ]
    },
    {
     "data": {
      "application/vnd.jupyter.widget-view+json": {
       "model_id": "5c19ce88fb804d1783f33b4975d7457c",
       "version_major": 2,
       "version_minor": 0
      },
      "text/plain": [
       "HBox(children=(IntProgress(value=0, description='Sample size6', max=1360, style=ProgressStyle(description_widt…"
      ]
     },
     "metadata": {},
     "output_type": "display_data"
    },
    {
     "name": "stdout",
     "output_type": "stream",
     "text": [
      "\n",
      "Sample size : 6 \t Test Error 0.001932\n"
     ]
    },
    {
     "data": {
      "application/vnd.jupyter.widget-view+json": {
       "model_id": "b5b9d708c9684f5888c20b219a17250a",
       "version_major": 2,
       "version_minor": 0
      },
      "text/plain": [
       "HBox(children=(IntProgress(value=0, description='Sample size7', max=1360, style=ProgressStyle(description_widt…"
      ]
     },
     "metadata": {},
     "output_type": "display_data"
    },
    {
     "name": "stdout",
     "output_type": "stream",
     "text": [
      "\n",
      "Sample size : 7 \t Test Error 0.001830\n"
     ]
    },
    {
     "data": {
      "application/vnd.jupyter.widget-view+json": {
       "model_id": "21c9abebd06c4e13a4e35be76277e430",
       "version_major": 2,
       "version_minor": 0
      },
      "text/plain": [
       "HBox(children=(IntProgress(value=0, description='Sample size8', max=1360, style=ProgressStyle(description_widt…"
      ]
     },
     "metadata": {},
     "output_type": "display_data"
    },
    {
     "name": "stdout",
     "output_type": "stream",
     "text": [
      "\n",
      "Sample size : 8 \t Test Error 0.001762\n"
     ]
    },
    {
     "data": {
      "application/vnd.jupyter.widget-view+json": {
       "model_id": "259276fd0dec4949bfebb4488a06c663",
       "version_major": 2,
       "version_minor": 0
      },
      "text/plain": [
       "HBox(children=(IntProgress(value=0, description='Sample size9', max=1360, style=ProgressStyle(description_widt…"
      ]
     },
     "metadata": {},
     "output_type": "display_data"
    },
    {
     "name": "stdout",
     "output_type": "stream",
     "text": [
      "\n",
      "Sample size : 9 \t Test Error 0.001715\n"
     ]
    },
    {
     "data": {
      "application/vnd.jupyter.widget-view+json": {
       "model_id": "5a571fa884ab44dd9cf01049cacf8eef",
       "version_major": 2,
       "version_minor": 0
      },
      "text/plain": [
       "HBox(children=(IntProgress(value=0, description='Sample size 1', max=4079, style=ProgressStyle(description_wid…"
      ]
     },
     "metadata": {},
     "output_type": "display_data"
    },
    {
     "name": "stdout",
     "output_type": "stream",
     "text": [
      "\n",
      "Sample size : 1 \t Training Error 0.010229\n"
     ]
    },
    {
     "data": {
      "application/vnd.jupyter.widget-view+json": {
       "model_id": "dc008a292d8d483a9f64504217070110",
       "version_major": 2,
       "version_minor": 0
      },
      "text/plain": [
       "HBox(children=(IntProgress(value=0, description='Sample size 2', max=4079, style=ProgressStyle(description_wid…"
      ]
     },
     "metadata": {},
     "output_type": "display_data"
    },
    {
     "name": "stdout",
     "output_type": "stream",
     "text": [
      "\n",
      "Sample size : 2 \t Training Error 0.003993\n"
     ]
    },
    {
     "data": {
      "application/vnd.jupyter.widget-view+json": {
       "model_id": "b7866c2c8dc047c581384af19fc71da6",
       "version_major": 2,
       "version_minor": 0
      },
      "text/plain": [
       "HBox(children=(IntProgress(value=0, description='Sample size 3', max=4079, style=ProgressStyle(description_wid…"
      ]
     },
     "metadata": {},
     "output_type": "display_data"
    },
    {
     "name": "stdout",
     "output_type": "stream",
     "text": [
      "\n",
      "Sample size : 3 \t Training Error 0.002729\n"
     ]
    },
    {
     "data": {
      "application/vnd.jupyter.widget-view+json": {
       "model_id": "d0483338de0e439caa10022dc9be6ec0",
       "version_major": 2,
       "version_minor": 0
      },
      "text/plain": [
       "HBox(children=(IntProgress(value=0, description='Sample size 4', max=4079, style=ProgressStyle(description_wid…"
      ]
     },
     "metadata": {},
     "output_type": "display_data"
    },
    {
     "name": "stdout",
     "output_type": "stream",
     "text": [
      "\n",
      "Sample size : 4 \t Training Error 0.002291\n"
     ]
    },
    {
     "data": {
      "application/vnd.jupyter.widget-view+json": {
       "model_id": "40d6b31759124e7e8130014b6bd3cf09",
       "version_major": 2,
       "version_minor": 0
      },
      "text/plain": [
       "HBox(children=(IntProgress(value=0, description='Sample size 5', max=4079, style=ProgressStyle(description_wid…"
      ]
     },
     "metadata": {},
     "output_type": "display_data"
    }
   ],
   "source": [
    "optimizer = optim.Adam(net.parameters(),lr = 0.0001,)\n",
    "optimizer.zero_grad()\n",
    "\n",
    "def train_or_evaluate(net, data, optimizer, n_samples, mode=\"train\"):\n",
    "    \n",
    "    dataset = CGData(data_dir,data,n_samples)\n",
    "    dataloader = DataLoader(dataset, batch_size=minibatch_size,\n",
    "                         shuffle=False, num_workers=0)\n",
    "    error = 0.0\n",
    "    samples = 0\n",
    "    if mode == \"train\":\n",
    "        net.train()\n",
    "        for x,y in tqdm(dataloader, desc =\"Sample size \"+str(n_samples)):\n",
    "                #x,y = train_set[i]\n",
    "                x = x.to(device)\n",
    "                y = y.to(device)\n",
    "                output = net.forward(x)\n",
    "                loss = criterion(output,y)\n",
    "                error += loss.item()\n",
    "                loss.backward()\n",
    "                optimizer.step()\n",
    "                optimizer.zero_grad()\n",
    "                samples += 1\n",
    "        error =  error/samples\n",
    "        print(\"Sample size : %d \\t Training Error %f\"%(n_samples, error))\n",
    "\n",
    "    else:\n",
    "        net.eval()\n",
    "        with torch.no_grad():\n",
    "            for x,y in tqdm(dataloader, desc =\"Sample size\"+str(n_samples)):\n",
    "                #x,y = train_set[i]\n",
    "                x = x.to(device)\n",
    "                y = y.to(device)\n",
    "                output = net.forward(x)\n",
    "                loss = criterion(output,y)\n",
    "                error +=loss.item()\n",
    "                samples += 1\n",
    "        error =  error/samples\n",
    "        print(\"Sample size : %d \\t Test Error %f\"%(n_samples, error))\n",
    "        \n",
    "    return error\n",
    "\n",
    "\n",
    "def training(net, train_ids, test_ids,\n",
    "             model_dir,optimizer,\n",
    "             params,\n",
    "             criterion= nn.MSELoss(),\n",
    "             epochs=1000,\n",
    "             device=torch.device(\"cuda:0\")):\n",
    "    \n",
    "    last_epoch = params[\"epoch\"]\n",
    "    t = params[\"time\"]\n",
    "\n",
    "    \n",
    "    train_loss = 0\n",
    "    scheduler = torch.optim.lr_scheduler.StepLR(optimizer, 5, 0.1)\n",
    "    \n",
    "    # This simulates the Learning rate updates\n",
    "    for _ in range(last_epoch):\n",
    "        scheduler.step()\n",
    "    \n",
    "\n",
    "    for epoch in range(last_epoch+1,epochs):\n",
    "        \n",
    "        start = time.time()\n",
    "        samples = 0\n",
    "        train_loss = 0\n",
    "        \n",
    "        train_ids = list(train_ids)\n",
    "        test_ids = list(test_ids)\n",
    "        np.random.shuffle(train_ids)\n",
    "        np.random.shuffle(test_ids)\n",
    "        \n",
    "\n",
    "        for i in range(1,10):\n",
    "            train_error = train_or_evaluate(net, train_ids, optimizer, i, mode=\"train\")\n",
    "            end = time.time()\n",
    "            t += (end - start)\n",
    "            write(model_dir + \"/train_errors.csv\",[epoch,train_error,t])\n",
    "            torch.save(net.state_dict(), model_dir + \"/nn\"+str(i)+\".pt\")\n",
    "\n",
    "        \n",
    "        for i in range(1,10):\n",
    "            test_error = train_or_evaluate(net, test_ids, optimizer, i, mode=\"test\")\n",
    "            end = time.time()\n",
    "            t += (end - start)\n",
    "            write(model_dir + \"/test_errors.csv\",[epoch,test_error,t])\n",
    "\n",
    "        torch.save(net.state_dict(), model_dir + \"/nn.pt\")\n",
    "        \n",
    "        #torch.save(net.state_dict(), model_dir + \"/nn\"+ str(epoch) +\".pt\")\n",
    "\n",
    "        params[\"epoch\"] = epoch\n",
    "        params[\"time\"] = t\n",
    "        f = open(model_dir + \"/params.json\", \"w\")\n",
    "        f.write(json.dumps(params))\n",
    "        f.close()\n",
    "        #if(train_loss>2*best_loss):\n",
    "            #net.load_state_dict(torch.load(model_dir + \"/nn.pt\"))\n",
    "        scheduler.step()\n",
    "\n",
    "\n",
    "training(net, train, test,model_dir,optimizer,params,criterion)"
   ]
  },
  {
   "cell_type": "code",
   "execution_count": null,
   "metadata": {},
   "outputs": [],
   "source": [
    "trainset = CGData(data_dir,train,9)\n",
    "dataloader = DataLoader(trainset, batch_size=minibatch_size,\n",
    "                         shuffle=False, num_workers=0)"
   ]
  },
  {
   "cell_type": "code",
   "execution_count": null,
   "metadata": {},
   "outputs": [],
   "source": [
    "x,y = trainset[10]\n",
    "x = x.unsqueeze(0)\n",
    "xs = torch.split(x,1,dim = 1)\n",
    "xs = [torch.squeeze(x,dim=1) for x in xs]\n",
    "[print(x.size()) for x in xs]\n",
    "y = y.unsqueeze(0)\n",
    "plot(xs)\n",
    "plot([y])"
   ]
  }
 ],
 "metadata": {
  "kernelspec": {
   "display_name": "Python 3",
   "language": "python",
   "name": "python3"
  },
  "language_info": {
   "codemirror_mode": {
    "name": "ipython",
    "version": 3
   },
   "file_extension": ".py",
   "mimetype": "text/x-python",
   "name": "python",
   "nbconvert_exporter": "python",
   "pygments_lexer": "ipython3",
   "version": "3.7.4"
  }
 },
 "nbformat": 4,
 "nbformat_minor": 4
}
