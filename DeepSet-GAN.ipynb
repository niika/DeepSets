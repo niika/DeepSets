{
 "cells": [
  {
   "cell_type": "code",
   "execution_count": 1,
   "metadata": {},
   "outputs": [],
   "source": [
    "from __future__ import print_function, division\n",
    "import os\n",
    "import torch\n",
    "import pandas as pd\n",
    "from skimage import io\n",
    "import numpy as np\n",
    "import matplotlib.pyplot as plt\n",
    "from torch.utils.data import Dataset, DataLoader\n",
    "from torchvision import transforms, utils,models\n",
    "import cv2\n",
    "import torch.nn as nn\n",
    "import torch.nn.functional as F\n",
    "from scipy.stats import multivariate_normal\n",
    "from scipy import random, linalg\n",
    "from sklearn.model_selection import train_test_split\n",
    "import torch.optim as optim\n",
    "import re\n",
    "import json\n",
    "import time\n",
    "from tqdm import tqdm_notebook\n",
    "\n",
    "import sys\n",
    "from utils import *\n",
    "import networks"
   ]
  },
  {
   "cell_type": "code",
   "execution_count": 2,
   "metadata": {},
   "outputs": [],
   "source": [
    "from torch.utils.data import Dataset, DataLoader\n",
    "from torchvision import transforms, utils\n",
    "\n",
    "class CGData(Dataset):\n",
    "    \"\"\"Dataset containing all sequences with artifacts\n",
    "    \n",
    "    Generates three distorted images as input data.\n",
    "    \n",
    "    \"\"\"\n",
    "    \n",
    "    def __init__(self, root_dir, indices, sample_size, resize=True):\n",
    "        self.root_dir = root_dir\n",
    "        self.ToPIL = transforms.ToPILImage()\n",
    "        self.ToTensor = transforms.ToTensor()\n",
    "        self.indices = indices\n",
    "        self.resize=resize\n",
    "        self.sample_size = sample_size\n",
    "        \n",
    "        files = os.listdir(root_dir)\n",
    "        match = lambda x: len(re.findall(\"img_\\d+_\\d.jpg\", x))== 1\n",
    "        cut_string = lambda x: eval(re.sub(\"_.*\",\"\",re.sub(\"img_\",\"\",x)))\n",
    "\n",
    "        files = list(filter(match,files))\n",
    "        files = list(map(cut_string,files))\n",
    "\n",
    "\n",
    "        first,last = min(files),max(files)\n",
    "        self.offset = first\n",
    "        self.last = last\n",
    "    \n",
    "    def __len__(self):\n",
    "        return len(self.indices)\n",
    "    \n",
    "    def __getitem__(self, idx):        \n",
    "        \n",
    "        idx = self.indices[idx]\n",
    "        count = 0\n",
    "        img_files = None\n",
    "        imgs = None\n",
    "        label = None\n",
    "        while True:\n",
    "            \n",
    "            n = self.sample_size\n",
    "            nrs = np.random.choice(range(1,10), size=n, replace=False).tolist()\n",
    "            img_files = [self.root_dir +  \"img_\" +str(idx)+ \"_\" + str(nr) + \".jpg\" for nr in nrs]\n",
    "            exists = all([os.path.isfile(img_file) for img_file in img_files])\n",
    "            count+=1\n",
    "            try:\n",
    "                imgs = [cv2.imread(file) for file in img_files]\n",
    "                imgs = [img[...,::-1]- np.zeros_like(img) for img in imgs]\n",
    "\n",
    "                label_file = self.root_dir + \"books/img \" + \"(\"+str(idx - 1)+\").jpg\"\n",
    "                label = cv2.imread(label_file)\n",
    "                label = label[...,::-1]- np.zeros_like(label)\n",
    "                break\n",
    "\n",
    "            except:\n",
    "                idx = np.random.randint(len(self.indices))\n",
    "                idx = self.indices[idx]\n",
    "\n",
    "        \n",
    "        \n",
    "        if self.resize:\n",
    "            label = cv2.resize(label, dsize=(256,256))\n",
    "            imgs = [ cv2.resize(img, dsize=(256,256)) for img in imgs]\n",
    "        \n",
    "\n",
    "        H,W,C = imgs[0].shape\n",
    "        if H<W:\n",
    "            label = np.rot90(label)\n",
    "            label -= np.zeros_like(label)\n",
    "            imgs = [np.rot90(img) for img in imgs]- np.zeros_like(label)\n",
    "        \n",
    "        flip = np.random.randint(-1,3)\n",
    "        if flip < 2:\n",
    "            label = cv2.flip(label,flip)- np.zeros_like(label)\n",
    "            imgs = [cv2.flip(img,flip) for img in imgs]- np.zeros_like(label)\n",
    "\n",
    "        \n",
    "        imgs = [self.ToTensor(img) for img in imgs]\n",
    "        #data = torch.unsqueeze(data,0)\n",
    "        imgs = torch.stack(imgs)\n",
    "        \n",
    "        label = label.astype(np.uint8)\n",
    "        label = self.ToTensor(label)\n",
    "        #label = torch.unsqueeze(label,0)\n",
    "        return imgs, label"
   ]
  },
  {
   "cell_type": "markdown",
   "metadata": {},
   "source": [
    "# Architecture"
   ]
  },
  {
   "cell_type": "code",
   "execution_count": 3,
   "metadata": {},
   "outputs": [],
   "source": [
    "class ResidualBlock(nn.Module):\n",
    "    def __init__(self, in_planes, out_planes):\n",
    "        super(ResidualBlock, self).__init__()\n",
    "        self.conv1 = nn.Conv2d(in_planes, out_planes, kernel_size=3, stride=1, padding=1, bias=True)\n",
    "        self.conv2 = nn.Conv2d(out_planes, out_planes, kernel_size=3, stride=1, padding=1, bias=True)\n",
    "\n",
    "    def forward(self, x):\n",
    "        out = F.relu(self.conv1(x))\n",
    "        out = self.conv2(out)\n",
    "        out += x\n",
    "        return out\n",
    "    \n",
    "class DilatedResidualBlock(nn.Module):\n",
    "    def __init__(self, in_planes, out_planes, dilation):\n",
    "        super(DilatedResidualBlock, self).__init__()\n",
    "        self.conv1 = nn.Conv2d(in_planes, out_planes, kernel_size=3, stride=1, dilation=dilation, padding=dilation, bias=True)\n",
    "        self.conv2 = nn.Conv2d(out_planes, out_planes, kernel_size=3, stride=1, dilation=dilation,padding=dilation, bias=True)\n",
    "\n",
    "    def forward(self, x):\n",
    "        out = F.relu(self.conv1(x))\n",
    "        out = self.conv2(out)\n",
    "        out += x\n",
    "        return out\n",
    "        \n",
    "class DeepSetNet(nn.Module):\n",
    "    \"\"\" Deep Set Residual Neural Network \"\"\"\n",
    "    def __init__(self, encoder_num_blocks=10, decoder_num_blocks=10, smooth_num_blocks=6, planes=32,block=ResidualBlock ):\n",
    "        super(DeepSetNet, self).__init__()\n",
    "        self.planes = planes\n",
    "        self.input = nn.Conv2d(3, self.planes, kernel_size=3, stride=1, padding=1, bias=True)\n",
    "        self.output= nn.Conv2d(self.planes, 3, kernel_size=3, stride=1, padding=1, bias=True)\n",
    "        \n",
    "        \n",
    "        # Create a down-/up-sampling architecture\n",
    "        self.downsample = []\n",
    "        self.upsample = []\n",
    "        n = planes\n",
    "        for i in range(2):\n",
    "            self.downsample.append( nn.Conv2d(in_channels = n, out_channels=n*2, kernel_size=3, stride=2, padding=1 ) )\n",
    "            self.downsample.append(nn.ReLU(inplace=True))\n",
    "\n",
    "            \n",
    "            self.upsample = [nn.ReLU(inplace=True)] + self.upsample\n",
    "            self.upsample = [nn.ConvTranspose2d(in_channels=n*2, out_channels=n, kernel_size=3, stride=2, padding=1, output_padding=1)] + self.upsample\n",
    "            n *= 2\n",
    "\n",
    "        self.downsample = nn.Sequential(*self.downsample)\n",
    "        self.upsample = nn.Sequential(*self.upsample)\n",
    "        \n",
    "        \n",
    "        # Embedding of downsampled features\n",
    "        self.encoder = self._make_layer(block, n, encoder_num_blocks)\n",
    "        self.decoder = self._make_layer(block, n, decoder_num_blocks)\n",
    "        self.smooth  = self._make_smooth_layer(planes, smooth_num_blocks)\n",
    "        \n",
    "    def _make_layer(self, block, planes, num_blocks):\n",
    "        layers = []\n",
    "        for i in range(num_blocks):\n",
    "            layers.append(DilatedResidualBlock(planes, planes,2))\n",
    "        return nn.Sequential(*layers)\n",
    "    \n",
    "    def _make_smooth_layer(self, planes, num_blocks):\n",
    "        layers = []\n",
    "        dilation = 1\n",
    "        for i in range(num_blocks):\n",
    "            layers.append(DilatedResidualBlock(planes,planes,dilation))\n",
    "            if i%2 == 0:\n",
    "                dilation *= 2\n",
    "        layers.append( nn.Conv2d(in_channels = planes, out_channels=planes, kernel_size=3, stride=1, padding=1 ) )\n",
    "        layers.append(nn.ReLU(inplace=True))\n",
    "        layers.append( nn.Conv2d(in_channels = planes, out_channels=planes, kernel_size=3, stride=1, padding=1 ) )\n",
    "        return nn.Sequential(*layers)\n",
    "            \n",
    "        \n",
    "\n",
    "    def forward(self, x):\n",
    "        \"\"\"Forward pass of our DeepSet Network \n",
    "        \n",
    "        x: of tensor of size (B, S, C, H, W)\n",
    "        \"\"\"\n",
    "\n",
    "        xs = torch.split(x,1,dim = 1)\n",
    "        xs = [torch.squeeze(x,dim=1) for x in xs]\n",
    "        embedding = [self.encoder(self.downsample(self.input(x))) for x in xs]\n",
    "        embedding = torch.stack(embedding).mean(0)\n",
    "        out = self.output(self.smooth(self.upsample(self.decoder(embedding))))\n",
    "\n",
    "        \n",
    "        return out"
   ]
  },
  {
   "cell_type": "code",
   "execution_count": 4,
   "metadata": {},
   "outputs": [
    {
     "name": "stdout",
     "output_type": "stream",
     "text": [
      "The following directory will be used in all further steps:  ./modelsGAN/\n",
      "6462 126632\n"
     ]
    }
   ],
   "source": [
    "model_dir = \"./modelsGAN/\"\n",
    "if not os.path.isdir(model_dir):\n",
    "    os.mkdir(model_dir)\n",
    "\n",
    "print(\"The following directory will be used in all further steps:  \" + model_dir)\n",
    "\n",
    "\n",
    "# Create Dataset and split it into Training and test set\n",
    "minibatch_size = 10\n",
    "data_dir = \"D:/250x250/\"\n",
    "files = os.listdir(data_dir)\n",
    "match = lambda x: len(re.findall(\"img_\\d+_\\d.jpg\", x))== 1\n",
    "cut_string = lambda x: eval(re.sub(\"_.*\",\"\",re.sub(\"img_\",\"\",x)))\n",
    "\n",
    "files = list(filter(match,files))\n",
    "files = list(map(cut_string,files))\n",
    "\n",
    "\n",
    "first, last = min(files),max(files)\n",
    "print(first, last)\n",
    "\n",
    "n = last - first + 1\n",
    "train, test = train_test_split(list(range(first, last+1)))\n",
    "#train, test = train_test_split(range(first, first+100))\n",
    "\n",
    "if os.path.isfile(model_dir + \"/trainingIdx.txt\"):\n",
    "    f1 = open(model_dir + \"/trainingIdx.txt\", \"r\")\n",
    "    f2 = open(model_dir + \"/testIdx.txt\", \"r\")\n",
    "    train = eval(f1.read())\n",
    "    test = eval(f2.read())\n",
    "    f1.close()\n",
    "    f2.close()\n",
    "else:\n",
    "    write(model_dir + \"/trainingIdx.txt\",train)\n",
    "    write(model_dir + \"/testIdx.txt\",test)\n",
    "\n",
    "    \n",
    "if os.path.isfile(model_dir + \"/params.json\"):\n",
    "    f = open(model_dir + \"/params.json\", \"r\")\n",
    "    params = json.loads(f.read())\n",
    "    f.close()\n",
    "else:\n",
    "    params = {\n",
    "        \"epoch\": 0,\n",
    "        \"time\": 0,\n",
    "    }\n",
    "    f = open(model_dir + \"/params.json\", \"w\")\n",
    "    f.write(json.dumps(params))\n",
    "    f.close()\n",
    "\n",
    "\n",
    "device = torch.device(\"cuda:0\")\n",
    "\n",
    "# Initialize Neural Network\n",
    "net = DeepSetNet(encoder_num_blocks=10, decoder_num_blocks=5, planes=18)\n",
    "\n",
    "if  os.path.isfile(model_dir + \"/nn.pt\"):\n",
    "    net.load_state_dict(torch.load(model_dir + \"/nn.pt\"))\n",
    "\n",
    "net = net.to(device)\n",
    "D = networks.MultiscaleDiscriminator(3,getIntermFeat=True)\n",
    "D = D.to(device)\n",
    "\n",
    "criterion = nn.MSELoss()\n",
    "epochs = 10000"
   ]
  },
  {
   "cell_type": "code",
   "execution_count": 5,
   "metadata": {},
   "outputs": [
    {
     "data": {
      "application/vnd.jupyter.widget-view+json": {
       "model_id": "cc32636cf0ba4160ab4779d380dd3693",
       "version_major": 2,
       "version_minor": 0
      },
      "text/plain": [
       "HBox(children=(IntProgress(value=0, description='Training on size 1', max=9013, style=ProgressStyle(descriptio…"
      ]
     },
     "metadata": {},
     "output_type": "display_data"
    },
    {
     "name": "stdout",
     "output_type": "stream",
     "text": [
      "\n",
      "Error Generator: 12.076235 | Error Discriminator 0.575856 | MAE 0.122965\n"
     ]
    },
    {
     "data": {
      "application/vnd.jupyter.widget-view+json": {
       "model_id": "194d16141e44448d89529b15a2a4b876",
       "version_major": 2,
       "version_minor": 0
      },
      "text/plain": [
       "HBox(children=(IntProgress(value=0, description='Training on size 2', max=9013, style=ProgressStyle(descriptio…"
      ]
     },
     "metadata": {},
     "output_type": "display_data"
    },
    {
     "name": "stdout",
     "output_type": "stream",
     "text": [
      "\n",
      "Error Generator: 8.088293 | Error Discriminator 0.648131 | MAE 0.071961\n"
     ]
    },
    {
     "data": {
      "application/vnd.jupyter.widget-view+json": {
       "model_id": "80bfac1958414305b6fa593922839aec",
       "version_major": 2,
       "version_minor": 0
      },
      "text/plain": [
       "HBox(children=(IntProgress(value=0, description='Training on size 3', max=9013, style=ProgressStyle(descriptio…"
      ]
     },
     "metadata": {},
     "output_type": "display_data"
    },
    {
     "name": "stdout",
     "output_type": "stream",
     "text": [
      "\n",
      "Error Generator: 7.073338 | Error Discriminator 0.646505 | MAE 0.058283\n"
     ]
    },
    {
     "data": {
      "application/vnd.jupyter.widget-view+json": {
       "model_id": "035a4c4b38db453594547b16fa996706",
       "version_major": 2,
       "version_minor": 0
      },
      "text/plain": [
       "HBox(children=(IntProgress(value=0, description='Training on size 4', max=9013, style=ProgressStyle(descriptio…"
      ]
     },
     "metadata": {},
     "output_type": "display_data"
    },
    {
     "name": "stdout",
     "output_type": "stream",
     "text": [
      "\n",
      "Error Generator: 6.678004 | Error Discriminator 0.636489 | MAE 0.053138\n"
     ]
    },
    {
     "data": {
      "application/vnd.jupyter.widget-view+json": {
       "model_id": "ab00114549fe4633a14624e84a38bf5c",
       "version_major": 2,
       "version_minor": 0
      },
      "text/plain": [
       "HBox(children=(IntProgress(value=0, description='Training on size 5', max=9013, style=ProgressStyle(descriptio…"
      ]
     },
     "metadata": {},
     "output_type": "display_data"
    },
    {
     "name": "stdout",
     "output_type": "stream",
     "text": [
      "\n",
      "Error Generator: 6.248131 | Error Discriminator 0.655023 | MAE 0.049377\n"
     ]
    },
    {
     "data": {
      "application/vnd.jupyter.widget-view+json": {
       "model_id": "6342337e70e247efa95c49d3c4f7f21c",
       "version_major": 2,
       "version_minor": 0
      },
      "text/plain": [
       "HBox(children=(IntProgress(value=0, description='Training on size 6', max=9013, style=ProgressStyle(descriptio…"
      ]
     },
     "metadata": {},
     "output_type": "display_data"
    },
    {
     "name": "stdout",
     "output_type": "stream",
     "text": [
      "\n",
      "Error Generator: 6.107376 | Error Discriminator 0.636710 | MAE 0.047256\n"
     ]
    },
    {
     "data": {
      "application/vnd.jupyter.widget-view+json": {
       "model_id": "784aa877f0c848e39fa08d3a1dbe66fc",
       "version_major": 2,
       "version_minor": 0
      },
      "text/plain": [
       "HBox(children=(IntProgress(value=0, description='Training on size 7', max=9013, style=ProgressStyle(descriptio…"
      ]
     },
     "metadata": {},
     "output_type": "display_data"
    },
    {
     "name": "stdout",
     "output_type": "stream",
     "text": [
      "\n",
      "Error Generator: 5.937742 | Error Discriminator 0.640997 | MAE 0.045323\n"
     ]
    },
    {
     "data": {
      "application/vnd.jupyter.widget-view+json": {
       "model_id": "9724c4f215ed48a8b39ea09be709b215",
       "version_major": 2,
       "version_minor": 0
      },
      "text/plain": [
       "HBox(children=(IntProgress(value=0, description='Training on size 8', max=9013, style=ProgressStyle(descriptio…"
      ]
     },
     "metadata": {},
     "output_type": "display_data"
    },
    {
     "name": "stdout",
     "output_type": "stream",
     "text": [
      "\n",
      "Error Generator: 5.748138 | Error Discriminator 0.638091 | MAE 0.043660\n"
     ]
    },
    {
     "data": {
      "application/vnd.jupyter.widget-view+json": {
       "model_id": "5548b2ca782c432388c17be6b915b375",
       "version_major": 2,
       "version_minor": 0
      },
      "text/plain": [
       "HBox(children=(IntProgress(value=0, description='Evaluating on size 1', max=9013, style=ProgressStyle(descript…"
      ]
     },
     "metadata": {},
     "output_type": "display_data"
    },
    {
     "name": "stdout",
     "output_type": "stream",
     "text": [
      "\n",
      "MSE 0.036324 | MAE 0.114361\n"
     ]
    },
    {
     "data": {
      "application/vnd.jupyter.widget-view+json": {
       "model_id": "4771dd7713d045da9b4da79cd1bfdd6b",
       "version_major": 2,
       "version_minor": 0
      },
      "text/plain": [
       "HBox(children=(IntProgress(value=0, description='Evaluating on size 2', max=9013, style=ProgressStyle(descript…"
      ]
     },
     "metadata": {},
     "output_type": "display_data"
    },
    {
     "name": "stdout",
     "output_type": "stream",
     "text": [
      "\n",
      "MSE 0.011167 | MAE 0.066789\n"
     ]
    },
    {
     "data": {
      "application/vnd.jupyter.widget-view+json": {
       "model_id": "dfb59dfaf0014513b002176db7847ea6",
       "version_major": 2,
       "version_minor": 0
      },
      "text/plain": [
       "HBox(children=(IntProgress(value=0, description='Evaluating on size 3', max=9013, style=ProgressStyle(descript…"
      ]
     },
     "metadata": {},
     "output_type": "display_data"
    },
    {
     "name": "stdout",
     "output_type": "stream",
     "text": [
      "\n",
      "MSE 0.006212 | MAE 0.052997\n"
     ]
    },
    {
     "data": {
      "application/vnd.jupyter.widget-view+json": {
       "model_id": "9cf47cc6fc3e4795b47b55f762446e68",
       "version_major": 2,
       "version_minor": 0
      },
      "text/plain": [
       "HBox(children=(IntProgress(value=0, description='Evaluating on size 4', max=9013, style=ProgressStyle(descript…"
      ]
     },
     "metadata": {},
     "output_type": "display_data"
    },
    {
     "name": "stdout",
     "output_type": "stream",
     "text": [
      "\n",
      "MSE 0.004822 | MAE 0.047631\n"
     ]
    },
    {
     "data": {
      "application/vnd.jupyter.widget-view+json": {
       "model_id": "436820e459c243e9aa03c90629b82c02",
       "version_major": 2,
       "version_minor": 0
      },
      "text/plain": [
       "HBox(children=(IntProgress(value=0, description='Evaluating on size 5', max=9013, style=ProgressStyle(descript…"
      ]
     },
     "metadata": {},
     "output_type": "display_data"
    },
    {
     "name": "stdout",
     "output_type": "stream",
     "text": [
      "\n",
      "MSE 0.004289 | MAE 0.045041\n"
     ]
    },
    {
     "data": {
      "application/vnd.jupyter.widget-view+json": {
       "model_id": "fef43298878f4bf5a7b9a562346703f4",
       "version_major": 2,
       "version_minor": 0
      },
      "text/plain": [
       "HBox(children=(IntProgress(value=0, description='Evaluating on size 6', max=9013, style=ProgressStyle(descript…"
      ]
     },
     "metadata": {},
     "output_type": "display_data"
    },
    {
     "name": "stdout",
     "output_type": "stream",
     "text": [
      "\n",
      "MSE 0.003993 | MAE 0.043416\n"
     ]
    },
    {
     "data": {
      "application/vnd.jupyter.widget-view+json": {
       "model_id": "867045f246f54ddabb9e6a348c1f027d",
       "version_major": 2,
       "version_minor": 0
      },
      "text/plain": [
       "HBox(children=(IntProgress(value=0, description='Evaluating on size 7', max=9013, style=ProgressStyle(descript…"
      ]
     },
     "metadata": {},
     "output_type": "display_data"
    },
    {
     "name": "stdout",
     "output_type": "stream",
     "text": [
      "\n",
      "MSE 0.003823 | MAE 0.042399\n"
     ]
    },
    {
     "data": {
      "application/vnd.jupyter.widget-view+json": {
       "model_id": "fbbc1fb51dab4492b2f9bb57c6b45823",
       "version_major": 2,
       "version_minor": 0
      },
      "text/plain": [
       "HBox(children=(IntProgress(value=0, description='Evaluating on size 8', max=9013, style=ProgressStyle(descript…"
      ]
     },
     "metadata": {},
     "output_type": "display_data"
    },
    {
     "name": "stdout",
     "output_type": "stream",
     "text": [
      "\n",
      "MSE 0.003699 | MAE 0.041656\n"
     ]
    },
    {
     "data": {
      "application/vnd.jupyter.widget-view+json": {
       "model_id": "3a3032b84fd04407bd800560bd68d459",
       "version_major": 2,
       "version_minor": 0
      },
      "text/plain": [
       "HBox(children=(IntProgress(value=0, description='Evaluating on size 9', max=9013, style=ProgressStyle(descript…"
      ]
     },
     "metadata": {},
     "output_type": "display_data"
    },
    {
     "name": "stdout",
     "output_type": "stream",
     "text": [
      "\n",
      "MSE 0.003617 | MAE 0.041117\n"
     ]
    },
    {
     "data": {
      "application/vnd.jupyter.widget-view+json": {
       "model_id": "fc077682dc8e42158281caa32e2c1ffd",
       "version_major": 2,
       "version_minor": 0
      },
      "text/plain": [
       "HBox(children=(IntProgress(value=0, description='Training on size 1', max=9013, style=ProgressStyle(descriptio…"
      ]
     },
     "metadata": {},
     "output_type": "display_data"
    },
    {
     "name": "stdout",
     "output_type": "stream",
     "text": [
      "\n",
      "Error Generator: 8.546964 | Error Discriminator 0.516376 | MAE 0.080310\n"
     ]
    },
    {
     "data": {
      "application/vnd.jupyter.widget-view+json": {
       "model_id": "1a5b45f7ac014c8687e42cb2b8c39c7b",
       "version_major": 2,
       "version_minor": 0
      },
      "text/plain": [
       "HBox(children=(IntProgress(value=0, description='Training on size 2', max=9013, style=ProgressStyle(descriptio…"
      ]
     },
     "metadata": {},
     "output_type": "display_data"
    },
    {
     "name": "stdout",
     "output_type": "stream",
     "text": [
      "\n",
      "Error Generator: 7.053150 | Error Discriminator 0.566802 | MAE 0.058785\n"
     ]
    },
    {
     "data": {
      "application/vnd.jupyter.widget-view+json": {
       "model_id": "61144ce73c4240b7b957fe043aba1613",
       "version_major": 2,
       "version_minor": 0
      },
      "text/plain": [
       "HBox(children=(IntProgress(value=0, description='Training on size 3', max=9013, style=ProgressStyle(descriptio…"
      ]
     },
     "metadata": {},
     "output_type": "display_data"
    },
    {
     "name": "stdout",
     "output_type": "stream",
     "text": [
      "\n",
      "Error Generator: 6.453663 | Error Discriminator 0.583140 | MAE 0.051618\n"
     ]
    },
    {
     "data": {
      "application/vnd.jupyter.widget-view+json": {
       "model_id": "99fd4a2f51ec4077bfe06ebfb62f3c25",
       "version_major": 2,
       "version_minor": 0
      },
      "text/plain": [
       "HBox(children=(IntProgress(value=0, description='Training on size 4', max=9013, style=ProgressStyle(descriptio…"
      ]
     },
     "metadata": {},
     "output_type": "display_data"
    },
    {
     "name": "stdout",
     "output_type": "stream",
     "text": [
      "\n",
      "Error Generator: 6.156228 | Error Discriminator 0.581513 | MAE 0.048130\n"
     ]
    },
    {
     "data": {
      "application/vnd.jupyter.widget-view+json": {
       "model_id": "29557b8c25af41eb86fea0aae50565f3",
       "version_major": 2,
       "version_minor": 0
      },
      "text/plain": [
       "HBox(children=(IntProgress(value=0, description='Training on size 5', max=9013, style=ProgressStyle(descriptio…"
      ]
     },
     "metadata": {},
     "output_type": "display_data"
    },
    {
     "name": "stdout",
     "output_type": "stream",
     "text": [
      "\n",
      "Error Generator: 5.938443 | Error Discriminator 0.583779 | MAE 0.045692\n"
     ]
    },
    {
     "data": {
      "application/vnd.jupyter.widget-view+json": {
       "model_id": "a626688efc724ed69ab615dce502d13f",
       "version_major": 2,
       "version_minor": 0
      },
      "text/plain": [
       "HBox(children=(IntProgress(value=0, description='Training on size 6', max=9013, style=ProgressStyle(descriptio…"
      ]
     },
     "metadata": {},
     "output_type": "display_data"
    },
    {
     "name": "stdout",
     "output_type": "stream",
     "text": [
      "\n",
      "Error Generator: 5.803781 | Error Discriminator 0.578164 | MAE 0.044038\n"
     ]
    },
    {
     "data": {
      "application/vnd.jupyter.widget-view+json": {
       "model_id": "db446c221c4c419cb292cbd64e6fabde",
       "version_major": 2,
       "version_minor": 0
      },
      "text/plain": [
       "HBox(children=(IntProgress(value=0, description='Training on size 7', max=9013, style=ProgressStyle(descriptio…"
      ]
     },
     "metadata": {},
     "output_type": "display_data"
    },
    {
     "name": "stdout",
     "output_type": "stream",
     "text": [
      "\n",
      "Error Generator: 5.666859 | Error Discriminator 0.579930 | MAE 0.042669\n"
     ]
    },
    {
     "data": {
      "application/vnd.jupyter.widget-view+json": {
       "model_id": "44f4cb0189f046b3b7343653e41b1546",
       "version_major": 2,
       "version_minor": 0
      },
      "text/plain": [
       "HBox(children=(IntProgress(value=0, description='Training on size 8', max=9013, style=ProgressStyle(descriptio…"
      ]
     },
     "metadata": {},
     "output_type": "display_data"
    },
    {
     "name": "stdout",
     "output_type": "stream",
     "text": [
      "\n",
      "Error Generator: 5.592813 | Error Discriminator 0.571637 | MAE 0.041811\n"
     ]
    },
    {
     "data": {
      "application/vnd.jupyter.widget-view+json": {
       "model_id": "3529d8fc0b7c4ebeb586011a774ffc10",
       "version_major": 2,
       "version_minor": 0
      },
      "text/plain": [
       "HBox(children=(IntProgress(value=0, description='Evaluating on size 1', max=9013, style=ProgressStyle(descript…"
      ]
     },
     "metadata": {},
     "output_type": "display_data"
    },
    {
     "name": "stdout",
     "output_type": "stream",
     "text": [
      "\n",
      "MSE 0.035566 | MAE 0.113331\n"
     ]
    },
    {
     "data": {
      "application/vnd.jupyter.widget-view+json": {
       "model_id": "fea6da1dd3644f5ab9650b1058bd961c",
       "version_major": 2,
       "version_minor": 0
      },
      "text/plain": [
       "HBox(children=(IntProgress(value=0, description='Evaluating on size 2', max=9013, style=ProgressStyle(descript…"
      ]
     },
     "metadata": {},
     "output_type": "display_data"
    },
    {
     "name": "stdout",
     "output_type": "stream",
     "text": [
      "\n",
      "MSE 0.011255 | MAE 0.067006\n"
     ]
    },
    {
     "data": {
      "application/vnd.jupyter.widget-view+json": {
       "model_id": "48dbce7d1a2b4f438ddbf4cdf9bdfffa",
       "version_major": 2,
       "version_minor": 0
      },
      "text/plain": [
       "HBox(children=(IntProgress(value=0, description='Evaluating on size 3', max=9013, style=ProgressStyle(descript…"
      ]
     },
     "metadata": {},
     "output_type": "display_data"
    },
    {
     "name": "stdout",
     "output_type": "stream",
     "text": [
      "\n",
      "MSE 0.006320 | MAE 0.053129\n"
     ]
    },
    {
     "data": {
      "application/vnd.jupyter.widget-view+json": {
       "model_id": "15394cfb62e34873b300e66e56cb34f1",
       "version_major": 2,
       "version_minor": 0
      },
      "text/plain": [
       "HBox(children=(IntProgress(value=0, description='Evaluating on size 4', max=9013, style=ProgressStyle(descript…"
      ]
     },
     "metadata": {},
     "output_type": "display_data"
    },
    {
     "name": "stdout",
     "output_type": "stream",
     "text": [
      "\n",
      "MSE 0.004792 | MAE 0.047217\n"
     ]
    },
    {
     "data": {
      "application/vnd.jupyter.widget-view+json": {
       "model_id": "f9d118d6c5324ea39b61f9c197a8acb5",
       "version_major": 2,
       "version_minor": 0
      },
      "text/plain": [
       "HBox(children=(IntProgress(value=0, description='Evaluating on size 5', max=9013, style=ProgressStyle(descript…"
      ]
     },
     "metadata": {},
     "output_type": "display_data"
    },
    {
     "name": "stdout",
     "output_type": "stream",
     "text": [
      "\n",
      "MSE 0.004176 | MAE 0.044285\n"
     ]
    },
    {
     "data": {
      "application/vnd.jupyter.widget-view+json": {
       "model_id": "698abb277afb44cb91c83fb2829b55ce",
       "version_major": 2,
       "version_minor": 0
      },
      "text/plain": [
       "HBox(children=(IntProgress(value=0, description='Evaluating on size 6', max=9013, style=ProgressStyle(descript…"
      ]
     },
     "metadata": {},
     "output_type": "display_data"
    },
    {
     "name": "stdout",
     "output_type": "stream",
     "text": [
      "\n",
      "MSE 0.003850 | MAE 0.042497\n"
     ]
    },
    {
     "data": {
      "application/vnd.jupyter.widget-view+json": {
       "model_id": "5b6ff283f360481ebcdb1413dc223875",
       "version_major": 2,
       "version_minor": 0
      },
      "text/plain": [
       "HBox(children=(IntProgress(value=0, description='Evaluating on size 7', max=9013, style=ProgressStyle(descript…"
      ]
     },
     "metadata": {},
     "output_type": "display_data"
    },
    {
     "name": "stdout",
     "output_type": "stream",
     "text": [
      "\n",
      "MSE 0.003665 | MAE 0.041372\n"
     ]
    },
    {
     "data": {
      "application/vnd.jupyter.widget-view+json": {
       "model_id": "260e16479a7c4dc886c6c6516a8e21c6",
       "version_major": 2,
       "version_minor": 0
      },
      "text/plain": [
       "HBox(children=(IntProgress(value=0, description='Evaluating on size 8', max=9013, style=ProgressStyle(descript…"
      ]
     },
     "metadata": {},
     "output_type": "display_data"
    },
    {
     "name": "stdout",
     "output_type": "stream",
     "text": [
      "\n",
      "MSE 0.003542 | MAE 0.040593\n"
     ]
    },
    {
     "data": {
      "application/vnd.jupyter.widget-view+json": {
       "model_id": "7791ee7feb9c486f84e96f994d3fc2d7",
       "version_major": 2,
       "version_minor": 0
      },
      "text/plain": [
       "HBox(children=(IntProgress(value=0, description='Evaluating on size 9', max=9013, style=ProgressStyle(descript…"
      ]
     },
     "metadata": {},
     "output_type": "display_data"
    },
    {
     "name": "stdout",
     "output_type": "stream",
     "text": [
      "\n",
      "MSE 0.003440 | MAE 0.039960\n"
     ]
    },
    {
     "data": {
      "application/vnd.jupyter.widget-view+json": {
       "model_id": "128d59f7e1ea480bb4a4057300473aae",
       "version_major": 2,
       "version_minor": 0
      },
      "text/plain": [
       "HBox(children=(IntProgress(value=0, description='Training on size 1', max=9013, style=ProgressStyle(descriptio…"
      ]
     },
     "metadata": {},
     "output_type": "display_data"
    },
    {
     "name": "stdout",
     "output_type": "stream",
     "text": [
      "\n",
      "Error Generator: 8.289270 | Error Discriminator 0.457629 | MAE 0.077797\n"
     ]
    },
    {
     "data": {
      "application/vnd.jupyter.widget-view+json": {
       "model_id": "850e2e3ea1d14c40adf04707dd07ba7c",
       "version_major": 2,
       "version_minor": 0
      },
      "text/plain": [
       "HBox(children=(IntProgress(value=0, description='Training on size 2', max=9013, style=ProgressStyle(descriptio…"
      ]
     },
     "metadata": {},
     "output_type": "display_data"
    },
    {
     "name": "stdout",
     "output_type": "stream",
     "text": [
      "\n",
      "Error Generator: 6.989344 | Error Discriminator 0.495696 | MAE 0.057448\n"
     ]
    },
    {
     "data": {
      "application/vnd.jupyter.widget-view+json": {
       "model_id": "69203a11271b4df68cff5f2a41a3a892",
       "version_major": 2,
       "version_minor": 0
      },
      "text/plain": [
       "HBox(children=(IntProgress(value=0, description='Training on size 3', max=9013, style=ProgressStyle(descriptio…"
      ]
     },
     "metadata": {},
     "output_type": "display_data"
    },
    {
     "name": "stdout",
     "output_type": "stream",
     "text": [
      "\n",
      "Error Generator: 6.429699 | Error Discriminator 0.516210 | MAE 0.050760\n"
     ]
    },
    {
     "data": {
      "application/vnd.jupyter.widget-view+json": {
       "model_id": "b28b09fe2cc348afb0e9565ba8b041f6",
       "version_major": 2,
       "version_minor": 0
      },
      "text/plain": [
       "HBox(children=(IntProgress(value=0, description='Training on size 4', max=9013, style=ProgressStyle(descriptio…"
      ]
     },
     "metadata": {},
     "output_type": "display_data"
    },
    {
     "name": "stdout",
     "output_type": "stream",
     "text": [
      "\n",
      "Error Generator: 6.138452 | Error Discriminator 0.521956 | MAE 0.047584\n"
     ]
    },
    {
     "data": {
      "application/vnd.jupyter.widget-view+json": {
       "model_id": "d54c1a8250dd47de9589d69cfb002322",
       "version_major": 2,
       "version_minor": 0
      },
      "text/plain": [
       "HBox(children=(IntProgress(value=0, description='Training on size 5', max=9013, style=ProgressStyle(descriptio…"
      ]
     },
     "metadata": {},
     "output_type": "display_data"
    },
    {
     "name": "stdout",
     "output_type": "stream",
     "text": [
      "\n",
      "Error Generator: 5.947866 | Error Discriminator 0.529345 | MAE 0.045321\n"
     ]
    },
    {
     "data": {
      "application/vnd.jupyter.widget-view+json": {
       "model_id": "469bc80928254cc5878260f775d60525",
       "version_major": 2,
       "version_minor": 0
      },
      "text/plain": [
       "HBox(children=(IntProgress(value=0, description='Training on size 6', max=9013, style=ProgressStyle(descriptio…"
      ]
     },
     "metadata": {},
     "output_type": "display_data"
    },
    {
     "name": "stdout",
     "output_type": "stream",
     "text": [
      "\n",
      "Error Generator: 5.831220 | Error Discriminator 0.525456 | MAE 0.043869\n"
     ]
    },
    {
     "data": {
      "application/vnd.jupyter.widget-view+json": {
       "model_id": "1ebc96701030468faa62a5c266480989",
       "version_major": 2,
       "version_minor": 0
      },
      "text/plain": [
       "HBox(children=(IntProgress(value=0, description='Training on size 7', max=9013, style=ProgressStyle(descriptio…"
      ]
     },
     "metadata": {},
     "output_type": "display_data"
    },
    {
     "name": "stdout",
     "output_type": "stream",
     "text": [
      "\n",
      "Error Generator: 5.737628 | Error Discriminator 0.530805 | MAE 0.042581\n"
     ]
    },
    {
     "data": {
      "application/vnd.jupyter.widget-view+json": {
       "model_id": "bb57782334fc4728a5b3965997962133",
       "version_major": 2,
       "version_minor": 0
      },
      "text/plain": [
       "HBox(children=(IntProgress(value=0, description='Training on size 8', max=9013, style=ProgressStyle(descriptio…"
      ]
     },
     "metadata": {},
     "output_type": "display_data"
    },
    {
     "name": "stdout",
     "output_type": "stream",
     "text": [
      "\n",
      "Error Generator: 5.661214 | Error Discriminator 0.527545 | MAE 0.041768\n"
     ]
    },
    {
     "data": {
      "application/vnd.jupyter.widget-view+json": {
       "model_id": "b181cf01f9154f4486db920dc129f461",
       "version_major": 2,
       "version_minor": 0
      },
      "text/plain": [
       "HBox(children=(IntProgress(value=0, description='Evaluating on size 1', max=9013, style=ProgressStyle(descript…"
      ]
     },
     "metadata": {},
     "output_type": "display_data"
    },
    {
     "name": "stdout",
     "output_type": "stream",
     "text": [
      "\n",
      "MSE 0.030771 | MAE 0.104332\n"
     ]
    },
    {
     "data": {
      "application/vnd.jupyter.widget-view+json": {
       "model_id": "ac3aff2e56d04a988100360028329ee2",
       "version_major": 2,
       "version_minor": 0
      },
      "text/plain": [
       "HBox(children=(IntProgress(value=0, description='Evaluating on size 2', max=9013, style=ProgressStyle(descript…"
      ]
     },
     "metadata": {},
     "output_type": "display_data"
    },
    {
     "name": "stdout",
     "output_type": "stream",
     "text": [
      "\n",
      "MSE 0.009481 | MAE 0.061591\n"
     ]
    },
    {
     "data": {
      "application/vnd.jupyter.widget-view+json": {
       "model_id": "0d6c303e3e9d4e84804dc4f830b51262",
       "version_major": 2,
       "version_minor": 0
      },
      "text/plain": [
       "HBox(children=(IntProgress(value=0, description='Evaluating on size 3', max=9013, style=ProgressStyle(descript…"
      ]
     },
     "metadata": {},
     "output_type": "display_data"
    },
    {
     "name": "stdout",
     "output_type": "stream",
     "text": [
      "\n",
      "MSE 0.005464 | MAE 0.049570\n"
     ]
    },
    {
     "data": {
      "application/vnd.jupyter.widget-view+json": {
       "model_id": "b472938486e243ee9361c94ef6c7f01d",
       "version_major": 2,
       "version_minor": 0
      },
      "text/plain": [
       "HBox(children=(IntProgress(value=0, description='Evaluating on size 4', max=9013, style=ProgressStyle(descript…"
      ]
     },
     "metadata": {},
     "output_type": "display_data"
    },
    {
     "name": "stdout",
     "output_type": "stream",
     "text": [
      "\n",
      "MSE 0.004359 | MAE 0.045041\n"
     ]
    },
    {
     "data": {
      "application/vnd.jupyter.widget-view+json": {
       "model_id": "6a3a98742c9b45fe8470e1331ef1badf",
       "version_major": 2,
       "version_minor": 0
      },
      "text/plain": [
       "HBox(children=(IntProgress(value=0, description='Evaluating on size 5', max=9013, style=ProgressStyle(descript…"
      ]
     },
     "metadata": {},
     "output_type": "display_data"
    },
    {
     "name": "stdout",
     "output_type": "stream",
     "text": [
      "\n",
      "MSE 0.003923 | MAE 0.042810\n"
     ]
    },
    {
     "data": {
      "application/vnd.jupyter.widget-view+json": {
       "model_id": "e9c34e9df96a4c86b72551d87f8f522a",
       "version_major": 2,
       "version_minor": 0
      },
      "text/plain": [
       "HBox(children=(IntProgress(value=0, description='Evaluating on size 6', max=9013, style=ProgressStyle(descript…"
      ]
     },
     "metadata": {},
     "output_type": "display_data"
    },
    {
     "name": "stdout",
     "output_type": "stream",
     "text": [
      "\n",
      "MSE 0.003693 | MAE 0.041522\n"
     ]
    },
    {
     "data": {
      "application/vnd.jupyter.widget-view+json": {
       "model_id": "c335ae4a6d974ba2a4d83787c56f14ee",
       "version_major": 2,
       "version_minor": 0
      },
      "text/plain": [
       "HBox(children=(IntProgress(value=0, description='Evaluating on size 7', max=9013, style=ProgressStyle(descript…"
      ]
     },
     "metadata": {},
     "output_type": "display_data"
    },
    {
     "name": "stdout",
     "output_type": "stream",
     "text": [
      "\n",
      "MSE 0.003542 | MAE 0.040644\n"
     ]
    },
    {
     "data": {
      "application/vnd.jupyter.widget-view+json": {
       "model_id": "3a3dd56f99854fac8c897ae7cd134411",
       "version_major": 2,
       "version_minor": 0
      },
      "text/plain": [
       "HBox(children=(IntProgress(value=0, description='Evaluating on size 8', max=9013, style=ProgressStyle(descript…"
      ]
     },
     "metadata": {},
     "output_type": "display_data"
    },
    {
     "name": "stdout",
     "output_type": "stream",
     "text": [
      "\n",
      "MSE 0.003445 | MAE 0.040057\n"
     ]
    },
    {
     "data": {
      "application/vnd.jupyter.widget-view+json": {
       "model_id": "c49154974a9d4e18a562f7e1d9e6fda8",
       "version_major": 2,
       "version_minor": 0
      },
      "text/plain": [
       "HBox(children=(IntProgress(value=0, description='Evaluating on size 9', max=9013, style=ProgressStyle(descript…"
      ]
     },
     "metadata": {},
     "output_type": "display_data"
    },
    {
     "name": "stdout",
     "output_type": "stream",
     "text": [
      "\n",
      "MSE 0.003375 | MAE 0.039631\n"
     ]
    },
    {
     "data": {
      "application/vnd.jupyter.widget-view+json": {
       "model_id": "990f6ea0021c4cdba5c577daeb201c9d",
       "version_major": 2,
       "version_minor": 0
      },
      "text/plain": [
       "HBox(children=(IntProgress(value=0, description='Training on size 1', max=9013, style=ProgressStyle(descriptio…"
      ]
     },
     "metadata": {},
     "output_type": "display_data"
    },
    {
     "name": "stdout",
     "output_type": "stream",
     "text": [
      "\n",
      "Error Generator: 8.288082 | Error Discriminator 0.412705 | MAE 0.077956\n"
     ]
    },
    {
     "data": {
      "application/vnd.jupyter.widget-view+json": {
       "model_id": "1b66a461fd594d08ae569729c88f426c",
       "version_major": 2,
       "version_minor": 0
      },
      "text/plain": [
       "HBox(children=(IntProgress(value=0, description='Training on size 2', max=9013, style=ProgressStyle(descriptio…"
      ]
     },
     "metadata": {},
     "output_type": "display_data"
    },
    {
     "name": "stdout",
     "output_type": "stream",
     "text": [
      "\n",
      "Error Generator: 6.998844 | Error Discriminator 0.451548 | MAE 0.057194\n"
     ]
    },
    {
     "data": {
      "application/vnd.jupyter.widget-view+json": {
       "model_id": "d1fb48664af64e5f91056a3e824cd962",
       "version_major": 2,
       "version_minor": 0
      },
      "text/plain": [
       "HBox(children=(IntProgress(value=0, description='Training on size 3', max=9013, style=ProgressStyle(descriptio…"
      ]
     },
     "metadata": {},
     "output_type": "display_data"
    },
    {
     "name": "stdout",
     "output_type": "stream",
     "text": [
      "\n",
      "Error Generator: 6.486633 | Error Discriminator 0.474071 | MAE 0.050592\n"
     ]
    },
    {
     "data": {
      "application/vnd.jupyter.widget-view+json": {
       "model_id": "cb3d4fc99679432b9d009cdc2d701772",
       "version_major": 2,
       "version_minor": 0
      },
      "text/plain": [
       "HBox(children=(IntProgress(value=0, description='Training on size 4', max=9013, style=ProgressStyle(descriptio…"
      ]
     },
     "metadata": {},
     "output_type": "display_data"
    },
    {
     "name": "stdout",
     "output_type": "stream",
     "text": [
      "\n",
      "Error Generator: 6.221484 | Error Discriminator 0.482994 | MAE 0.047466\n"
     ]
    },
    {
     "data": {
      "application/vnd.jupyter.widget-view+json": {
       "model_id": "d6030bd57c6a4fe09e0a06ad62b03ff9",
       "version_major": 2,
       "version_minor": 0
      },
      "text/plain": [
       "HBox(children=(IntProgress(value=0, description='Training on size 5', max=9013, style=ProgressStyle(descriptio…"
      ]
     },
     "metadata": {},
     "output_type": "display_data"
    },
    {
     "name": "stdout",
     "output_type": "stream",
     "text": [
      "\n",
      "Error Generator: 6.028264 | Error Discriminator 0.493083 | MAE 0.045341\n"
     ]
    },
    {
     "data": {
      "application/vnd.jupyter.widget-view+json": {
       "model_id": "d67089be795a4ccd8dbfdd4e42c50541",
       "version_major": 2,
       "version_minor": 0
      },
      "text/plain": [
       "HBox(children=(IntProgress(value=0, description='Training on size 6', max=9013, style=ProgressStyle(descriptio…"
      ]
     },
     "metadata": {},
     "output_type": "display_data"
    },
    {
     "name": "stdout",
     "output_type": "stream",
     "text": [
      "\n",
      "Error Generator: 5.901434 | Error Discriminator 0.497912 | MAE 0.043898\n"
     ]
    },
    {
     "data": {
      "application/vnd.jupyter.widget-view+json": {
       "model_id": "21f1fd6bca1d40c79a2717ea680b4daa",
       "version_major": 2,
       "version_minor": 0
      },
      "text/plain": [
       "HBox(children=(IntProgress(value=0, description='Training on size 7', max=9013, style=ProgressStyle(descriptio…"
      ]
     },
     "metadata": {},
     "output_type": "display_data"
    },
    {
     "name": "stdout",
     "output_type": "stream",
     "text": [
      "\n",
      "Error Generator: 5.813686 | Error Discriminator 0.496435 | MAE 0.042761\n"
     ]
    },
    {
     "data": {
      "application/vnd.jupyter.widget-view+json": {
       "model_id": "45e033fb68d8481b94208edabe61daf3",
       "version_major": 2,
       "version_minor": 0
      },
      "text/plain": [
       "HBox(children=(IntProgress(value=0, description='Training on size 8', max=9013, style=ProgressStyle(descriptio…"
      ]
     },
     "metadata": {},
     "output_type": "display_data"
    },
    {
     "name": "stdout",
     "output_type": "stream",
     "text": [
      "\n",
      "Error Generator: 5.756246 | Error Discriminator 0.493665 | MAE 0.041908\n"
     ]
    },
    {
     "data": {
      "application/vnd.jupyter.widget-view+json": {
       "model_id": "ed4c8547d5584e9f8f7c34e8f8ca0907",
       "version_major": 2,
       "version_minor": 0
      },
      "text/plain": [
       "HBox(children=(IntProgress(value=0, description='Evaluating on size 1', max=9013, style=ProgressStyle(descript…"
      ]
     },
     "metadata": {},
     "output_type": "display_data"
    },
    {
     "name": "stdout",
     "output_type": "stream",
     "text": [
      "\n",
      "MSE 0.030996 | MAE 0.106877\n"
     ]
    },
    {
     "data": {
      "application/vnd.jupyter.widget-view+json": {
       "model_id": "37d99280bdf549aa80dc6ee7e208440f",
       "version_major": 2,
       "version_minor": 0
      },
      "text/plain": [
       "HBox(children=(IntProgress(value=0, description='Evaluating on size 2', max=9013, style=ProgressStyle(descript…"
      ]
     },
     "metadata": {},
     "output_type": "display_data"
    },
    {
     "name": "stdout",
     "output_type": "stream",
     "text": [
      "\n",
      "MSE 0.009987 | MAE 0.063944\n"
     ]
    },
    {
     "data": {
      "application/vnd.jupyter.widget-view+json": {
       "model_id": "807b1a9825a04da7ae155cd823445ed8",
       "version_major": 2,
       "version_minor": 0
      },
      "text/plain": [
       "HBox(children=(IntProgress(value=0, description='Evaluating on size 3', max=9013, style=ProgressStyle(descript…"
      ]
     },
     "metadata": {},
     "output_type": "display_data"
    },
    {
     "name": "stdout",
     "output_type": "stream",
     "text": [
      "\n",
      "MSE 0.005871 | MAE 0.051625\n"
     ]
    },
    {
     "data": {
      "application/vnd.jupyter.widget-view+json": {
       "model_id": "b8efa464f6ec49bc800aa72fb4fde7b5",
       "version_major": 2,
       "version_minor": 0
      },
      "text/plain": [
       "HBox(children=(IntProgress(value=0, description='Evaluating on size 4', max=9013, style=ProgressStyle(descript…"
      ]
     },
     "metadata": {},
     "output_type": "display_data"
    },
    {
     "name": "stdout",
     "output_type": "stream",
     "text": [
      "\n",
      "MSE 0.004625 | MAE 0.046529\n"
     ]
    },
    {
     "data": {
      "application/vnd.jupyter.widget-view+json": {
       "model_id": "c45d50b118fa43bd9672175783adcda5",
       "version_major": 2,
       "version_minor": 0
      },
      "text/plain": [
       "HBox(children=(IntProgress(value=0, description='Evaluating on size 5', max=9013, style=ProgressStyle(descript…"
      ]
     },
     "metadata": {},
     "output_type": "display_data"
    },
    {
     "name": "stdout",
     "output_type": "stream",
     "text": [
      "\n",
      "MSE 0.004116 | MAE 0.043979\n"
     ]
    },
    {
     "data": {
      "application/vnd.jupyter.widget-view+json": {
       "model_id": "f1094ff974c84b9cb86b590d2d11aa7e",
       "version_major": 2,
       "version_minor": 0
      },
      "text/plain": [
       "HBox(children=(IntProgress(value=0, description='Evaluating on size 6', max=9013, style=ProgressStyle(descript…"
      ]
     },
     "metadata": {},
     "output_type": "display_data"
    },
    {
     "name": "stdout",
     "output_type": "stream",
     "text": [
      "\n",
      "MSE 0.003845 | MAE 0.042493\n"
     ]
    },
    {
     "data": {
      "application/vnd.jupyter.widget-view+json": {
       "model_id": "09217d627f31485b9fb686b234f1d8f4",
       "version_major": 2,
       "version_minor": 0
      },
      "text/plain": [
       "HBox(children=(IntProgress(value=0, description='Evaluating on size 7', max=9013, style=ProgressStyle(descript…"
      ]
     },
     "metadata": {},
     "output_type": "display_data"
    },
    {
     "name": "stdout",
     "output_type": "stream",
     "text": [
      "\n",
      "MSE 0.003678 | MAE 0.041482\n"
     ]
    },
    {
     "data": {
      "application/vnd.jupyter.widget-view+json": {
       "model_id": "648335d3ee7f4bf4b828d876a7280da4",
       "version_major": 2,
       "version_minor": 0
      },
      "text/plain": [
       "HBox(children=(IntProgress(value=0, description='Evaluating on size 8', max=9013, style=ProgressStyle(descript…"
      ]
     },
     "metadata": {},
     "output_type": "display_data"
    },
    {
     "name": "stdout",
     "output_type": "stream",
     "text": [
      "\n",
      "MSE 0.003562 | MAE 0.040760\n"
     ]
    },
    {
     "data": {
      "application/vnd.jupyter.widget-view+json": {
       "model_id": "5c34d891e97543fbb69676110f37a3aa",
       "version_major": 2,
       "version_minor": 0
      },
      "text/plain": [
       "HBox(children=(IntProgress(value=0, description='Evaluating on size 9', max=9013, style=ProgressStyle(descript…"
      ]
     },
     "metadata": {},
     "output_type": "display_data"
    },
    {
     "name": "stdout",
     "output_type": "stream",
     "text": [
      "\n",
      "MSE 0.003484 | MAE 0.040238\n"
     ]
    },
    {
     "data": {
      "application/vnd.jupyter.widget-view+json": {
       "model_id": "8c7c91fa0b984bfc97776fef66b35b5c",
       "version_major": 2,
       "version_minor": 0
      },
      "text/plain": [
       "HBox(children=(IntProgress(value=0, description='Training on size 1', max=9013, style=ProgressStyle(descriptio…"
      ]
     },
     "metadata": {},
     "output_type": "display_data"
    },
    {
     "name": "stdout",
     "output_type": "stream",
     "text": [
      "\n",
      "Error Generator: 8.312424 | Error Discriminator 0.382640 | MAE 0.077943\n"
     ]
    },
    {
     "data": {
      "application/vnd.jupyter.widget-view+json": {
       "model_id": "53dcbeac716146afb0288109deb0630a",
       "version_major": 2,
       "version_minor": 0
      },
      "text/plain": [
       "HBox(children=(IntProgress(value=0, description='Training on size 2', max=9013, style=ProgressStyle(descriptio…"
      ]
     },
     "metadata": {},
     "output_type": "display_data"
    },
    {
     "ename": "KeyboardInterrupt",
     "evalue": "",
     "output_type": "error",
     "traceback": [
      "\u001b[1;31m---------------------------------------------------------------------------\u001b[0m",
      "\u001b[1;31mKeyboardInterrupt\u001b[0m                         Traceback (most recent call last)",
      "\u001b[1;32m<ipython-input-5-4fae1bc30e1f>\u001b[0m in \u001b[0;36m<module>\u001b[1;34m\u001b[0m\n\u001b[0;32m    189\u001b[0m \u001b[1;33m\u001b[0m\u001b[0m\n\u001b[0;32m    190\u001b[0m \u001b[1;33m\u001b[0m\u001b[0m\n\u001b[1;32m--> 191\u001b[1;33m \u001b[0mtraining\u001b[0m\u001b[1;33m(\u001b[0m\u001b[0mnet\u001b[0m\u001b[1;33m,\u001b[0m \u001b[0mD\u001b[0m\u001b[1;33m,\u001b[0m \u001b[0mtrain\u001b[0m\u001b[1;33m,\u001b[0m \u001b[0mtest\u001b[0m\u001b[1;33m,\u001b[0m \u001b[0mmodel_dir\u001b[0m\u001b[1;33m,\u001b[0m\u001b[0mparams\u001b[0m\u001b[1;33m)\u001b[0m\u001b[1;33m\u001b[0m\u001b[1;33m\u001b[0m\u001b[0m\n\u001b[0m",
      "\u001b[1;32m<ipython-input-5-4fae1bc30e1f>\u001b[0m in \u001b[0;36mtraining\u001b[1;34m(G, D, train_ids, test_ids, model_dir, params, epochs, device)\u001b[0m\n\u001b[0;32m    160\u001b[0m             train_error = train_or_evaluate(train_ids, G, D, \n\u001b[0;32m    161\u001b[0m                                             \u001b[0moptimizer_G\u001b[0m\u001b[1;33m,\u001b[0m \u001b[0moptimizer_D\u001b[0m\u001b[1;33m,\u001b[0m \u001b[0mImage_pool\u001b[0m\u001b[1;33m,\u001b[0m\u001b[1;33m\u001b[0m\u001b[1;33m\u001b[0m\u001b[0m\n\u001b[1;32m--> 162\u001b[1;33m                                             L_GAN, L_FM, i, mode=\"train\")\n\u001b[0m\u001b[0;32m    163\u001b[0m             \u001b[0mend\u001b[0m \u001b[1;33m=\u001b[0m \u001b[0mtime\u001b[0m\u001b[1;33m.\u001b[0m\u001b[0mtime\u001b[0m\u001b[1;33m(\u001b[0m\u001b[1;33m)\u001b[0m\u001b[1;33m\u001b[0m\u001b[1;33m\u001b[0m\u001b[0m\n\u001b[0;32m    164\u001b[0m             \u001b[0mt\u001b[0m \u001b[1;33m+=\u001b[0m \u001b[1;33m(\u001b[0m\u001b[0mend\u001b[0m \u001b[1;33m-\u001b[0m \u001b[0mstart\u001b[0m\u001b[1;33m)\u001b[0m\u001b[1;33m\u001b[0m\u001b[1;33m\u001b[0m\u001b[0m\n",
      "\u001b[1;32m<ipython-input-5-4fae1bc30e1f>\u001b[0m in \u001b[0;36mtrain_or_evaluate\u001b[1;34m(data, G, D, optimizer_G, optimizer_D, Image_pool, L_GAN, L_FM, n_samples, mode)\u001b[0m\n\u001b[0;32m     73\u001b[0m                 \u001b[1;31m# Apply BackProp for G\u001b[0m\u001b[1;33m\u001b[0m\u001b[1;33m\u001b[0m\u001b[1;33m\u001b[0m\u001b[0m\n\u001b[0;32m     74\u001b[0m                 \u001b[0mloss_G\u001b[0m\u001b[1;33m.\u001b[0m\u001b[0mbackward\u001b[0m\u001b[1;33m(\u001b[0m\u001b[1;33m)\u001b[0m\u001b[1;33m\u001b[0m\u001b[1;33m\u001b[0m\u001b[0m\n\u001b[1;32m---> 75\u001b[1;33m                 \u001b[0moptimizer_G\u001b[0m\u001b[1;33m.\u001b[0m\u001b[0mstep\u001b[0m\u001b[1;33m(\u001b[0m\u001b[1;33m)\u001b[0m\u001b[1;33m\u001b[0m\u001b[1;33m\u001b[0m\u001b[0m\n\u001b[0m\u001b[0;32m     76\u001b[0m \u001b[1;33m\u001b[0m\u001b[0m\n\u001b[0;32m     77\u001b[0m                 \u001b[0moptimizer_D\u001b[0m\u001b[1;33m.\u001b[0m\u001b[0mzero_grad\u001b[0m\u001b[1;33m(\u001b[0m\u001b[1;33m)\u001b[0m\u001b[1;33m\u001b[0m\u001b[1;33m\u001b[0m\u001b[0m\n",
      "\u001b[1;32m~\\AppData\\Local\\Continuum\\anaconda3\\lib\\site-packages\\torch\\optim\\adam.py\u001b[0m in \u001b[0;36mstep\u001b[1;34m(self, closure)\u001b[0m\n\u001b[0;32m     92\u001b[0m                 \u001b[1;31m# Decay the first and second moment running average coefficient\u001b[0m\u001b[1;33m\u001b[0m\u001b[1;33m\u001b[0m\u001b[1;33m\u001b[0m\u001b[0m\n\u001b[0;32m     93\u001b[0m                 \u001b[0mexp_avg\u001b[0m\u001b[1;33m.\u001b[0m\u001b[0mmul_\u001b[0m\u001b[1;33m(\u001b[0m\u001b[0mbeta1\u001b[0m\u001b[1;33m)\u001b[0m\u001b[1;33m.\u001b[0m\u001b[0madd_\u001b[0m\u001b[1;33m(\u001b[0m\u001b[1;36m1\u001b[0m \u001b[1;33m-\u001b[0m \u001b[0mbeta1\u001b[0m\u001b[1;33m,\u001b[0m \u001b[0mgrad\u001b[0m\u001b[1;33m)\u001b[0m\u001b[1;33m\u001b[0m\u001b[1;33m\u001b[0m\u001b[0m\n\u001b[1;32m---> 94\u001b[1;33m                 \u001b[0mexp_avg_sq\u001b[0m\u001b[1;33m.\u001b[0m\u001b[0mmul_\u001b[0m\u001b[1;33m(\u001b[0m\u001b[0mbeta2\u001b[0m\u001b[1;33m)\u001b[0m\u001b[1;33m.\u001b[0m\u001b[0maddcmul_\u001b[0m\u001b[1;33m(\u001b[0m\u001b[1;36m1\u001b[0m \u001b[1;33m-\u001b[0m \u001b[0mbeta2\u001b[0m\u001b[1;33m,\u001b[0m \u001b[0mgrad\u001b[0m\u001b[1;33m,\u001b[0m \u001b[0mgrad\u001b[0m\u001b[1;33m)\u001b[0m\u001b[1;33m\u001b[0m\u001b[1;33m\u001b[0m\u001b[0m\n\u001b[0m\u001b[0;32m     95\u001b[0m                 \u001b[1;32mif\u001b[0m \u001b[0mamsgrad\u001b[0m\u001b[1;33m:\u001b[0m\u001b[1;33m\u001b[0m\u001b[1;33m\u001b[0m\u001b[0m\n\u001b[0;32m     96\u001b[0m                     \u001b[1;31m# Maintains the maximum of all 2nd moment running avg. till now\u001b[0m\u001b[1;33m\u001b[0m\u001b[1;33m\u001b[0m\u001b[1;33m\u001b[0m\u001b[0m\n",
      "\u001b[1;31mKeyboardInterrupt\u001b[0m: "
     ]
    }
   ],
   "source": [
    "optimizer = optim.Adam(net.parameters(),lr = 0.0001,)\n",
    "optimizer.zero_grad()\n",
    "\n",
    "def train_or_evaluate(data, G, D, \n",
    "                      optimizer_G, optimizer_D, Image_pool,\n",
    "                      L_GAN, L_FM, \n",
    "                      n_samples, mode=\"train\"):\n",
    "    \n",
    "    dataset = CGData(data_dir,data,n_samples)\n",
    "    dataloader = DataLoader(dataset, batch_size=minibatch_size,\n",
    "                         shuffle=False, num_workers=0)\n",
    "    \n",
    "    error_G = 0.0\n",
    "    error_D = 0.0\n",
    "    error_mae = 0.0\n",
    "    #error_VGG = 0.0\n",
    "    \n",
    "    MAE = nn.L1Loss()\n",
    "    MSE = nn.MSELoss()\n",
    "    \n",
    "    samples = 0\n",
    "    if mode == \"train\":\n",
    "        net.train()\n",
    "        for x,y in tqdm_notebook(dataloader, desc =\"Training on size \"+str(n_samples)):\n",
    "            \n",
    "                x = x.to(device)\n",
    "                y = y.to(device)\n",
    "\n",
    "                # Compute Fake Image using a pretrained ResNet as initial (conditional) solution\n",
    "                fake_image = G(x)\n",
    "                \n",
    "                ####### Optimze Discriminator ###########\n",
    "                # Optimize for fake input\n",
    "                fake_query = Image_pool.query(fake_image)\n",
    "                pred_fake_pool = D(fake_query)\n",
    "                loss_D_fake = L_GAN(pred_fake_pool,False)       \n",
    "\n",
    "                # Optimize for real input\n",
    "                pred_real = D(y)\n",
    "                loss_D_real = L_GAN(pred_real,True)\n",
    "                loss_D = 0.5*(loss_D_fake+loss_D_real)\n",
    "\n",
    "                ####### Optimize Generator ###########\n",
    "                # Optimize to fool the discriminator (fake passability)\n",
    "                pred_false_positve = D(fake_image)\n",
    "                loss_G_GAN = L_GAN(pred_false_positve,True)\n",
    "                loss_mae = MAE(fake_image,y)\n",
    "                \n",
    "                 # GAN feature matching loss\n",
    "                loss_G_GAN_Feat = 0\n",
    "                feat_weights = 4.0 / (3.0 + 1.0)\n",
    "                D_weights = 1.0 / 1.0\n",
    "                for i in range(3):\n",
    "                    for j in range(len(pred_false_positve[i])-1):\n",
    "                        loss_G_GAN_Feat += D_weights * feat_weights * \\\n",
    "                            L_FM(pred_false_positve[i][j], pred_real[i][j].detach()) * 10.0\n",
    "\n",
    "                #logg_vgg = L_VGG(fake_image,y)*10\n",
    "\n",
    "                # Compute loss for G and D    \n",
    "                loss_D = 0.5*(loss_D_fake+loss_D_real)\n",
    "                loss_G = loss_G_GAN + loss_G_GAN_Feat + loss_mae*10\n",
    "\n",
    "                error_G += loss_G.item()\n",
    "                error_D += loss_D.item()\n",
    "                error_mae += loss_mae.item()\n",
    "\n",
    "\n",
    "                # Apply BackProp for D\n",
    "                loss_D.backward()\n",
    "                optimizer_D.step()\n",
    "\n",
    "                # Apply BackProp for G\n",
    "                loss_G.backward()\n",
    "                optimizer_G.step()\n",
    "                \n",
    "                optimizer_D.zero_grad()  \n",
    "                optimizer_G.zero_grad()\n",
    "                samples += 1\n",
    "                \n",
    "                \n",
    "        error_G /=samples\n",
    "        error_D /=samples\n",
    "        error_mae /= samples\n",
    "        print(\"Error Generator: %f | Error Discriminator %f | MAE %f\"%(error_G, error_D, error_mae))\n",
    "        return error_G, error_D, error_mae\n",
    "\n",
    "    else:\n",
    "        net.eval()\n",
    "\n",
    "        \n",
    "        error_mae = 0\n",
    "        error_mse = 0\n",
    "\n",
    "        with torch.no_grad():\n",
    "            for x,y in tqdm_notebook(dataloader, desc =\"Evaluating on size \"+str(n_samples)):\n",
    "                #x,y = train_set[i]\n",
    "                x = x.to(device)\n",
    "                y = y.to(device)\n",
    "                output = net.forward(x)\n",
    "                mae_loss = MAE(output,y)                \n",
    "                mse_loss = MSE(output,y)\n",
    "\n",
    "                error_mae += mae_loss.item()\n",
    "                error_mse += mse_loss.item()\n",
    "\n",
    "                samples += 1\n",
    "                \n",
    "        error_mae /= samples\n",
    "        error_mse /= samples\n",
    "        print(\"MSE %f | MAE %f\"%(error_mse, error_mae))\n",
    "        return error_mse, error_mae\n",
    "        \n",
    "    return error\n",
    "\n",
    "\n",
    "def training(G, D, train_ids, test_ids,\n",
    "             model_dir,\n",
    "             params,\n",
    "             epochs=1000,\n",
    "             device=torch.device(\"cuda:0\")):\n",
    "    \n",
    "    last_epoch = params[\"epoch\"]\n",
    "    t = params[\"time\"]\n",
    "\n",
    "    \n",
    "    optimizer_D = optim.Adam(D.parameters(), lr = 0.0002,)\n",
    "    optimizer_D.zero_grad()\n",
    "    optimizer_G = optim.Adam(G.parameters(), lr = 0.0002,)\n",
    "    optimizer_G.zero_grad()\n",
    "    \n",
    "    \n",
    "    Image_pool = networks.ImagePool(50)\n",
    "    L_GAN = networks.GANLoss(use_lsgan=True,tensor = torch.cuda.FloatTensor)\n",
    "    L_FM = nn.L1Loss()\n",
    "    \n",
    "    train_loss = 0\n",
    "    scheduler = torch.optim.lr_scheduler.StepLR(optimizer_G, 5, 0.1)\n",
    "    scheduler = torch.optim.lr_scheduler.StepLR(optimizer_D, 5, 0.1)\n",
    "\n",
    "    \n",
    "    # This simulates the Learning rate updates\n",
    "    for _ in range(last_epoch):\n",
    "        scheduler.step()\n",
    "    \n",
    "\n",
    "    for epoch in range(last_epoch+1,epochs):\n",
    "        \n",
    "        start = time.time()\n",
    "        samples = 0\n",
    "        train_loss = 0\n",
    "        \n",
    "        train_ids = list(train_ids)\n",
    "        test_ids = list(test_ids)\n",
    "        np.random.shuffle(train_ids)\n",
    "        np.random.shuffle(test_ids)\n",
    "        \n",
    "\n",
    "        for i in range(1,9):\n",
    "            train_error = train_or_evaluate(train_ids, G, D, \n",
    "                                            optimizer_G, optimizer_D, Image_pool,\n",
    "                                            L_GAN, L_FM, i, mode=\"train\")\n",
    "            end = time.time()\n",
    "            t += (end - start)\n",
    "            write(model_dir + \"/train_errors.csv\",[epoch,train_error,t])\n",
    "            torch.save(net.state_dict(), model_dir + \"/nn\"+ str(i)+\".pt\")\n",
    "\n",
    "        for i in range(1,10):\n",
    "            test_error = train_or_evaluate(train_ids, G, D, \n",
    "                                            optimizer_G, optimizer_D, Image_pool,\n",
    "                                            L_GAN, L_FM, i, mode=\"test\")\n",
    "            end = time.time()\n",
    "            t += (end - start)\n",
    "            write(model_dir + \"/test_errors.csv\",[epoch,test_error,t])\n",
    "\n",
    "        torch.save(net.state_dict(), model_dir + \"/nn.pt\")\n",
    "        \n",
    "        #torch.save(net.state_dict(), model_dir + \"/nn\"+ str(epoch) +\".pt\")\n",
    "\n",
    "            \n",
    "        params[\"epoch\"] = epoch\n",
    "        params[\"time\"] = t\n",
    "        f = open(model_dir + \"/params.json\", \"w\")\n",
    "        f.write(json.dumps(params))\n",
    "        f.close()\n",
    "        #if(train_loss>2*best_loss):\n",
    "            #net.load_state_dict(torch.load(model_dir + \"/nn.pt\"))\n",
    "        scheduler.step()\n",
    "\n",
    "\n",
    "training(net, D, train, test, model_dir,params)"
   ]
  },
  {
   "cell_type": "code",
   "execution_count": null,
   "metadata": {},
   "outputs": [],
   "source": [
    "trainset = CGData(data_dir,train,1)"
   ]
  },
  {
   "cell_type": "code",
   "execution_count": null,
   "metadata": {},
   "outputs": [],
   "source": [
    "x,y = trainset[np.random.randint(0,len(trainset))]\n",
    "x = x.unsqueeze(0).to(device)\n",
    "xs = torch.split(x,1,dim = 1)\n",
    "xs = [torch.squeeze(x,dim=0).cpu() for x in xs]\n",
    "y = y.unsqueeze(0)\n",
    "plot(xs+[net(x).cpu()]+[y.cpu()])"
   ]
  },
  {
   "cell_type": "code",
   "execution_count": null,
   "metadata": {},
   "outputs": [],
   "source": [
    "\n"
   ]
  }
 ],
 "metadata": {
  "kernelspec": {
   "display_name": "Python 3",
   "language": "python",
   "name": "python3"
  },
  "language_info": {
   "codemirror_mode": {
    "name": "ipython",
    "version": 3
   },
   "file_extension": ".py",
   "mimetype": "text/x-python",
   "name": "python",
   "nbconvert_exporter": "python",
   "pygments_lexer": "ipython3",
   "version": "3.7.1"
  }
 },
 "nbformat": 4,
 "nbformat_minor": 4
}
