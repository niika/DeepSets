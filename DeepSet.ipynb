{
 "cells": [
  {
   "cell_type": "code",
   "execution_count": 1,
   "metadata": {},
   "outputs": [],
   "source": [
    "from __future__ import print_function, division\n",
    "import os\n",
    "import torch\n",
    "import pandas as pd\n",
    "from skimage import io\n",
    "import numpy as np\n",
    "import matplotlib.pyplot as plt\n",
    "from torch.utils.data import Dataset, DataLoader\n",
    "from torchvision import transforms, utils,models\n",
    "import cv2\n",
    "import torch.nn as nn\n",
    "import torch.nn.functional as F\n",
    "from scipy.stats import multivariate_normal\n",
    "from scipy import random, linalg\n",
    "from sklearn.model_selection import train_test_split\n",
    "import torch.optim as optim\n",
    "import re\n",
    "import json\n",
    "import time\n",
    "from tqdm import tqdm_notebook\n",
    "\n",
    "import sys\n",
    "from utils import *"
   ]
  },
  {
   "cell_type": "code",
   "execution_count": 2,
   "metadata": {},
   "outputs": [],
   "source": [
    "from torch.utils.data import Dataset, DataLoader\n",
    "from torchvision import transforms, utils\n",
    "\n",
    "class CGData(Dataset):\n",
    "    \"\"\"Dataset containing all sequences with artifacts\n",
    "    \n",
    "    Generates three distorted images as input data.\n",
    "    \n",
    "    \"\"\"\n",
    "    \n",
    "    def __init__(self, root_dir, indices, sample_size, resize=True):\n",
    "        self.root_dir = root_dir\n",
    "        self.ToPIL = transforms.ToPILImage()\n",
    "        self.ToTensor = transforms.ToTensor()\n",
    "        self.indices = indices\n",
    "        self.resize=resize\n",
    "        self.sample_size = sample_size\n",
    "        \n",
    "        files = os.listdir(root_dir)\n",
    "        match = lambda x: len(re.findall(\"img_\\d+_\\d.jpg\", x))== 1\n",
    "        cut_string = lambda x: eval(re.sub(\"_.*\",\"\",re.sub(\"img_\",\"\",x)))\n",
    "\n",
    "        files = list(filter(match,files))\n",
    "        files = list(map(cut_string,files))\n",
    "\n",
    "\n",
    "        first,last = min(files),max(files)\n",
    "        self.offset = first\n",
    "        self.last = last\n",
    "    \n",
    "    def __len__(self):\n",
    "        return len(self.indices)\n",
    "    \n",
    "    def __getitem__(self, idx):        \n",
    "        \n",
    "        idx = self.indices[idx]\n",
    "        count = 0\n",
    "        img_files = None\n",
    "        imgs = None\n",
    "        label = None\n",
    "        while True:\n",
    "            \n",
    "            n = self.sample_size\n",
    "            nrs = np.random.choice(range(1,10), size=n, replace=False).tolist()\n",
    "            img_files = [self.root_dir +  \"img_\" +str(idx)+ \"_\" + str(nr) + \".jpg\" for nr in nrs]\n",
    "            exists = all([os.path.isfile(img_file) for img_file in img_files])\n",
    "            count+=1\n",
    "            try:\n",
    "                imgs = [cv2.imread(file) for file in img_files]\n",
    "                imgs = [img[...,::-1]- np.zeros_like(img) for img in imgs]\n",
    "\n",
    "                label_file = self.root_dir + \"books/img \" + \"(\"+str(idx - 1)+\").jpg\"\n",
    "                label = cv2.imread(label_file)\n",
    "                label = label[...,::-1]- np.zeros_like(label)\n",
    "                break\n",
    "\n",
    "            except:\n",
    "                idx = np.random.randint(len(self.indices))\n",
    "                idx = self.indices[idx]\n",
    "\n",
    "        \n",
    "        \n",
    "        if self.resize:\n",
    "            label = cv2.resize(label, dsize=(256,256))\n",
    "            imgs = [ cv2.resize(img, dsize=(256,256)) for img in imgs]\n",
    "        \n",
    "\n",
    "        H,W,C = imgs[0].shape\n",
    "        if H<W:\n",
    "            label = np.rot90(label)\n",
    "            label -= np.zeros_like(label)\n",
    "            imgs = [np.rot90(img) for img in imgs]- np.zeros_like(label)\n",
    "        \n",
    "        flip = np.random.randint(-1,3)\n",
    "        if flip < 2:\n",
    "            label = cv2.flip(label,flip)- np.zeros_like(label)\n",
    "            imgs = [cv2.flip(img,flip) for img in imgs]- np.zeros_like(label)\n",
    "\n",
    "        \n",
    "        imgs = [self.ToTensor(img) for img in imgs]\n",
    "        #data = torch.unsqueeze(data,0)\n",
    "        imgs = torch.stack(imgs)\n",
    "        \n",
    "        label = label.astype(np.uint8)\n",
    "        label = self.ToTensor(label)\n",
    "        #label = torch.unsqueeze(label,0)\n",
    "        return imgs, label"
   ]
  },
  {
   "cell_type": "markdown",
   "metadata": {},
   "source": [
    "# Architecture"
   ]
  },
  {
   "cell_type": "code",
   "execution_count": 3,
   "metadata": {},
   "outputs": [],
   "source": [
    "class ResidualBlock(nn.Module):\n",
    "    def __init__(self, in_planes, out_planes):\n",
    "        super(ResidualBlock, self).__init__()\n",
    "        self.conv1 = nn.Conv2d(in_planes, out_planes, kernel_size=3, stride=1, padding=1, bias=True)\n",
    "        self.conv2 = nn.Conv2d(out_planes, out_planes, kernel_size=3, stride=1, padding=1, bias=True)\n",
    "\n",
    "    def forward(self, x):\n",
    "        out = F.relu(self.conv1(x))\n",
    "        out = self.conv2(out)\n",
    "        out += x\n",
    "        return out\n",
    "    \n",
    "class DilatedResidualBlock(nn.Module):\n",
    "    def __init__(self, in_planes, out_planes, dilation):\n",
    "        super(DilatedResidualBlock, self).__init__()\n",
    "        self.conv1 = nn.Conv2d(in_planes, out_planes, kernel_size=3, stride=1, dilation=dilation, padding=dilation, bias=True)\n",
    "        self.conv2 = nn.Conv2d(out_planes, out_planes, kernel_size=3, stride=1, dilation=dilation,padding=dilation, bias=True)\n",
    "\n",
    "    def forward(self, x):\n",
    "        out = F.relu(self.conv1(x))\n",
    "        out = self.conv2(out)\n",
    "        out += x\n",
    "        return out\n",
    "        \n",
    "class DeepSetNet(nn.Module):\n",
    "    \"\"\" Deep Set Residual Neural Network \"\"\"\n",
    "    def __init__(self, encoder_num_blocks=10, decoder_num_blocks=10, smooth_num_blocks=6, planes=32,block=ResidualBlock ):\n",
    "        super(DeepSetNet, self).__init__()\n",
    "        self.planes = planes\n",
    "        self.input = nn.Conv2d(3, self.planes, kernel_size=3, stride=1, padding=1, bias=True)\n",
    "        self.output= nn.Conv2d(self.planes, 3, kernel_size=3, stride=1, padding=1, bias=True)\n",
    "        \n",
    "        \n",
    "        # Create a down-/up-sampling architecture\n",
    "        self.downsample = []\n",
    "        self.upsample = []\n",
    "        n = planes\n",
    "        for i in range(2):\n",
    "            self.downsample.append( nn.Conv2d(in_channels = n, out_channels=n*2, kernel_size=3, stride=2, padding=1 ) )\n",
    "            self.downsample.append(nn.ReLU(inplace=True))\n",
    "\n",
    "            \n",
    "            self.upsample = [nn.ReLU(inplace=True)] + self.upsample\n",
    "            self.upsample = [nn.ConvTranspose2d(in_channels=n*2, out_channels=n, kernel_size=3, stride=2, padding=1, output_padding=1)] + self.upsample\n",
    "            n *= 2\n",
    "\n",
    "        self.downsample = nn.Sequential(*self.downsample)\n",
    "        self.upsample = nn.Sequential(*self.upsample)\n",
    "        \n",
    "        \n",
    "        # Embedding of downsampled features\n",
    "        self.encoder = self._make_layer(block, n, encoder_num_blocks)\n",
    "        self.decoder = self._make_layer(block, n, decoder_num_blocks)\n",
    "        self.smooth  = self._make_smooth_layer(planes, smooth_num_blocks)\n",
    "        \n",
    "    def _make_layer(self, block, planes, num_blocks):\n",
    "        layers = []\n",
    "        for i in range(num_blocks):\n",
    "            layers.append(DilatedResidualBlock(planes, planes,2))\n",
    "        return nn.Sequential(*layers)\n",
    "    \n",
    "    def _make_smooth_layer(self, planes, num_blocks):\n",
    "        layers = []\n",
    "        dilation = 1\n",
    "        for i in range(num_blocks):\n",
    "            layers.append(DilatedResidualBlock(planes,planes,dilation))\n",
    "            if i%2 == 0:\n",
    "                dilation *= 2\n",
    "        layers.append( nn.Conv2d(in_channels = planes, out_channels=planes, kernel_size=3, stride=1, padding=1 ) )\n",
    "        layers.append(nn.ReLU(inplace=True))\n",
    "        layers.append( nn.Conv2d(in_channels = planes, out_channels=planes, kernel_size=3, stride=1, padding=1 ) )\n",
    "        return nn.Sequential(*layers)\n",
    "            \n",
    "        \n",
    "\n",
    "    def forward(self, x):\n",
    "        \"\"\"Forward pass of our DeepSet Network \n",
    "        \n",
    "        x: of tensor of size (B, S, C, H, W)\n",
    "        \"\"\"\n",
    "\n",
    "        xs = torch.split(x,1,dim = 1)\n",
    "        xs = [torch.squeeze(x,dim=1) for x in xs]\n",
    "        embedding = [self.encoder(self.downsample(self.input(x))) for x in xs]\n",
    "        embedding = torch.stack(embedding).mean(0)\n",
    "        out = self.output(self.smooth(self.upsample(self.decoder(embedding))))\n",
    "\n",
    "        \n",
    "        return out"
   ]
  },
  {
   "cell_type": "code",
   "execution_count": 4,
   "metadata": {},
   "outputs": [
    {
     "name": "stdout",
     "output_type": "stream",
     "text": [
      "The following directory will be used in all further steps:  ./models/\n",
      "6462 126632\n"
     ]
    }
   ],
   "source": [
    "model_dir = \"./models/\"\n",
    "if not os.path.isdir(model_dir):\n",
    "    os.mkdir(model_dir)\n",
    "\n",
    "print(\"The following directory will be used in all further steps:  \" + model_dir)\n",
    "\n",
    "\n",
    "# Create Dataset and split it into Training and test set\n",
    "minibatch_size = 10\n",
    "data_dir = \"D:/250x250/\"\n",
    "files = os.listdir(data_dir)\n",
    "match = lambda x: len(re.findall(\"img_\\d+_\\d.jpg\", x))== 1\n",
    "cut_string = lambda x: eval(re.sub(\"_.*\",\"\",re.sub(\"img_\",\"\",x)))\n",
    "\n",
    "files = list(filter(match,files))\n",
    "files = list(map(cut_string,files))\n",
    "\n",
    "\n",
    "first, last = min(files),max(files)\n",
    "print(first, last)\n",
    "\n",
    "n = last - first + 1\n",
    "train, test = train_test_split(list(range(first, last+1)))\n",
    "#train, test = train_test_split(range(first, first+100))\n",
    "\n",
    "if os.path.isfile(model_dir + \"/trainingIdx.txt\"):\n",
    "    f1 = open(model_dir + \"/trainingIdx.txt\", \"r\")\n",
    "    f2 = open(model_dir + \"/testIdx.txt\", \"r\")\n",
    "    train = eval(f1.read())\n",
    "    test = eval(f2.read())\n",
    "    f1.close()\n",
    "    f2.close()\n",
    "else:\n",
    "    write(model_dir + \"/trainingIdx.txt\",train)\n",
    "    write(model_dir + \"/testIdx.txt\",test)\n",
    "\n",
    "    \n",
    "if os.path.isfile(model_dir + \"/params.json\"):\n",
    "    f = open(model_dir + \"/params.json\", \"r\")\n",
    "    params = json.loads(f.read())\n",
    "    f.close()\n",
    "else:\n",
    "    params = {\n",
    "        \"epoch\": 0,\n",
    "        \"time\": 0,\n",
    "    }\n",
    "    f = open(model_dir + \"/params.json\", \"w\")\n",
    "    f.write(json.dumps(params))\n",
    "    f.close()\n",
    "\n",
    "\n",
    "device = torch.device(\"cuda:0\")\n",
    "\n",
    "# Initialize Neural Network\n",
    "net = DeepSetNet(encoder_num_blocks=10, decoder_num_blocks=5, planes=18)\n",
    "\n",
    "if  os.path.isfile(model_dir + \"/nn.pt\"):\n",
    "    net.load_state_dict(torch.load(model_dir + \"/nn.pt\"))\n",
    "\n",
    "net = net.to(device)\n",
    "\n",
    "criterion = nn.MSELoss()\n",
    "epochs = 10000"
   ]
  },
  {
   "cell_type": "code",
   "execution_count": null,
   "metadata": {},
   "outputs": [
    {
     "data": {
      "application/vnd.jupyter.widget-view+json": {
       "model_id": "5eab374f056c4b4f805eff942e73a66b",
       "version_major": 2,
       "version_minor": 0
      },
      "text/plain": [
       "HBox(children=(IntProgress(value=0, description='Training on size 1', max=9013, style=ProgressStyle(descriptio…"
      ]
     },
     "metadata": {},
     "output_type": "display_data"
    },
    {
     "name": "stdout",
     "output_type": "stream",
     "text": [
      "\n",
      "Sample size : 1 \t Training Error 0.009331\n"
     ]
    },
    {
     "data": {
      "application/vnd.jupyter.widget-view+json": {
       "model_id": "e5a71391de83492590fbfa46e563d44c",
       "version_major": 2,
       "version_minor": 0
      },
      "text/plain": [
       "HBox(children=(IntProgress(value=0, description='Training on size 2', max=9013, style=ProgressStyle(descriptio…"
      ]
     },
     "metadata": {},
     "output_type": "display_data"
    },
    {
     "name": "stdout",
     "output_type": "stream",
     "text": [
      "\n",
      "Sample size : 2 \t Training Error 0.003665\n"
     ]
    },
    {
     "data": {
      "application/vnd.jupyter.widget-view+json": {
       "model_id": "6c3232ab77294ea897c5b193e2b8cf5e",
       "version_major": 2,
       "version_minor": 0
      },
      "text/plain": [
       "HBox(children=(IntProgress(value=0, description='Training on size 3', max=9013, style=ProgressStyle(descriptio…"
      ]
     },
     "metadata": {},
     "output_type": "display_data"
    },
    {
     "name": "stdout",
     "output_type": "stream",
     "text": [
      "\n",
      "Sample size : 3 \t Training Error 0.002525\n"
     ]
    },
    {
     "data": {
      "application/vnd.jupyter.widget-view+json": {
       "model_id": "2a3c0333f99d480db3f75c74a7692d69",
       "version_major": 2,
       "version_minor": 0
      },
      "text/plain": [
       "HBox(children=(IntProgress(value=0, description='Training on size 4', max=9013, style=ProgressStyle(descriptio…"
      ]
     },
     "metadata": {},
     "output_type": "display_data"
    },
    {
     "name": "stdout",
     "output_type": "stream",
     "text": [
      "\n",
      "Sample size : 4 \t Training Error 0.002075\n"
     ]
    },
    {
     "data": {
      "application/vnd.jupyter.widget-view+json": {
       "model_id": "5ab270facad84f75a5ac4825c5cf905c",
       "version_major": 2,
       "version_minor": 0
      },
      "text/plain": [
       "HBox(children=(IntProgress(value=0, description='Training on size 5', max=9013, style=ProgressStyle(descriptio…"
      ]
     },
     "metadata": {},
     "output_type": "display_data"
    },
    {
     "name": "stdout",
     "output_type": "stream",
     "text": [
      "\n",
      "Sample size : 5 \t Training Error 0.001840\n"
     ]
    },
    {
     "data": {
      "application/vnd.jupyter.widget-view+json": {
       "model_id": "3673fee1778f4f50b3f2e78b0d16db1c",
       "version_major": 2,
       "version_minor": 0
      },
      "text/plain": [
       "HBox(children=(IntProgress(value=0, description='Training on size 6', max=9013, style=ProgressStyle(descriptio…"
      ]
     },
     "metadata": {},
     "output_type": "display_data"
    },
    {
     "name": "stdout",
     "output_type": "stream",
     "text": [
      "\n",
      "Sample size : 6 \t Training Error 0.001691\n"
     ]
    },
    {
     "data": {
      "application/vnd.jupyter.widget-view+json": {
       "model_id": "0ca7cad173d243e39d9d9c3f529c6481",
       "version_major": 2,
       "version_minor": 0
      },
      "text/plain": [
       "HBox(children=(IntProgress(value=0, description='Training on size 7', max=9013, style=ProgressStyle(descriptio…"
      ]
     },
     "metadata": {},
     "output_type": "display_data"
    },
    {
     "name": "stdout",
     "output_type": "stream",
     "text": [
      "\n",
      "Sample size : 7 \t Training Error 0.001579\n"
     ]
    },
    {
     "data": {
      "application/vnd.jupyter.widget-view+json": {
       "model_id": "9e1a172cb82f476aaf8bd85c6489e911",
       "version_major": 2,
       "version_minor": 0
      },
      "text/plain": [
       "HBox(children=(IntProgress(value=0, description='Training on size 8', max=9013, style=ProgressStyle(descriptio…"
      ]
     },
     "metadata": {},
     "output_type": "display_data"
    },
    {
     "name": "stdout",
     "output_type": "stream",
     "text": [
      "\n",
      "Sample size : 8 \t Training Error 0.001497\n"
     ]
    },
    {
     "data": {
      "application/vnd.jupyter.widget-view+json": {
       "model_id": "016ebd8bfd9245b1b637d47d88b38a12",
       "version_major": 2,
       "version_minor": 0
      },
      "text/plain": [
       "HBox(children=(IntProgress(value=0, description='Training on size 9', max=9013, style=ProgressStyle(descriptio…"
      ]
     },
     "metadata": {},
     "output_type": "display_data"
    },
    {
     "name": "stdout",
     "output_type": "stream",
     "text": [
      "\n",
      "Sample size : 9 \t Training Error 0.001429\n"
     ]
    },
    {
     "data": {
      "application/vnd.jupyter.widget-view+json": {
       "model_id": "832053ed730e4610b08f4f0ef4865374",
       "version_major": 2,
       "version_minor": 0
      },
      "text/plain": [
       "HBox(children=(IntProgress(value=0, description='Evaluating on size 1', max=3005, style=ProgressStyle(descript…"
      ]
     },
     "metadata": {},
     "output_type": "display_data"
    },
    {
     "name": "stdout",
     "output_type": "stream",
     "text": [
      "\n",
      "Sample size : 1 \t Test Error 0.026583\n"
     ]
    },
    {
     "data": {
      "application/vnd.jupyter.widget-view+json": {
       "model_id": "dcae955afab14333a4a7b87e6190a66c",
       "version_major": 2,
       "version_minor": 0
      },
      "text/plain": [
       "HBox(children=(IntProgress(value=0, description='Evaluating on size 2', max=3005, style=ProgressStyle(descript…"
      ]
     },
     "metadata": {},
     "output_type": "display_data"
    },
    {
     "name": "stdout",
     "output_type": "stream",
     "text": [
      "\n",
      "Sample size : 2 \t Test Error 0.006222\n"
     ]
    },
    {
     "data": {
      "application/vnd.jupyter.widget-view+json": {
       "model_id": "9b55d0144b104ac4ad01f9ae8b5de97c",
       "version_major": 2,
       "version_minor": 0
      },
      "text/plain": [
       "HBox(children=(IntProgress(value=0, description='Evaluating on size 3', max=3005, style=ProgressStyle(descript…"
      ]
     },
     "metadata": {},
     "output_type": "display_data"
    },
    {
     "name": "stdout",
     "output_type": "stream",
     "text": [
      "\n",
      "Sample size : 3 \t Test Error 0.003004\n"
     ]
    },
    {
     "data": {
      "application/vnd.jupyter.widget-view+json": {
       "model_id": "6c9d10a0787b424fba5df9134251fc48",
       "version_major": 2,
       "version_minor": 0
      },
      "text/plain": [
       "HBox(children=(IntProgress(value=0, description='Evaluating on size 4', max=3005, style=ProgressStyle(descript…"
      ]
     },
     "metadata": {},
     "output_type": "display_data"
    },
    {
     "name": "stdout",
     "output_type": "stream",
     "text": [
      "\n",
      "Sample size : 4 \t Test Error 0.002192\n"
     ]
    },
    {
     "data": {
      "application/vnd.jupyter.widget-view+json": {
       "model_id": "5537c14ca46e4ab7a4680878dd64d2df",
       "version_major": 2,
       "version_minor": 0
      },
      "text/plain": [
       "HBox(children=(IntProgress(value=0, description='Evaluating on size 5', max=3005, style=ProgressStyle(descript…"
      ]
     },
     "metadata": {},
     "output_type": "display_data"
    },
    {
     "name": "stdout",
     "output_type": "stream",
     "text": [
      "\n",
      "Sample size : 5 \t Test Error 0.001857\n"
     ]
    },
    {
     "data": {
      "application/vnd.jupyter.widget-view+json": {
       "model_id": "046134ec535d446a962495e0e26ca973",
       "version_major": 2,
       "version_minor": 0
      },
      "text/plain": [
       "HBox(children=(IntProgress(value=0, description='Evaluating on size 6', max=3005, style=ProgressStyle(descript…"
      ]
     },
     "metadata": {},
     "output_type": "display_data"
    },
    {
     "name": "stdout",
     "output_type": "stream",
     "text": [
      "\n",
      "Sample size : 6 \t Test Error 0.001683\n"
     ]
    },
    {
     "data": {
      "application/vnd.jupyter.widget-view+json": {
       "model_id": "5428e7b5e1b44b288fcf58171730d430",
       "version_major": 2,
       "version_minor": 0
      },
      "text/plain": [
       "HBox(children=(IntProgress(value=0, description='Evaluating on size 7', max=3005, style=ProgressStyle(descript…"
      ]
     },
     "metadata": {},
     "output_type": "display_data"
    },
    {
     "name": "stdout",
     "output_type": "stream",
     "text": [
      "\n",
      "Sample size : 7 \t Test Error 0.001563\n"
     ]
    },
    {
     "data": {
      "application/vnd.jupyter.widget-view+json": {
       "model_id": "c1a7997fe7984170bad20291232ea376",
       "version_major": 2,
       "version_minor": 0
      },
      "text/plain": [
       "HBox(children=(IntProgress(value=0, description='Evaluating on size 8', max=3005, style=ProgressStyle(descript…"
      ]
     },
     "metadata": {},
     "output_type": "display_data"
    },
    {
     "name": "stdout",
     "output_type": "stream",
     "text": [
      "\n",
      "Sample size : 8 \t Test Error 0.001489\n"
     ]
    },
    {
     "data": {
      "application/vnd.jupyter.widget-view+json": {
       "model_id": "b2e0dad0e6624eeba46c283587547406",
       "version_major": 2,
       "version_minor": 0
      },
      "text/plain": [
       "HBox(children=(IntProgress(value=0, description='Evaluating on size 9', max=3005, style=ProgressStyle(descript…"
      ]
     },
     "metadata": {},
     "output_type": "display_data"
    },
    {
     "name": "stdout",
     "output_type": "stream",
     "text": [
      "\n",
      "Sample size : 9 \t Test Error 0.001435\n"
     ]
    },
    {
     "data": {
      "application/vnd.jupyter.widget-view+json": {
       "model_id": "8302b0c6e415498b9148d2787d2e61e1",
       "version_major": 2,
       "version_minor": 0
      },
      "text/plain": [
       "HBox(children=(IntProgress(value=0, description='Training on size 1', max=9013, style=ProgressStyle(descriptio…"
      ]
     },
     "metadata": {},
     "output_type": "display_data"
    },
    {
     "name": "stdout",
     "output_type": "stream",
     "text": [
      "\n",
      "Sample size : 1 \t Training Error 0.009556\n"
     ]
    },
    {
     "data": {
      "application/vnd.jupyter.widget-view+json": {
       "model_id": "1ca19376dcba4e538e1ce3244e051d92",
       "version_major": 2,
       "version_minor": 0
      },
      "text/plain": [
       "HBox(children=(IntProgress(value=0, description='Training on size 2', max=9013, style=ProgressStyle(descriptio…"
      ]
     },
     "metadata": {},
     "output_type": "display_data"
    },
    {
     "name": "stdout",
     "output_type": "stream",
     "text": [
      "\n",
      "Sample size : 2 \t Training Error 0.003543\n"
     ]
    },
    {
     "data": {
      "application/vnd.jupyter.widget-view+json": {
       "model_id": "21c200cd9f08469581e1df09b130569e",
       "version_major": 2,
       "version_minor": 0
      },
      "text/plain": [
       "HBox(children=(IntProgress(value=0, description='Training on size 3', max=9013, style=ProgressStyle(descriptio…"
      ]
     },
     "metadata": {},
     "output_type": "display_data"
    },
    {
     "name": "stdout",
     "output_type": "stream",
     "text": [
      "\n",
      "Sample size : 3 \t Training Error 0.002364\n"
     ]
    },
    {
     "data": {
      "application/vnd.jupyter.widget-view+json": {
       "model_id": "aebd185a662548e7a5387076a57ac527",
       "version_major": 2,
       "version_minor": 0
      },
      "text/plain": [
       "HBox(children=(IntProgress(value=0, description='Training on size 4', max=9013, style=ProgressStyle(descriptio…"
      ]
     },
     "metadata": {},
     "output_type": "display_data"
    },
    {
     "name": "stdout",
     "output_type": "stream",
     "text": [
      "\n",
      "Sample size : 4 \t Training Error 0.001940\n"
     ]
    },
    {
     "data": {
      "application/vnd.jupyter.widget-view+json": {
       "model_id": "c5426ebb54ee435195aef25506f17a5e",
       "version_major": 2,
       "version_minor": 0
      },
      "text/plain": [
       "HBox(children=(IntProgress(value=0, description='Training on size 5', max=9013, style=ProgressStyle(descriptio…"
      ]
     },
     "metadata": {},
     "output_type": "display_data"
    },
    {
     "name": "stdout",
     "output_type": "stream",
     "text": [
      "\n",
      "Sample size : 5 \t Training Error 0.001732\n"
     ]
    },
    {
     "data": {
      "application/vnd.jupyter.widget-view+json": {
       "model_id": "e32491f327e944b099b975445e65ef56",
       "version_major": 2,
       "version_minor": 0
      },
      "text/plain": [
       "HBox(children=(IntProgress(value=0, description='Training on size 6', max=9013, style=ProgressStyle(descriptio…"
      ]
     },
     "metadata": {},
     "output_type": "display_data"
    },
    {
     "name": "stdout",
     "output_type": "stream",
     "text": [
      "\n",
      "Sample size : 6 \t Training Error 0.001604\n"
     ]
    },
    {
     "data": {
      "application/vnd.jupyter.widget-view+json": {
       "model_id": "ca97c2f2967649e1a5f790228ef15b5b",
       "version_major": 2,
       "version_minor": 0
      },
      "text/plain": [
       "HBox(children=(IntProgress(value=0, description='Training on size 7', max=9013, style=ProgressStyle(descriptio…"
      ]
     },
     "metadata": {},
     "output_type": "display_data"
    },
    {
     "name": "stdout",
     "output_type": "stream",
     "text": [
      "\n",
      "Sample size : 7 \t Training Error 0.001510\n"
     ]
    },
    {
     "data": {
      "application/vnd.jupyter.widget-view+json": {
       "model_id": "c4ecc7aff8464b0c8f1bd4cb2cba393b",
       "version_major": 2,
       "version_minor": 0
      },
      "text/plain": [
       "HBox(children=(IntProgress(value=0, description='Training on size 8', max=9013, style=ProgressStyle(descriptio…"
      ]
     },
     "metadata": {},
     "output_type": "display_data"
    },
    {
     "name": "stdout",
     "output_type": "stream",
     "text": [
      "\n",
      "Sample size : 8 \t Training Error 0.001439\n"
     ]
    },
    {
     "data": {
      "application/vnd.jupyter.widget-view+json": {
       "model_id": "0c72e9191b0b47a999eeeafb8258663f",
       "version_major": 2,
       "version_minor": 0
      },
      "text/plain": [
       "HBox(children=(IntProgress(value=0, description='Training on size 9', max=9013, style=ProgressStyle(descriptio…"
      ]
     },
     "metadata": {},
     "output_type": "display_data"
    },
    {
     "name": "stdout",
     "output_type": "stream",
     "text": [
      "\n",
      "Sample size : 9 \t Training Error 0.001388\n"
     ]
    },
    {
     "data": {
      "application/vnd.jupyter.widget-view+json": {
       "model_id": "bb92bb239af742d1a0af4762daea9ac3",
       "version_major": 2,
       "version_minor": 0
      },
      "text/plain": [
       "HBox(children=(IntProgress(value=0, description='Evaluating on size 1', max=3005, style=ProgressStyle(descript…"
      ]
     },
     "metadata": {},
     "output_type": "display_data"
    },
    {
     "name": "stdout",
     "output_type": "stream",
     "text": [
      "\n",
      "Sample size : 1 \t Test Error 0.025479\n"
     ]
    },
    {
     "data": {
      "application/vnd.jupyter.widget-view+json": {
       "model_id": "37f9a1caaaa043049687df4db24fb3be",
       "version_major": 2,
       "version_minor": 0
      },
      "text/plain": [
       "HBox(children=(IntProgress(value=0, description='Evaluating on size 2', max=3005, style=ProgressStyle(descript…"
      ]
     },
     "metadata": {},
     "output_type": "display_data"
    },
    {
     "name": "stdout",
     "output_type": "stream",
     "text": [
      "\n",
      "Sample size : 2 \t Test Error 0.005864\n"
     ]
    },
    {
     "data": {
      "application/vnd.jupyter.widget-view+json": {
       "model_id": "5cb4b42b6b9842588336596d808e0ab3",
       "version_major": 2,
       "version_minor": 0
      },
      "text/plain": [
       "HBox(children=(IntProgress(value=0, description='Evaluating on size 3', max=3005, style=ProgressStyle(descript…"
      ]
     },
     "metadata": {},
     "output_type": "display_data"
    },
    {
     "name": "stdout",
     "output_type": "stream",
     "text": [
      "\n",
      "Sample size : 3 \t Test Error 0.002892\n"
     ]
    },
    {
     "data": {
      "application/vnd.jupyter.widget-view+json": {
       "model_id": "58cba7c9c09342daacffba1727b013ec",
       "version_major": 2,
       "version_minor": 0
      },
      "text/plain": [
       "HBox(children=(IntProgress(value=0, description='Evaluating on size 4', max=3005, style=ProgressStyle(descript…"
      ]
     },
     "metadata": {},
     "output_type": "display_data"
    },
    {
     "name": "stdout",
     "output_type": "stream",
     "text": [
      "\n",
      "Sample size : 4 \t Test Error 0.002125\n"
     ]
    },
    {
     "data": {
      "application/vnd.jupyter.widget-view+json": {
       "model_id": "eb187fe3d06b4837a352204f1b201fa6",
       "version_major": 2,
       "version_minor": 0
      },
      "text/plain": [
       "HBox(children=(IntProgress(value=0, description='Evaluating on size 5', max=3005, style=ProgressStyle(descript…"
      ]
     },
     "metadata": {},
     "output_type": "display_data"
    },
    {
     "name": "stdout",
     "output_type": "stream",
     "text": [
      "\n",
      "Sample size : 5 \t Test Error 0.001807\n"
     ]
    },
    {
     "data": {
      "application/vnd.jupyter.widget-view+json": {
       "model_id": "91c146e2f662423ab07a3ea33d719e32",
       "version_major": 2,
       "version_minor": 0
      },
      "text/plain": [
       "HBox(children=(IntProgress(value=0, description='Evaluating on size 6', max=3005, style=ProgressStyle(descript…"
      ]
     },
     "metadata": {},
     "output_type": "display_data"
    },
    {
     "name": "stdout",
     "output_type": "stream",
     "text": [
      "\n",
      "Sample size : 6 \t Test Error 0.001634\n"
     ]
    },
    {
     "data": {
      "application/vnd.jupyter.widget-view+json": {
       "model_id": "273349d031114f8a9710fd8209515ac9",
       "version_major": 2,
       "version_minor": 0
      },
      "text/plain": [
       "HBox(children=(IntProgress(value=0, description='Evaluating on size 7', max=3005, style=ProgressStyle(descript…"
      ]
     },
     "metadata": {},
     "output_type": "display_data"
    }
   ],
   "source": [
    "optimizer = optim.Adam(net.parameters(),lr = 0.0001,)\n",
    "optimizer.zero_grad()\n",
    "\n",
    "def train_or_evaluate(net, data, optimizer, n_samples, mode=\"train\"):\n",
    "    \n",
    "    dataset = CGData(data_dir,data,n_samples)\n",
    "    dataloader = DataLoader(dataset, batch_size=minibatch_size,\n",
    "                         shuffle=False, num_workers=0)\n",
    "    error = 0.0\n",
    "    samples = 0\n",
    "    if mode == \"train\":\n",
    "        net.train()\n",
    "        for x,y in tqdm_notebook(dataloader, desc =\"Training on size \"+str(n_samples)):\n",
    "                #x,y = train_set[i]\n",
    "                x = x.to(device)\n",
    "                y = y.to(device)\n",
    "                output = net.forward(x)\n",
    "                loss = criterion(output,y)\n",
    "                error += loss.item()\n",
    "                loss.backward()\n",
    "                optimizer.step()\n",
    "                optimizer.zero_grad()\n",
    "                samples += 1\n",
    "        error =  error/samples\n",
    "        print(\"Sample size : %d \\t Training Error %f\"%(n_samples, error))\n",
    "\n",
    "    else:\n",
    "        net.eval()\n",
    "        with torch.no_grad():\n",
    "            for x,y in tqdm_notebook(dataloader, desc =\"Evaluating on size \"+str(n_samples)):\n",
    "                #x,y = train_set[i]\n",
    "                x = x.to(device)\n",
    "                y = y.to(device)\n",
    "                output = net.forward(x)\n",
    "                loss = criterion(output,y)\n",
    "                error +=loss.item()\n",
    "                samples += 1\n",
    "        error =  error/samples\n",
    "        print(\"Sample size : %d \\t Test Error %f\"%(n_samples, error))\n",
    "        \n",
    "    return error\n",
    "\n",
    "\n",
    "def training(net, train_ids, test_ids,\n",
    "             model_dir,optimizer,\n",
    "             params,\n",
    "             criterion= nn.MSELoss(),\n",
    "             epochs=1000,\n",
    "             device=torch.device(\"cuda:0\")):\n",
    "    \n",
    "    last_epoch = params[\"epoch\"]\n",
    "    t = params[\"time\"]\n",
    "\n",
    "    \n",
    "    train_loss = 0\n",
    "    scheduler = torch.optim.lr_scheduler.StepLR(optimizer, 5, 0.1)\n",
    "    \n",
    "    # This simulates the Learning rate updates\n",
    "    for _ in range(last_epoch):\n",
    "        scheduler.step()\n",
    "    \n",
    "\n",
    "    for epoch in range(last_epoch+1,epochs):\n",
    "        \n",
    "        start = time.time()\n",
    "        samples = 0\n",
    "        train_loss = 0\n",
    "        \n",
    "        train_ids = list(train_ids)\n",
    "        test_ids = list(test_ids)\n",
    "        np.random.shuffle(train_ids)\n",
    "        np.random.shuffle(test_ids)\n",
    "        \n",
    "\n",
    "        for i in range(1,10):\n",
    "            train_error = train_or_evaluate(net, train_ids, optimizer, i, mode=\"train\")\n",
    "            end = time.time()\n",
    "            t += (end - start)\n",
    "            write(model_dir + \"/train_errors.csv\",[epoch,train_error,t])\n",
    "            torch.save(net.state_dict(), model_dir + \"/nn\"+str(i)+\".pt\")\n",
    "            torch.save(net.state_dict(), model_dir + \"/nn.pt\")\n",
    "\n",
    "        \n",
    "        for i in range(1,10):\n",
    "            test_error = train_or_evaluate(net, test_ids, optimizer, i, mode=\"test\")\n",
    "            end = time.time()\n",
    "            t += (end - start)\n",
    "            write(model_dir + \"/test_errors.csv\",[epoch,test_error,t])\n",
    "\n",
    "        torch.save(net.state_dict(), model_dir + \"/nn.pt\")\n",
    "        \n",
    "        #torch.save(net.state_dict(), model_dir + \"/nn\"+ str(epoch) +\".pt\")\n",
    "\n",
    "        params[\"epoch\"] = epoch\n",
    "        params[\"time\"] = t\n",
    "        f = open(model_dir + \"/params.json\", \"w\")\n",
    "        f.write(json.dumps(params))\n",
    "        f.close()\n",
    "        #if(train_loss>2*best_loss):\n",
    "            #net.load_state_dict(torch.load(model_dir + \"/nn.pt\"))\n",
    "        scheduler.step()\n",
    "\n",
    "\n",
    "training(net, train, test,model_dir,optimizer,params,criterion)"
   ]
  },
  {
   "cell_type": "code",
   "execution_count": null,
   "metadata": {},
   "outputs": [],
   "source": [
    "trainset = CGData(data_dir,train,9)\n",
    "dataloader = DataLoader(trainset, batch_size=minibatch_size,\n",
    "                         shuffle=False, num_workers=0)"
   ]
  },
  {
   "cell_type": "code",
   "execution_count": null,
   "metadata": {},
   "outputs": [],
   "source": [
    "x,y = trainset[10]\n",
    "x = x.unsqueeze(0)\n",
    "xs = torch.split(x,1,dim = 1)\n",
    "xs = [torch.squeeze(x,dim=1) for x in xs]\n",
    "[print(x.size()) for x in xs]\n",
    "y = y.unsqueeze(0)\n",
    "plot(xs)\n",
    "plot([y])"
   ]
  }
 ],
 "metadata": {
  "kernelspec": {
   "display_name": "Python 3",
   "language": "python",
   "name": "python3"
  },
  "language_info": {
   "codemirror_mode": {
    "name": "ipython",
    "version": 3
   },
   "file_extension": ".py",
   "mimetype": "text/x-python",
   "name": "python",
   "nbconvert_exporter": "python",
   "pygments_lexer": "ipython3",
   "version": "3.7.1"
  }
 },
 "nbformat": 4,
 "nbformat_minor": 4
}
