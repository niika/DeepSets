{
 "cells": [
  {
   "cell_type": "code",
   "execution_count": 1,
   "metadata": {},
   "outputs": [],
   "source": [
    "from __future__ import print_function, division\n",
    "import os\n",
    "import torch\n",
    "import pandas as pd\n",
    "from skimage import io\n",
    "import numpy as np\n",
    "import matplotlib.pyplot as plt\n",
    "from torch.utils.data import Dataset, DataLoader\n",
    "from torchvision import transforms, utils,models\n",
    "import cv2\n",
    "import torch.nn as nn\n",
    "import torch.nn.functional as F\n",
    "from scipy.stats import multivariate_normal\n",
    "from scipy import random, linalg\n",
    "from sklearn.model_selection import train_test_split\n",
    "import torch.optim as optim\n",
    "import re\n",
    "import json\n",
    "import time\n",
    "from tqdm import tqdm_notebook\n",
    "\n",
    "import sys\n",
    "from utils import *\n",
    "\n",
    "\n",
    "import time, sys\n",
    "from IPython.display import clear_output\n",
    "\n",
    "def update_progress(progress):\n",
    "    bar_length = 20\n",
    "    if isinstance(progress, int):\n",
    "        progress = float(progress)\n",
    "    if not isinstance(progress, float):\n",
    "        progress = 0\n",
    "    if progress < 0:\n",
    "        progress = 0\n",
    "    if progress >= 1:\n",
    "        progress = 1\n",
    "\n",
    "    block = int(round(bar_length * progress))\n",
    "\n",
    "    clear_output(wait = True)\n",
    "    text = \"Progress: [{0}] {1:.1f}%\".format( \"#\" * block + \"-\" * (bar_length - block), progress * 100)\n",
    "    print(text)"
   ]
  },
  {
   "cell_type": "code",
   "execution_count": 2,
   "metadata": {},
   "outputs": [],
   "source": [
    "from torch.utils.data import Dataset, DataLoader\n",
    "from torchvision import transforms, utils\n",
    "\n",
    "class CGData(Dataset):\n",
    "    \"\"\"Dataset containing all sequences with artifacts\n",
    "    \n",
    "    Generates three distorted images as input data.\n",
    "    \n",
    "    \"\"\"\n",
    "    \n",
    "    def __init__(self, root_dir, indices, sample_size, resize=True):\n",
    "        self.root_dir = root_dir\n",
    "        self.ToPIL = transforms.ToPILImage()\n",
    "        self.ToTensor = transforms.ToTensor()\n",
    "        self.indices = indices\n",
    "        self.resize=resize\n",
    "        self.sample_size = sample_size\n",
    "        \n",
    "        files = os.listdir(root_dir)\n",
    "        match = lambda x: len(re.findall(\"img_\\d+_\\d.jpg\", x))== 1\n",
    "        cut_string = lambda x: eval(re.sub(\"_.*\",\"\",re.sub(\"img_\",\"\",x)))\n",
    "\n",
    "        files = list(filter(match,files))\n",
    "        files = list(map(cut_string,files))\n",
    "\n",
    "\n",
    "        first,last = min(files),max(files)\n",
    "        self.offset = first\n",
    "        self.last = last\n",
    "    \n",
    "    def __len__(self):\n",
    "        return len(self.indices)\n",
    "    \n",
    "    def __getitem__(self, idx):        \n",
    "        \n",
    "        idx = self.indices[idx]\n",
    "        count = 0\n",
    "        img_files = None\n",
    "        imgs = None\n",
    "        label = None\n",
    "        while True:\n",
    "            \n",
    "            n = self.sample_size\n",
    "            nrs = np.random.choice(range(1,10), size=n, replace=False).tolist()\n",
    "            img_files = [self.root_dir +  \"img_\" +str(idx)+ \"_\" + str(nr) + \".jpg\" for nr in nrs]\n",
    "            exists = all([os.path.isfile(img_file) for img_file in img_files])\n",
    "            count+=1\n",
    "            try:\n",
    "                imgs = [cv2.imread(file) for file in img_files]\n",
    "                imgs = [img[...,::-1]- np.zeros_like(img) for img in imgs]\n",
    "\n",
    "                label_file = self.root_dir + \"books/img \" + \"(\"+str(idx - 1)+\").jpg\"\n",
    "                label = cv2.imread(label_file)\n",
    "                label = label[...,::-1]- np.zeros_like(label)\n",
    "                break\n",
    "\n",
    "            except:\n",
    "                idx = np.random.randint(len(self.indices))\n",
    "                idx = self.indices[idx]\n",
    "\n",
    "        \n",
    "        \n",
    "        if self.resize:\n",
    "            label = cv2.resize(label, dsize=(256,256))\n",
    "            imgs = [ cv2.resize(img, dsize=(256,256)) for img in imgs]\n",
    "        \n",
    "\n",
    "        H,W,C = imgs[0].shape\n",
    "        if H<W:\n",
    "            label = np.rot90(label)\n",
    "            label -= np.zeros_like(label)\n",
    "            imgs = [np.rot90(img) for img in imgs]- np.zeros_like(label)\n",
    "        \n",
    "        flip = np.random.randint(-1,3)\n",
    "        if flip < 2:\n",
    "            label = cv2.flip(label,flip)- np.zeros_like(label)\n",
    "            imgs = [cv2.flip(img,flip) for img in imgs]- np.zeros_like(label)\n",
    "\n",
    "        \n",
    "        imgs = [self.ToTensor(img) for img in imgs]\n",
    "        #data = torch.unsqueeze(data,0)\n",
    "        imgs = torch.stack(imgs)\n",
    "        \n",
    "        label = label.astype(np.uint8)\n",
    "        label = self.ToTensor(label)\n",
    "        #label = torch.unsqueeze(label,0)\n",
    "        return imgs, label"
   ]
  },
  {
   "cell_type": "markdown",
   "metadata": {},
   "source": [
    "# Architecture"
   ]
  },
  {
   "cell_type": "code",
   "execution_count": 3,
   "metadata": {},
   "outputs": [],
   "source": [
    "class ResidualBlock(nn.Module):\n",
    "    def __init__(self, in_planes, out_planes):\n",
    "        super(ResidualBlock, self).__init__()\n",
    "        self.conv1 = nn.Conv2d(in_planes, out_planes, kernel_size=3, stride=1, padding=1, bias=True)\n",
    "        self.conv2 = nn.Conv2d(out_planes, out_planes, kernel_size=3, stride=1, padding=1, bias=True)\n",
    "\n",
    "    def forward(self, x):\n",
    "        out = F.relu(self.conv1(x))\n",
    "        out = self.conv2(out)\n",
    "        out += x\n",
    "        return out\n",
    "    \n",
    "class DilatedResidualBlock(nn.Module):\n",
    "    def __init__(self, in_planes, out_planes, dilation):\n",
    "        super(DilatedResidualBlock, self).__init__()\n",
    "        self.conv1 = nn.Conv2d(in_planes, out_planes, kernel_size=3, stride=1, dilation=dilation, padding=dilation, bias=True)\n",
    "        self.conv2 = nn.Conv2d(out_planes, out_planes, kernel_size=3, stride=1, dilation=dilation,padding=dilation, bias=True)\n",
    "\n",
    "    def forward(self, x):\n",
    "        out = F.relu(self.conv1(x))\n",
    "        out = self.conv2(out)\n",
    "        out += x\n",
    "        return out\n",
    "        \n",
    "class DeepSetNet(nn.Module):\n",
    "    \"\"\" Deep Set Residual Neural Network \"\"\"\n",
    "    def __init__(self, encoder_num_blocks=10, decoder_num_blocks=10, smooth_num_blocks=6, planes=32,block=ResidualBlock ):\n",
    "        super(DeepSetNet, self).__init__()\n",
    "        self.planes = planes\n",
    "        self.input = nn.Conv2d(3, self.planes, kernel_size=3, stride=1, padding=1, bias=True)\n",
    "        self.output= nn.Conv2d(self.planes, 3, kernel_size=3, stride=1, padding=1, bias=True)\n",
    "        \n",
    "        \n",
    "        # Create a down-/up-sampling architecture\n",
    "        self.downsample = []\n",
    "        self.upsample = []\n",
    "        n = planes\n",
    "        for i in range(2):\n",
    "            self.downsample.append( nn.Conv2d(in_channels = n, out_channels=n*2, kernel_size=3, stride=2, padding=1 ) )\n",
    "            self.downsample.append(nn.ReLU(inplace=True))\n",
    "\n",
    "            \n",
    "            self.upsample = [nn.ReLU(inplace=True)] + self.upsample\n",
    "            self.upsample = [nn.ConvTranspose2d(in_channels=n*2, out_channels=n, kernel_size=3, stride=2, padding=1, output_padding=1)] + self.upsample\n",
    "            n *= 2\n",
    "\n",
    "        self.downsample = nn.Sequential(*self.downsample)\n",
    "        self.upsample = nn.Sequential(*self.upsample)\n",
    "        \n",
    "        \n",
    "        # Embedding of downsampled features\n",
    "        self.encoder = self._make_layer(block, n, encoder_num_blocks)\n",
    "        self.decoder = self._make_layer(block, n, decoder_num_blocks)\n",
    "        self.smooth  = self._make_smooth_layer(planes, smooth_num_blocks)\n",
    "        \n",
    "    def _make_layer(self, block, planes, num_blocks):\n",
    "        layers = []\n",
    "        for i in range(num_blocks):\n",
    "            layers.append(DilatedResidualBlock(planes, planes,2))\n",
    "        return nn.Sequential(*layers)\n",
    "    \n",
    "    def _make_smooth_layer(self, planes, num_blocks):\n",
    "        layers = []\n",
    "        dilation = 1\n",
    "        for i in range(num_blocks):\n",
    "            layers.append(DilatedResidualBlock(planes,planes,dilation))\n",
    "            if i%2 == 0:\n",
    "                dilation *= 2\n",
    "        layers.append( nn.Conv2d(in_channels = planes, out_channels=planes, kernel_size=3, stride=1, padding=1 ) )\n",
    "        layers.append(nn.ReLU(inplace=True))\n",
    "        layers.append( nn.Conv2d(in_channels = planes, out_channels=planes, kernel_size=3, stride=1, padding=1 ) )\n",
    "        return nn.Sequential(*layers)\n",
    "            \n",
    "        \n",
    "\n",
    "    def forward(self, x):\n",
    "        \"\"\"Forward pass of our DeepSet Network \n",
    "        \n",
    "        x: of tensor of size (B, S, C, H, W)\n",
    "        \"\"\"\n",
    "\n",
    "        xs = torch.split(x,1,dim = 1)\n",
    "        xs = [torch.squeeze(x) for x in xs]\n",
    "        embedding = [self.encoder(self.downsample(self.input(x))) for x in xs]\n",
    "        embedding = torch.stack(embedding).sum(0)\n",
    "        out = self.output(self.smooth(self.upsample(self.decoder(embedding))))\n",
    "\n",
    "        \n",
    "        return out"
   ]
  },
  {
   "cell_type": "code",
   "execution_count": 4,
   "metadata": {},
   "outputs": [
    {
     "name": "stdout",
     "output_type": "stream",
     "text": [
      "The following directory will be used in all further steps:  ./models/\n",
      "6462 126632\n"
     ]
    }
   ],
   "source": [
    "model_dir = \"./models/\"\n",
    "if not os.path.isdir(model_dir):\n",
    "    os.mkdir(model_dir)\n",
    "\n",
    "print(\"The following directory will be used in all further steps:  \" + model_dir)\n",
    "\n",
    "\n",
    "# Create Dataset and split it into Training and test set\n",
    "minibatch_size = 10\n",
    "data_dir = \"D:/250x250/\"\n",
    "files = os.listdir(data_dir)\n",
    "match = lambda x: len(re.findall(\"img_\\d+_\\d.jpg\", x))== 1\n",
    "cut_string = lambda x: eval(re.sub(\"_.*\",\"\",re.sub(\"img_\",\"\",x)))\n",
    "\n",
    "files = list(filter(match,files))\n",
    "files = list(map(cut_string,files))\n",
    "\n",
    "\n",
    "first, last = min(files),max(files)\n",
    "print(first, last)\n",
    "\n",
    "n = last - first + 1\n",
    "train, test = train_test_split(list(range(first, last+1)))\n",
    "#train, test = train_test_split(range(first, first+100))\n",
    "\n",
    "if os.path.isfile(model_dir + \"/trainingIdx.txt\"):\n",
    "    f1 = open(model_dir + \"/trainingIdx.txt\", \"r\")\n",
    "    f2 = open(model_dir + \"/testIdx.txt\", \"r\")\n",
    "    train = eval(f1.read())\n",
    "    test = eval(f2.read())\n",
    "    f1.close()\n",
    "    f2.close()\n",
    "else:\n",
    "    write(model_dir + \"/trainingIdx.txt\",train)\n",
    "    write(model_dir + \"/testIdx.txt\",test)\n",
    "\n",
    "    \n",
    "if os.path.isfile(model_dir + \"/params.json\"):\n",
    "    f = open(model_dir + \"/params.json\", \"r\")\n",
    "    params = json.loads(f.read())\n",
    "    f.close()\n",
    "else:\n",
    "    params = {\n",
    "        \"epoch\": 0,\n",
    "        \"time\": 0,\n",
    "        \"best_loss\": np.inf\n",
    "    }\n",
    "    f = open(model_dir + \"/params.json\", \"w\")\n",
    "    f.write(json.dumps(params))\n",
    "    f.close()\n",
    "\n",
    "\n",
    "device = torch.device(\"cuda:0\")\n",
    "\n",
    "# Initialize Neural Network\n",
    "net = DeepSetNet(encoder_num_blocks=10, decoder_num_blocks=5, planes=18)\n",
    "\n",
    "if  os.path.isfile(model_dir + \"/nn.pt\"):\n",
    "    net.load_state_dict(torch.load(model_dir + \"/nn.pt\"))\n",
    "\n",
    "net = net.to(device)\n",
    "\n",
    "criterion = nn.MSELoss()\n",
    "epochs = 10000"
   ]
  },
  {
   "cell_type": "code",
   "execution_count": 5,
   "metadata": {},
   "outputs": [
    {
     "data": {
      "application/vnd.jupyter.widget-view+json": {
       "model_id": "2dce0f5df1314ecea51857dd5e291451",
       "version_major": 2,
       "version_minor": 0
      },
      "text/plain": [
       "HBox(children=(IntProgress(value=0, description='Sample size 1', max=8, style=ProgressStyle(description_width=…"
      ]
     },
     "metadata": {},
     "output_type": "display_data"
    },
    {
     "name": "stdout",
     "output_type": "stream",
     "text": [
      "\n",
      "Sample size : 1 \t Training Error 0.341379\n"
     ]
    },
    {
     "data": {
      "application/vnd.jupyter.widget-view+json": {
       "model_id": "d136f3ec0fc24357a46179c53274c735",
       "version_major": 2,
       "version_minor": 0
      },
      "text/plain": [
       "HBox(children=(IntProgress(value=0, description='Sample size 2', max=8, style=ProgressStyle(description_width=…"
      ]
     },
     "metadata": {},
     "output_type": "display_data"
    },
    {
     "name": "stdout",
     "output_type": "stream",
     "text": [
      "\n",
      "Sample size : 2 \t Training Error 0.167614\n"
     ]
    },
    {
     "data": {
      "application/vnd.jupyter.widget-view+json": {
       "model_id": "1cf1d818bbd34f8cabdb1df0af6ad831",
       "version_major": 2,
       "version_minor": 0
      },
      "text/plain": [
       "HBox(children=(IntProgress(value=0, description='Sample size 3', max=8, style=ProgressStyle(description_width=…"
      ]
     },
     "metadata": {},
     "output_type": "display_data"
    },
    {
     "name": "stdout",
     "output_type": "stream",
     "text": [
      "\n",
      "Sample size : 3 \t Training Error 0.094308\n"
     ]
    },
    {
     "data": {
      "application/vnd.jupyter.widget-view+json": {
       "model_id": "654d5ae7a2e14c37b366bda9386ff931",
       "version_major": 2,
       "version_minor": 0
      },
      "text/plain": [
       "HBox(children=(IntProgress(value=0, description='Sample size 4', max=8, style=ProgressStyle(description_width=…"
      ]
     },
     "metadata": {},
     "output_type": "display_data"
    },
    {
     "name": "stdout",
     "output_type": "stream",
     "text": [
      "\n",
      "Sample size : 4 \t Training Error 0.112352\n"
     ]
    },
    {
     "data": {
      "application/vnd.jupyter.widget-view+json": {
       "model_id": "e8910f3f9df742f1b28237fa02f8116b",
       "version_major": 2,
       "version_minor": 0
      },
      "text/plain": [
       "HBox(children=(IntProgress(value=0, description='Sample size 5', max=8, style=ProgressStyle(description_width=…"
      ]
     },
     "metadata": {},
     "output_type": "display_data"
    },
    {
     "name": "stdout",
     "output_type": "stream",
     "text": [
      "\n",
      "Sample size : 5 \t Training Error 0.074414\n"
     ]
    },
    {
     "data": {
      "application/vnd.jupyter.widget-view+json": {
       "model_id": "670a4d55317c4fb1a7297d75a564736f",
       "version_major": 2,
       "version_minor": 0
      },
      "text/plain": [
       "HBox(children=(IntProgress(value=0, description='Sample size 6', max=8, style=ProgressStyle(description_width=…"
      ]
     },
     "metadata": {},
     "output_type": "display_data"
    },
    {
     "name": "stdout",
     "output_type": "stream",
     "text": [
      "\n",
      "Sample size : 6 \t Training Error 0.064462\n"
     ]
    },
    {
     "data": {
      "application/vnd.jupyter.widget-view+json": {
       "model_id": "af6e95a443834d6d90201aaf6dc4e095",
       "version_major": 2,
       "version_minor": 0
      },
      "text/plain": [
       "HBox(children=(IntProgress(value=0, description='Sample size 7', max=8, style=ProgressStyle(description_width=…"
      ]
     },
     "metadata": {},
     "output_type": "display_data"
    },
    {
     "name": "stdout",
     "output_type": "stream",
     "text": [
      "\n",
      "Sample size : 7 \t Training Error 0.062911\n"
     ]
    },
    {
     "data": {
      "application/vnd.jupyter.widget-view+json": {
       "model_id": "b333e3bdcc7a4b169c8a7d74e0a9d094",
       "version_major": 2,
       "version_minor": 0
      },
      "text/plain": [
       "HBox(children=(IntProgress(value=0, description='Sample size 8', max=8, style=ProgressStyle(description_width=…"
      ]
     },
     "metadata": {},
     "output_type": "display_data"
    },
    {
     "name": "stdout",
     "output_type": "stream",
     "text": [
      "\n",
      "Sample size : 8 \t Training Error 0.057181\n"
     ]
    },
    {
     "data": {
      "application/vnd.jupyter.widget-view+json": {
       "model_id": "b3c92d5c689f4f64af61b4bd4167a426",
       "version_major": 2,
       "version_minor": 0
      },
      "text/plain": [
       "HBox(children=(IntProgress(value=0, description='Sample size 9', max=8, style=ProgressStyle(description_width=…"
      ]
     },
     "metadata": {},
     "output_type": "display_data"
    },
    {
     "name": "stdout",
     "output_type": "stream",
     "text": [
      "\n",
      "Sample size : 9 \t Training Error 0.051036\n"
     ]
    },
    {
     "data": {
      "application/vnd.jupyter.widget-view+json": {
       "model_id": "edbafe11a5b7408d85f3727579e53307",
       "version_major": 2,
       "version_minor": 0
      },
      "text/plain": [
       "HBox(children=(IntProgress(value=0, description='Sample size1', max=3, style=ProgressStyle(description_width='…"
      ]
     },
     "metadata": {},
     "output_type": "display_data"
    },
    {
     "name": "stdout",
     "output_type": "stream",
     "text": [
      "\n",
      "Sample size : 1 \t Test Error 0.292071\n"
     ]
    },
    {
     "data": {
      "application/vnd.jupyter.widget-view+json": {
       "model_id": "546a7dea00c949c882bb94c210c4e17f",
       "version_major": 2,
       "version_minor": 0
      },
      "text/plain": [
       "HBox(children=(IntProgress(value=0, description='Sample size2', max=3, style=ProgressStyle(description_width='…"
      ]
     },
     "metadata": {},
     "output_type": "display_data"
    },
    {
     "name": "stdout",
     "output_type": "stream",
     "text": [
      "\n",
      "Sample size : 2 \t Test Error 0.243234\n"
     ]
    },
    {
     "data": {
      "application/vnd.jupyter.widget-view+json": {
       "model_id": "8b81d8c86c514a638545aefe5c3c2cfc",
       "version_major": 2,
       "version_minor": 0
      },
      "text/plain": [
       "HBox(children=(IntProgress(value=0, description='Sample size3', max=3, style=ProgressStyle(description_width='…"
      ]
     },
     "metadata": {},
     "output_type": "display_data"
    },
    {
     "name": "stdout",
     "output_type": "stream",
     "text": [
      "\n",
      "Sample size : 3 \t Test Error 0.201810\n"
     ]
    },
    {
     "data": {
      "application/vnd.jupyter.widget-view+json": {
       "model_id": "b18a7c4fd7d544d4bb420bcc5806ec5b",
       "version_major": 2,
       "version_minor": 0
      },
      "text/plain": [
       "HBox(children=(IntProgress(value=0, description='Sample size4', max=3, style=ProgressStyle(description_width='…"
      ]
     },
     "metadata": {},
     "output_type": "display_data"
    },
    {
     "name": "stdout",
     "output_type": "stream",
     "text": [
      "\n",
      "Sample size : 4 \t Test Error 0.158813\n"
     ]
    },
    {
     "data": {
      "application/vnd.jupyter.widget-view+json": {
       "model_id": "5ed9f5fe7eaf46529c294e2ca0561f3e",
       "version_major": 2,
       "version_minor": 0
      },
      "text/plain": [
       "HBox(children=(IntProgress(value=0, description='Sample size5', max=3, style=ProgressStyle(description_width='…"
      ]
     },
     "metadata": {},
     "output_type": "display_data"
    },
    {
     "name": "stdout",
     "output_type": "stream",
     "text": [
      "\n",
      "Sample size : 5 \t Test Error 0.128638\n"
     ]
    },
    {
     "data": {
      "application/vnd.jupyter.widget-view+json": {
       "model_id": "9d4e8a00096e49278322d3b4fad5919a",
       "version_major": 2,
       "version_minor": 0
      },
      "text/plain": [
       "HBox(children=(IntProgress(value=0, description='Sample size6', max=3, style=ProgressStyle(description_width='…"
      ]
     },
     "metadata": {},
     "output_type": "display_data"
    },
    {
     "name": "stdout",
     "output_type": "stream",
     "text": [
      "\n",
      "Sample size : 6 \t Test Error 0.099109\n"
     ]
    },
    {
     "data": {
      "application/vnd.jupyter.widget-view+json": {
       "model_id": "90bfa63f033346f0afa928a44a5bccc4",
       "version_major": 2,
       "version_minor": 0
      },
      "text/plain": [
       "HBox(children=(IntProgress(value=0, description='Sample size7', max=3, style=ProgressStyle(description_width='…"
      ]
     },
     "metadata": {},
     "output_type": "display_data"
    },
    {
     "name": "stdout",
     "output_type": "stream",
     "text": [
      "\n",
      "Sample size : 7 \t Test Error 0.077879\n"
     ]
    },
    {
     "data": {
      "application/vnd.jupyter.widget-view+json": {
       "model_id": "8a0eba3433344a3e839b6f019eccda45",
       "version_major": 2,
       "version_minor": 0
      },
      "text/plain": [
       "HBox(children=(IntProgress(value=0, description='Sample size8', max=3, style=ProgressStyle(description_width='…"
      ]
     },
     "metadata": {},
     "output_type": "display_data"
    },
    {
     "name": "stdout",
     "output_type": "stream",
     "text": [
      "\n",
      "Sample size : 8 \t Test Error 0.060819\n"
     ]
    },
    {
     "data": {
      "application/vnd.jupyter.widget-view+json": {
       "model_id": "dd705f07714743769511a5cf2799fcbb",
       "version_major": 2,
       "version_minor": 0
      },
      "text/plain": [
       "HBox(children=(IntProgress(value=0, description='Sample size9', max=3, style=ProgressStyle(description_width='…"
      ]
     },
     "metadata": {},
     "output_type": "display_data"
    },
    {
     "name": "stdout",
     "output_type": "stream",
     "text": [
      "\n",
      "Sample size : 9 \t Test Error 0.050554\n"
     ]
    },
    {
     "data": {
      "application/vnd.jupyter.widget-view+json": {
       "model_id": "a91b09147ecd44168d383cae1d574fdd",
       "version_major": 2,
       "version_minor": 0
      },
      "text/plain": [
       "HBox(children=(IntProgress(value=0, description='Sample size 1', max=8, style=ProgressStyle(description_width=…"
      ]
     },
     "metadata": {},
     "output_type": "display_data"
    },
    {
     "name": "stdout",
     "output_type": "stream",
     "text": [
      "\n",
      "Sample size : 1 \t Training Error 0.205611\n"
     ]
    },
    {
     "data": {
      "application/vnd.jupyter.widget-view+json": {
       "model_id": "ce6fb54384fd40e38e43c68041be46f8",
       "version_major": 2,
       "version_minor": 0
      },
      "text/plain": [
       "HBox(children=(IntProgress(value=0, description='Sample size 2', max=8, style=ProgressStyle(description_width=…"
      ]
     },
     "metadata": {},
     "output_type": "display_data"
    },
    {
     "name": "stdout",
     "output_type": "stream",
     "text": [
      "\n",
      "Sample size : 2 \t Training Error 0.086602\n"
     ]
    },
    {
     "data": {
      "application/vnd.jupyter.widget-view+json": {
       "model_id": "59c2e5d851eb44edab3d9543c08b648a",
       "version_major": 2,
       "version_minor": 0
      },
      "text/plain": [
       "HBox(children=(IntProgress(value=0, description='Sample size 3', max=8, style=ProgressStyle(description_width=…"
      ]
     },
     "metadata": {},
     "output_type": "display_data"
    },
    {
     "name": "stdout",
     "output_type": "stream",
     "text": [
      "\n",
      "Sample size : 3 \t Training Error 0.055763\n"
     ]
    },
    {
     "data": {
      "application/vnd.jupyter.widget-view+json": {
       "model_id": "0394ad17b990407c8acf59bca7ff37a1",
       "version_major": 2,
       "version_minor": 0
      },
      "text/plain": [
       "HBox(children=(IntProgress(value=0, description='Sample size 4', max=8, style=ProgressStyle(description_width=…"
      ]
     },
     "metadata": {},
     "output_type": "display_data"
    },
    {
     "name": "stdout",
     "output_type": "stream",
     "text": [
      "\n",
      "Sample size : 4 \t Training Error 0.049115\n"
     ]
    },
    {
     "data": {
      "application/vnd.jupyter.widget-view+json": {
       "model_id": "b0c7f095d7494c10aa147e3f2bab42a6",
       "version_major": 2,
       "version_minor": 0
      },
      "text/plain": [
       "HBox(children=(IntProgress(value=0, description='Sample size 5', max=8, style=ProgressStyle(description_width=…"
      ]
     },
     "metadata": {},
     "output_type": "display_data"
    },
    {
     "name": "stdout",
     "output_type": "stream",
     "text": [
      "\n",
      "Sample size : 5 \t Training Error 0.049649\n"
     ]
    },
    {
     "ename": "KeyboardInterrupt",
     "evalue": "",
     "output_type": "error",
     "traceback": [
      "\u001b[1;31m---------------------------------------------------------------------------\u001b[0m",
      "\u001b[1;31mKeyboardInterrupt\u001b[0m                         Traceback (most recent call last)",
      "\u001b[1;32m<ipython-input-5-c605276f6391>\u001b[0m in \u001b[0;36m<module>\u001b[1;34m\u001b[0m\n\u001b[0;32m    102\u001b[0m \u001b[1;33m\u001b[0m\u001b[0m\n\u001b[0;32m    103\u001b[0m \u001b[1;33m\u001b[0m\u001b[0m\n\u001b[1;32m--> 104\u001b[1;33m \u001b[0mtraining\u001b[0m\u001b[1;33m(\u001b[0m\u001b[0mnet\u001b[0m\u001b[1;33m,\u001b[0m \u001b[0mtrain\u001b[0m\u001b[1;33m,\u001b[0m \u001b[0mtest\u001b[0m\u001b[1;33m,\u001b[0m\u001b[0mmodel_dir\u001b[0m\u001b[1;33m,\u001b[0m\u001b[0moptimizer\u001b[0m\u001b[1;33m,\u001b[0m\u001b[0mparams\u001b[0m\u001b[1;33m,\u001b[0m\u001b[0mcriterion\u001b[0m\u001b[1;33m)\u001b[0m\u001b[1;33m\u001b[0m\u001b[1;33m\u001b[0m\u001b[0m\n\u001b[0m",
      "\u001b[1;32m<ipython-input-5-c605276f6391>\u001b[0m in \u001b[0;36mtraining\u001b[1;34m(net, train_ids, test_ids, model_dir, optimizer, params, criterion, epochs, device)\u001b[0m\n\u001b[0;32m     75\u001b[0m \u001b[1;33m\u001b[0m\u001b[0m\n\u001b[0;32m     76\u001b[0m         \u001b[1;32mfor\u001b[0m \u001b[0mi\u001b[0m \u001b[1;32min\u001b[0m \u001b[0mrange\u001b[0m\u001b[1;33m(\u001b[0m\u001b[1;36m1\u001b[0m\u001b[1;33m,\u001b[0m\u001b[1;36m10\u001b[0m\u001b[1;33m)\u001b[0m\u001b[1;33m:\u001b[0m\u001b[1;33m\u001b[0m\u001b[1;33m\u001b[0m\u001b[0m\n\u001b[1;32m---> 77\u001b[1;33m             \u001b[0mtrain_error\u001b[0m \u001b[1;33m=\u001b[0m \u001b[0mtrain_or_evaluate\u001b[0m\u001b[1;33m(\u001b[0m\u001b[0mnet\u001b[0m\u001b[1;33m,\u001b[0m \u001b[0mtrain_ids\u001b[0m\u001b[1;33m,\u001b[0m \u001b[0moptimizer\u001b[0m\u001b[1;33m,\u001b[0m \u001b[0mi\u001b[0m\u001b[1;33m,\u001b[0m \u001b[0mmode\u001b[0m\u001b[1;33m=\u001b[0m\u001b[1;34m\"train\"\u001b[0m\u001b[1;33m)\u001b[0m\u001b[1;33m\u001b[0m\u001b[1;33m\u001b[0m\u001b[0m\n\u001b[0m\u001b[0;32m     78\u001b[0m             \u001b[0mend\u001b[0m \u001b[1;33m=\u001b[0m \u001b[0mtime\u001b[0m\u001b[1;33m.\u001b[0m\u001b[0mtime\u001b[0m\u001b[1;33m(\u001b[0m\u001b[1;33m)\u001b[0m\u001b[1;33m\u001b[0m\u001b[1;33m\u001b[0m\u001b[0m\n\u001b[0;32m     79\u001b[0m             \u001b[0mt\u001b[0m \u001b[1;33m+=\u001b[0m \u001b[1;33m(\u001b[0m\u001b[0mend\u001b[0m \u001b[1;33m-\u001b[0m \u001b[0mstart\u001b[0m\u001b[1;33m)\u001b[0m\u001b[1;33m\u001b[0m\u001b[1;33m\u001b[0m\u001b[0m\n",
      "\u001b[1;32m<ipython-input-5-c605276f6391>\u001b[0m in \u001b[0;36mtrain_or_evaluate\u001b[1;34m(net, data, optimizer, n_samples, mode)\u001b[0m\n\u001b[0;32m      4\u001b[0m \u001b[1;32mdef\u001b[0m \u001b[0mtrain_or_evaluate\u001b[0m\u001b[1;33m(\u001b[0m\u001b[0mnet\u001b[0m\u001b[1;33m,\u001b[0m \u001b[0mdata\u001b[0m\u001b[1;33m,\u001b[0m \u001b[0moptimizer\u001b[0m\u001b[1;33m,\u001b[0m \u001b[0mn_samples\u001b[0m\u001b[1;33m,\u001b[0m \u001b[0mmode\u001b[0m\u001b[1;33m=\u001b[0m\u001b[1;34m\"train\"\u001b[0m\u001b[1;33m)\u001b[0m\u001b[1;33m:\u001b[0m\u001b[1;33m\u001b[0m\u001b[1;33m\u001b[0m\u001b[0m\n\u001b[0;32m      5\u001b[0m \u001b[1;33m\u001b[0m\u001b[0m\n\u001b[1;32m----> 6\u001b[1;33m     \u001b[0mdataset\u001b[0m \u001b[1;33m=\u001b[0m \u001b[0mCGData\u001b[0m\u001b[1;33m(\u001b[0m\u001b[0mdata_dir\u001b[0m\u001b[1;33m,\u001b[0m\u001b[0mdata\u001b[0m\u001b[1;33m,\u001b[0m\u001b[0mn_samples\u001b[0m\u001b[1;33m)\u001b[0m\u001b[1;33m\u001b[0m\u001b[1;33m\u001b[0m\u001b[0m\n\u001b[0m\u001b[0;32m      7\u001b[0m     dataloader = DataLoader(dataset, batch_size=minibatch_size,\n\u001b[0;32m      8\u001b[0m                          shuffle=False, num_workers=0)\n",
      "\u001b[1;32m<ipython-input-2-15fc32847392>\u001b[0m in \u001b[0;36m__init__\u001b[1;34m(self, root_dir, indices, sample_size, resize)\u001b[0m\n\u001b[0;32m     21\u001b[0m         \u001b[0mcut_string\u001b[0m \u001b[1;33m=\u001b[0m \u001b[1;32mlambda\u001b[0m \u001b[0mx\u001b[0m\u001b[1;33m:\u001b[0m \u001b[0meval\u001b[0m\u001b[1;33m(\u001b[0m\u001b[0mre\u001b[0m\u001b[1;33m.\u001b[0m\u001b[0msub\u001b[0m\u001b[1;33m(\u001b[0m\u001b[1;34m\"_.*\"\u001b[0m\u001b[1;33m,\u001b[0m\u001b[1;34m\"\"\u001b[0m\u001b[1;33m,\u001b[0m\u001b[0mre\u001b[0m\u001b[1;33m.\u001b[0m\u001b[0msub\u001b[0m\u001b[1;33m(\u001b[0m\u001b[1;34m\"img_\"\u001b[0m\u001b[1;33m,\u001b[0m\u001b[1;34m\"\"\u001b[0m\u001b[1;33m,\u001b[0m\u001b[0mx\u001b[0m\u001b[1;33m)\u001b[0m\u001b[1;33m)\u001b[0m\u001b[1;33m)\u001b[0m\u001b[1;33m\u001b[0m\u001b[1;33m\u001b[0m\u001b[0m\n\u001b[0;32m     22\u001b[0m \u001b[1;33m\u001b[0m\u001b[0m\n\u001b[1;32m---> 23\u001b[1;33m         \u001b[0mfiles\u001b[0m \u001b[1;33m=\u001b[0m \u001b[0mlist\u001b[0m\u001b[1;33m(\u001b[0m\u001b[0mfilter\u001b[0m\u001b[1;33m(\u001b[0m\u001b[0mmatch\u001b[0m\u001b[1;33m,\u001b[0m\u001b[0mfiles\u001b[0m\u001b[1;33m)\u001b[0m\u001b[1;33m)\u001b[0m\u001b[1;33m\u001b[0m\u001b[1;33m\u001b[0m\u001b[0m\n\u001b[0m\u001b[0;32m     24\u001b[0m         \u001b[0mfiles\u001b[0m \u001b[1;33m=\u001b[0m \u001b[0mlist\u001b[0m\u001b[1;33m(\u001b[0m\u001b[0mmap\u001b[0m\u001b[1;33m(\u001b[0m\u001b[0mcut_string\u001b[0m\u001b[1;33m,\u001b[0m\u001b[0mfiles\u001b[0m\u001b[1;33m)\u001b[0m\u001b[1;33m)\u001b[0m\u001b[1;33m\u001b[0m\u001b[1;33m\u001b[0m\u001b[0m\n\u001b[0;32m     25\u001b[0m \u001b[1;33m\u001b[0m\u001b[0m\n",
      "\u001b[1;32m<ipython-input-2-15fc32847392>\u001b[0m in \u001b[0;36m<lambda>\u001b[1;34m(x)\u001b[0m\n\u001b[0;32m     18\u001b[0m \u001b[1;33m\u001b[0m\u001b[0m\n\u001b[0;32m     19\u001b[0m         \u001b[0mfiles\u001b[0m \u001b[1;33m=\u001b[0m \u001b[0mos\u001b[0m\u001b[1;33m.\u001b[0m\u001b[0mlistdir\u001b[0m\u001b[1;33m(\u001b[0m\u001b[0mroot_dir\u001b[0m\u001b[1;33m)\u001b[0m\u001b[1;33m\u001b[0m\u001b[1;33m\u001b[0m\u001b[0m\n\u001b[1;32m---> 20\u001b[1;33m         \u001b[0mmatch\u001b[0m \u001b[1;33m=\u001b[0m \u001b[1;32mlambda\u001b[0m \u001b[0mx\u001b[0m\u001b[1;33m:\u001b[0m \u001b[0mlen\u001b[0m\u001b[1;33m(\u001b[0m\u001b[0mre\u001b[0m\u001b[1;33m.\u001b[0m\u001b[0mfindall\u001b[0m\u001b[1;33m(\u001b[0m\u001b[1;34m\"img_\\d+_\\d.jpg\"\u001b[0m\u001b[1;33m,\u001b[0m \u001b[0mx\u001b[0m\u001b[1;33m)\u001b[0m\u001b[1;33m)\u001b[0m\u001b[1;33m==\u001b[0m \u001b[1;36m1\u001b[0m\u001b[1;33m\u001b[0m\u001b[1;33m\u001b[0m\u001b[0m\n\u001b[0m\u001b[0;32m     21\u001b[0m         \u001b[0mcut_string\u001b[0m \u001b[1;33m=\u001b[0m \u001b[1;32mlambda\u001b[0m \u001b[0mx\u001b[0m\u001b[1;33m:\u001b[0m \u001b[0meval\u001b[0m\u001b[1;33m(\u001b[0m\u001b[0mre\u001b[0m\u001b[1;33m.\u001b[0m\u001b[0msub\u001b[0m\u001b[1;33m(\u001b[0m\u001b[1;34m\"_.*\"\u001b[0m\u001b[1;33m,\u001b[0m\u001b[1;34m\"\"\u001b[0m\u001b[1;33m,\u001b[0m\u001b[0mre\u001b[0m\u001b[1;33m.\u001b[0m\u001b[0msub\u001b[0m\u001b[1;33m(\u001b[0m\u001b[1;34m\"img_\"\u001b[0m\u001b[1;33m,\u001b[0m\u001b[1;34m\"\"\u001b[0m\u001b[1;33m,\u001b[0m\u001b[0mx\u001b[0m\u001b[1;33m)\u001b[0m\u001b[1;33m)\u001b[0m\u001b[1;33m)\u001b[0m\u001b[1;33m\u001b[0m\u001b[1;33m\u001b[0m\u001b[0m\n\u001b[0;32m     22\u001b[0m \u001b[1;33m\u001b[0m\u001b[0m\n",
      "\u001b[1;31mKeyboardInterrupt\u001b[0m: "
     ]
    }
   ],
   "source": [
    "optimizer = optim.Adam(net.parameters(),lr = 0.0001,)\n",
    "optimizer.zero_grad()\n",
    "\n",
    "def train_or_evaluate(net, data, optimizer, n_samples, mode=\"train\"):\n",
    "    \n",
    "    dataset = CGData(data_dir,data,n_samples)\n",
    "    dataloader = DataLoader(dataset, batch_size=minibatch_size,\n",
    "                         shuffle=False, num_workers=0)\n",
    "    error = 0.0\n",
    "    samples = 0\n",
    "    if mode == \"train\":\n",
    "        net.train()\n",
    "        for x,y in tqdm_notebook(dataloader, desc =\"Sample size \"+str(n_samples)):\n",
    "                #x,y = train_set[i]\n",
    "                x = x.to(device)\n",
    "                y = y.to(device)\n",
    "                output = net.forward(x)\n",
    "                loss = criterion(output,y)\n",
    "                error += loss.item()\n",
    "                loss.backward()\n",
    "                optimizer.step()\n",
    "                optimizer.zero_grad()\n",
    "                samples += 1\n",
    "        error =  error/samples\n",
    "        print(\"Sample size : %d \\t Training Error %f\"%(n_samples, error))\n",
    "\n",
    "    else:\n",
    "        net.eval()\n",
    "        with torch.no_grad():\n",
    "            for x,y in tqdm_notebook(dataloader, desc =\"Sample size\"+str(n_samples)):\n",
    "                #x,y = train_set[i]\n",
    "                x = x.to(device)\n",
    "                y = y.to(device)\n",
    "                output = net.forward(x)\n",
    "                loss = criterion(output,y)\n",
    "                error +=loss.item()\n",
    "                samples += 1\n",
    "        error =  error/samples\n",
    "        print(\"Sample size : %d \\t Test Error %f\"%(n_samples, error))\n",
    "        \n",
    "    return error\n",
    "\n",
    "\n",
    "def training(net, train_ids, test_ids,\n",
    "             model_dir,optimizer,\n",
    "             params,\n",
    "             criterion= nn.MSELoss(),\n",
    "             epochs=1000,\n",
    "             device=torch.device(\"cuda:0\")):\n",
    "    \n",
    "    last_epoch = params[\"epoch\"]\n",
    "    best_loss =  params[\"best_loss\"]\n",
    "    t = params[\"time\"]\n",
    "\n",
    "    \n",
    "    train_loss = 0\n",
    "    scheduler = torch.optim.lr_scheduler.StepLR(optimizer, 5, 0.1)\n",
    "    \n",
    "    # This simulates the Learning rate updates\n",
    "    for _ in range(last_epoch):\n",
    "        scheduler.step()\n",
    "    \n",
    "\n",
    "    for epoch in range(last_epoch+1,epochs):\n",
    "        \n",
    "        start = time.time()\n",
    "        samples = 0\n",
    "        train_loss = 0\n",
    "        \n",
    "        train_ids = list(train_ids)\n",
    "        test_ids = list(test_ids)\n",
    "        np.random.shuffle(train_ids)\n",
    "        np.random.shuffle(test_ids)\n",
    "        \n",
    "\n",
    "        for i in range(1,10):\n",
    "            train_error = train_or_evaluate(net, train_ids, optimizer, i, mode=\"train\")\n",
    "            end = time.time()\n",
    "            t += (end - start)\n",
    "            write(model_dir + \"/train_errors.csv\",[epoch,train_error,t])\n",
    "        \n",
    "        for i in range(1,10):\n",
    "            test_error = train_or_evaluate(net, test_ids, optimizer, i, mode=\"test\")\n",
    "            end = time.time()\n",
    "            t += (end - start)\n",
    "            write(model_dir + \"/test_errors.csv\",[epoch,test_error,t])\n",
    "\n",
    "        torch.save(net.state_dict(), model_dir + \"/nn.pt\")\n",
    "        \n",
    "        #torch.save(net.state_dict(), model_dir + \"/nn\"+ str(epoch) +\".pt\")\n",
    "\n",
    "            \n",
    "        params[\"best_loss\"] = best_loss\n",
    "        params[\"epoch\"] = epoch\n",
    "        params[\"time\"] = t\n",
    "        f = open(model_dir + \"/params.json\", \"w\")\n",
    "        f.write(json.dumps(params))\n",
    "        f.close()\n",
    "        #if(train_loss>2*best_loss):\n",
    "            #net.load_state_dict(torch.load(model_dir + \"/nn.pt\"))\n",
    "        scheduler.step()\n",
    "\n",
    "\n",
    "training(net, train, test,model_dir,optimizer,params,criterion)"
   ]
  }
 ],
 "metadata": {
  "kernelspec": {
   "display_name": "Python 3",
   "language": "python",
   "name": "python3"
  },
  "language_info": {
   "codemirror_mode": {
    "name": "ipython",
    "version": 3
   },
   "file_extension": ".py",
   "mimetype": "text/x-python",
   "name": "python",
   "nbconvert_exporter": "python",
   "pygments_lexer": "ipython3",
   "version": "3.7.1"
  }
 },
 "nbformat": 4,
 "nbformat_minor": 4
}
